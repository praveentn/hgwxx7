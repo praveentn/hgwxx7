{
  "cells": [
    {
      "cell_type": "code",
      "execution_count": 9,
      "metadata": {
        "trusted": true
      },
      "outputs": [
        {
          "data": {
            "text/html": "<h3>Version Information</h3><table><tr><th>Qiskit Software</th><th>Version</th></tr><tr><td>Qiskit</td><td>0.20.1</td></tr><tr><td>Terra</td><td>0.15.2</td></tr><tr><td>Aer</td><td>0.6.1</td></tr><tr><td>Ignis</td><td>0.4.0</td></tr><tr><td>Aqua</td><td>0.7.5</td></tr><tr><td>IBM Q Provider</td><td>0.8.0</td></tr><tr><th>System information</th></tr><tr><td>Python</td><td>3.7.8 | packaged by conda-forge | (default, Jul 31 2020, 02:25:08) \n[GCC 7.5.0]</td></tr><tr><td>OS</td><td>Linux</td></tr><tr><td>CPUs</td><td>8</td></tr><tr><td>Memory (Gb)</td><td>31.40900421142578</td></tr><tr><td colspan='2'>Tue Oct 13 11:53:29 2020 UTC</td></tr></table>",
            "text/plain": "<IPython.core.display.HTML object>"
          },
          "metadata": {},
          "output_type": "display_data"
        },
        {
          "data": {
            "text/html": "<div style='width: 100%; background-color:#d5d9e0;padding-left: 10px; padding-bottom: 10px; padding-right: 10px; padding-top: 5px'><h3>This code is a part of Qiskit</h3><p>&copy; Copyright IBM 2017, 2020.</p><p>This code is licensed under the Apache License, Version 2.0. You may<br>obtain a copy of this license in the LICENSE.txt file in the root directory<br> of this source tree or at http://www.apache.org/licenses/LICENSE-2.0.<p>Any modifications or derivative works of this code must retain this<br>copyright notice, and modified files need to carry a notice indicating<br>that they have been altered from the originals.</p></div>",
            "text/plain": "<IPython.core.display.HTML object>"
          },
          "metadata": {},
          "output_type": "display_data"
        }
      ],
      "source": "import qiskit.tools.jupyter\n%qiskit_version_table\n%qiskit_copyright"
    },
    {
      "cell_type": "code",
      "execution_count": 1,
      "metadata": {
        "trusted": true
      },
      "outputs": [
        {
          "name": "stderr",
          "output_type": "stream",
          "text": "/opt/conda/lib/python3.7/site-packages/qiskit/providers/ibmq/ibmqfactory.py:192: UserWarning: Timestamps in IBMQ backend properties, jobs, and job results are all now in local time instead of UTC.\n  warnings.warn('Timestamps in IBMQ backend properties, jobs, and job results '\n"
        }
      ],
      "source": "%matplotlib inline\n# Importing standard Qiskit libraries and configuring account\nfrom qiskit import QuantumCircuit, execute, Aer, IBMQ\nfrom qiskit.compiler import transpile, assemble\nfrom qiskit.tools.jupyter import *\nfrom qiskit.visualization import *\n# Loading your IBM Q account(s)\nprovider = IBMQ.load_account()"
    },
    {
      "cell_type": "code",
      "execution_count": 2,
      "metadata": {
        "trusted": true
      },
      "outputs": [],
      "source": "import datetime\nimport numpy as np\nimport matplotlib.pyplot as plt\n\nfrom qiskit.circuit.library import TwoLocal\nfrom qiskit.aqua import QuantumInstance\nfrom qiskit.finance.applications.ising import portfolio\nfrom qiskit.optimization.applications.ising.common import sample_most_likely\nfrom qiskit.finance.data_providers import RandomDataProvider\nfrom qiskit.aqua.algorithms import VQE, QAOA, NumPyMinimumEigensolver\nfrom qiskit.aqua.components.optimizers import COBYLA"
    },
    {
      "cell_type": "code",
      "execution_count": 3,
      "metadata": {
        "trusted": true
      },
      "outputs": [
        {
          "data": {
            "text/plain": "<matplotlib.image.AxesImage at 0x7fa8678621d0>"
          },
          "execution_count": 3,
          "metadata": {},
          "output_type": "execute_result"
        },
        {
          "data": {
            "image/png": "[encoded data removed]",
            "text/plain": "<Figure size 432x288 with 1 Axes>"
          },
          "metadata": {
            "needs_background": "light"
          },
          "output_type": "display_data"
        }
      ],
      "source": "# set number of assets (= number of qubits)\nnum_assets = 4\n\n# Generate expected return and covariance matrix from (random) time-series\nstocks = [(\"TICKER%s\" % i) for i in range(num_assets)]\ndata = RandomDataProvider(tickers=stocks,\n                 start=datetime.datetime(2016,1,1),\n                 end=datetime.datetime(2016,1,30))\ndata.run()\nmu = data.get_period_return_mean_vector()\nsigma = data.get_period_return_covariance_matrix()\n\n# plot sigma\nplt.imshow(sigma, interpolation='nearest')"
    },
    {
      "cell_type": "code",
      "execution_count": 4,
      "metadata": {
        "trusted": true
      },
      "outputs": [],
      "source": "q = 0.5                   # set risk factor\nbudget = num_assets // 2  # set budget\npenalty = num_assets      # set parameter to scale the budget penalty term\n\nqubitOp, offset = portfolio.get_operator(mu, sigma, q, budget, penalty)"
    },
    {
      "cell_type": "markdown",
      "metadata": {},
      "source": "Utilities"
    },
    {
      "cell_type": "code",
      "execution_count": 5,
      "metadata": {
        "trusted": true
      },
      "outputs": [],
      "source": "def index_to_selection(i, num_assets):\n    s = \"{0:b}\".format(i).rjust(num_assets)\n    x = np.array([1 if s[i]=='1' else 0 for i in reversed(range(num_assets))])\n    return x\n\ndef print_result(result):\n    selection = sample_most_likely(result.eigenstate)\n    value = portfolio.portfolio_value(selection, mu, sigma, q, budget, penalty)\n    print('Optimal: selection {}, value {:.4f}'.format(selection, value))\n\n    eigenvector = result.eigenstate if isinstance(result.eigenstate, np.ndarray) else result.eigenstate.to_matrix()\n    probabilities = np.abs(eigenvector)**2\n    i_sorted = reversed(np.argsort(probabilities))\n    print('\\n----------------- Full result ---------------------')\n    print('selection\\tvalue\\t\\tprobability')\n    print('---------------------------------------------------')\n    for i in i_sorted:\n        x = index_to_selection(i, num_assets)\n        value = portfolio.portfolio_value(x, mu, sigma, q, budget, penalty)\n        probability = probabilities[i]\n        print('%10s\\t%.4f\\t\\t%.4f' %(x, value, probability))"
    },
    {
      "cell_type": "markdown",
      "metadata": {},
      "source": "### Numpy EigenSolver"
    },
    {
      "cell_type": "code",
      "execution_count": 6,
      "metadata": {
        "trusted": true
      },
      "outputs": [
        {
          "name": "stdout",
          "output_type": "stream",
          "text": "Optimal: selection [1 1 0 0], value -0.0023\n\n----------------- Full result ---------------------\nselection\tvalue\t\tprobability\n---------------------------------------------------\n [1 1 0 0]\t-0.0023\t\t1.0000\n [1 1 1 1]\t16.0057\t\t0.0000\n [0 1 1 1]\t4.0050\t\t0.0000\n [1 0 1 1]\t4.0087\t\t0.0000\n [0 0 1 1]\t0.0080\t\t0.0000\n [1 1 0 1]\t4.0027\t\t0.0000\n [0 1 0 1]\t0.0020\t\t0.0000\n [1 0 0 1]\t0.0057\t\t0.0000\n [0 0 0 1]\t4.0050\t\t0.0000\n [1 1 1 0]\t4.0008\t\t0.0000\n [0 1 1 0]\t0.0001\t\t0.0000\n [1 0 1 0]\t0.0037\t\t0.0000\n [0 0 1 0]\t4.0030\t\t0.0000\n [0 1 0 0]\t3.9970\t\t0.0000\n [1 0 0 0]\t4.0007\t\t0.0000\n [0 0 0 0]\t16.0000\t\t0.0000\n"
        }
      ],
      "source": "exact_eigensolver = NumPyMinimumEigensolver(qubitOp)\nresult = exact_eigensolver.run()\n\nprint_result(result)"
    },
    {
      "cell_type": "markdown",
      "metadata": {},
      "source": "### Solution using VQE"
    },
    {
      "cell_type": "code",
      "execution_count": 7,
      "metadata": {
        "trusted": true
      },
      "outputs": [
        {
          "name": "stdout",
          "output_type": "stream",
          "text": "Optimal: selection [0. 1. 1. 0.], value 0.0001\n\n----------------- Full result ---------------------\nselection\tvalue\t\tprobability\n---------------------------------------------------\n [0 1 1 0]\t0.0001\t\t0.7767\n [0 0 1 1]\t0.0080\t\t0.1121\n [1 1 0 0]\t-0.0023\t\t0.1091\n [1 0 0 1]\t0.0057\t\t0.0011\n [1 0 1 0]\t0.0037\t\t0.0006\n [0 1 0 1]\t0.0020\t\t0.0002\n [1 0 1 1]\t4.0087\t\t0.0000\n [0 0 0 1]\t4.0050\t\t0.0000\n [1 1 1 0]\t4.0008\t\t0.0000\n [0 1 0 0]\t3.9970\t\t0.0000\n [0 1 1 1]\t4.0050\t\t0.0000\n [1 0 0 0]\t4.0007\t\t0.0000\n [0 0 0 0]\t16.0000\t\t0.0000\n [1 1 1 1]\t16.0057\t\t0.0000\n [0 0 1 0]\t4.0030\t\t0.0000\n [1 1 0 1]\t4.0027\t\t0.0000\n"
        }
      ],
      "source": "backend = Aer.get_backend('statevector_simulator')\nseed = 50\n\ncobyla = COBYLA()\ncobyla.set_options(maxiter=500)\nry = TwoLocal(qubitOp.num_qubits, 'ry', 'cz', reps=3, entanglement='full')\nvqe = VQE(qubitOp, ry, cobyla)\nvqe.random_seed = seed\n\nquantum_instance = QuantumInstance(backend=backend, seed_simulator=seed, seed_transpiler=seed)\n\nresult = vqe.run(quantum_instance)\n\nprint_result(result)"
    },
    {
      "cell_type": "markdown",
      "metadata": {},
      "source": "### Solution using QAOA"
    },
    {
      "cell_type": "code",
      "execution_count": 8,
      "metadata": {
        "trusted": true
      },
      "outputs": [
        {
          "name": "stdout",
          "output_type": "stream",
          "text": "Optimal: selection [1. 1. 0. 0.], value -0.0023\n\n----------------- Full result ---------------------\nselection\tvalue\t\tprobability\n---------------------------------------------------\n [1 1 0 0]\t-0.0023\t\t0.1667\n [0 1 1 0]\t0.0001\t\t0.1667\n [0 1 0 1]\t0.0020\t\t0.1667\n [1 0 1 0]\t0.0037\t\t0.1667\n [1 0 0 1]\t0.0057\t\t0.1666\n [0 0 1 1]\t0.0080\t\t0.1666\n [0 1 0 0]\t3.9970\t\t0.0000\n [1 0 0 0]\t4.0007\t\t0.0000\n [1 0 1 1]\t4.0087\t\t0.0000\n [0 0 1 0]\t4.0030\t\t0.0000\n [1 1 1 1]\t16.0057\t\t0.0000\n [0 0 0 0]\t16.0000\t\t0.0000\n [0 0 0 1]\t4.0050\t\t0.0000\n [1 1 1 0]\t4.0008\t\t0.0000\n [0 1 1 1]\t4.0050\t\t0.0000\n [1 1 0 1]\t4.0027\t\t0.0000\n"
        }
      ],
      "source": "backend = Aer.get_backend('statevector_simulator')\nseed = 50\n\ncobyla = COBYLA()\ncobyla.set_options(maxiter=250)\nqaoa = QAOA(qubitOp, cobyla, 3)\n\nqaoa.random_seed = seed\n\nquantum_instance = QuantumInstance(backend=backend, seed_simulator=seed, seed_transpiler=seed)\n\nresult = qaoa.run(quantum_instance)\n\nprint_result(result)"
    },
    {
      "cell_type": "code",
      "execution_count": null,
      "metadata": {
        "trusted": true
      },
      "outputs": [],
      "source": ""
    },
    {
      "cell_type": "code",
      "execution_count": null,
      "metadata": {
        "trusted": true
      },
      "outputs": [],
      "source": ""
    },
    {
      "cell_type": "code",
      "execution_count": null,
      "metadata": {
        "trusted": true
      },
      "outputs": [],
      "source": ""
    },
    {
      "cell_type": "code",
      "execution_count": null,
      "metadata": {
        "trusted": true
      },
      "outputs": [],
      "source": ""
    }
  ],
  "metadata": {
    "kernelspec": {
      "display_name": "Python 3",
      "language": "python",
      "name": "python3"
    },
    "language_info": {
      "codemirror_mode": {
        "name": "ipython",
        "version": 3
      },
      "file_extension": ".py",
      "mimetype": "text/x-python",
      "name": "python",
      "nbconvert_exporter": "python",
      "pygments_lexer": "ipython3",
      "version": "3.7.8"
    }
  },
  "nbformat": 4,
  "nbformat_minor": 4
}