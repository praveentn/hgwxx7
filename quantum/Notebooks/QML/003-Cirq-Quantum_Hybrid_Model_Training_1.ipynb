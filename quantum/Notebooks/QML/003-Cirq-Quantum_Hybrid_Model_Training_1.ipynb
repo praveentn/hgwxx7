{
  "nbformat": 4,
  "nbformat_minor": 0,
  "metadata": {
    "colab": {
      "name": "Quantum_Hybrid_Model_Training_1.ipynb",
      "provenance": [],
      "collapsed_sections": [],
      "authorship_tag": "ABX9TyP2XOyKc5RL5QWLw4xzVTOw",
      "include_colab_link": true
    },
    "kernelspec": {
      "name": "python3",
      "display_name": "Python 3"
    },
    "language_info": {
      "name": "python"
    },
    "accelerator": "GPU"
  },
  "cells": [
    {
      "cell_type": "markdown",
      "metadata": {
        "id": "view-in-github",
        "colab_type": "text"
      },
      "source": [
        "<a href=\"https://colab.research.google.com/github/praveentn/ml-repos/blob/master/Notebooks/QML/003-Cirq-Quantum_Hybrid_Model_Training_1.ipynb\" target=\"_parent\"><img src=\"https://colab.research.google.com/assets/colab-badge.svg\" alt=\"Open In Colab\"/></a>"
      ]
    },
    {
      "cell_type": "markdown",
      "metadata": {
        "id": "VY9GYA8G463O"
      },
      "source": [
        "### Generating & training hybrid models"
      ]
    },
    {
      "cell_type": "markdown",
      "metadata": {
        "id": "lEQ33_aLBXcC"
      },
      "source": [
        "I hand you a quantum circuit with some free parameters and then I hand you some samples from that quantum circuit at specific parameter values, but I don't tell you what the parameter values are and then your goal is to try and determine what the parameter values are via some optimization or ML type algorithm that takes the samples I gave you as input."
      ]
    },
    {
      "cell_type": "code",
      "metadata": {
        "colab": {
          "base_uri": "https://localhost:8080/"
        },
        "id": "TZ2aM89K8Rfs",
        "outputId": "3e239760-cb75-4a71-b1c4-e6b6aaa80ff6"
      },
      "source": [
        "# must have tensorflow, tensorflow-gpu, tensorflow_quantum in the list\n",
        "# tensorflow==2.4.1\n",
        "# tensorflow-gpu==2.4.1\n",
        "!pip list"
      ],
      "execution_count": 1,
      "outputs": [
        {
          "output_type": "stream",
          "name": "stdout",
          "text": [
            "Package                       Version\n",
            "----------------------------- --------------\n",
            "absl-py                       0.12.0\n",
            "alabaster                     0.7.12\n",
            "albumentations                0.1.12\n",
            "altair                        4.1.0\n",
            "appdirs                       1.4.4\n",
            "argcomplete                   1.12.3\n",
            "argon2-cffi                   21.1.0\n",
            "arviz                         0.11.4\n",
            "astor                         0.8.1\n",
            "astropy                       4.3.1\n",
            "astunparse                    1.6.3\n",
            "atari-py                      0.2.9\n",
            "atomicwrites                  1.4.0\n",
            "attrs                         20.3.0\n",
            "audioread                     2.1.9\n",
            "autograd                      1.3\n",
            "Babel                         2.9.1\n",
            "backcall                      0.2.0\n",
            "beautifulsoup4                4.6.3\n",
            "bleach                        4.1.0\n",
            "blis                          0.4.1\n",
            "bokeh                         2.3.3\n",
            "Bottleneck                    1.3.2\n",
            "branca                        0.4.2\n",
            "bs4                           0.0.1\n",
            "CacheControl                  0.12.6\n",
            "cached-property               1.5.2\n",
            "cachetools                    4.2.4\n",
            "catalogue                     1.0.0\n",
            "certifi                       2021.5.30\n",
            "cffi                          1.14.6\n",
            "cftime                        1.5.1\n",
            "chardet                       3.0.4\n",
            "charset-normalizer            2.0.6\n",
            "cirq                          0.11.0\n",
            "cirq-aqt                      0.13.0\n",
            "cirq-core                     0.11.0\n",
            "cirq-google                   0.11.0\n",
            "cirq-ionq                     0.13.0\n",
            "cirq-pasqal                   0.13.0\n",
            "cirq-rigetti                  0.13.0\n",
            "cirq-web                      0.13.0\n",
            "clang                         5.0\n",
            "click                         7.1.2\n",
            "cloudpickle                   1.3.0\n",
            "cmake                         3.12.0\n",
            "cmdstanpy                     0.9.5\n",
            "colorcet                      2.0.6\n",
            "colorlover                    0.3.0\n",
            "community                     1.0.0b1\n",
            "contextlib2                   0.5.5\n",
            "convertdate                   2.3.2\n",
            "coverage                      3.7.1\n",
            "coveralls                     0.5\n",
            "crcmod                        1.7\n",
            "cufflinks                     0.17.3\n",
            "cupy-cuda111                  9.4.0\n",
            "cvxopt                        1.2.7\n",
            "cvxpy                         1.0.31\n",
            "cycler                        0.10.0\n",
            "cymem                         2.0.5\n",
            "Cython                        0.29.24\n",
            "daft                          0.0.4\n",
            "dask                          2.12.0\n",
            "datascience                   0.10.6\n",
            "debugpy                       1.0.0\n",
            "decorator                     4.4.2\n",
            "defusedxml                    0.7.1\n",
            "descartes                     1.1.0\n",
            "dill                          0.3.4\n",
            "distributed                   1.25.3\n",
            "dlib                          19.18.0\n",
            "dm-tree                       0.1.6\n",
            "docopt                        0.6.2\n",
            "docutils                      0.17.1\n",
            "dopamine-rl                   1.0.5\n",
            "duet                          0.2.2\n",
            "earthengine-api               0.1.284\n",
            "easydict                      1.9\n",
            "ecos                          2.0.7.post1\n",
            "editdistance                  0.5.3\n",
            "en-core-web-sm                2.2.5\n",
            "entrypoints                   0.3\n",
            "ephem                         4.1\n",
            "et-xmlfile                    1.1.0\n",
            "fa2                           0.3.5\n",
            "fastai                        1.0.61\n",
            "fastdtw                       0.3.4\n",
            "fastprogress                  1.0.0\n",
            "fastrlock                     0.6\n",
            "fbprophet                     0.7.1\n",
            "feather-format                0.4.1\n",
            "filelock                      3.3.0\n",
            "firebase-admin                4.4.0\n",
            "fix-yahoo-finance             0.0.22\n",
            "Flask                         1.1.4\n",
            "flatbuffers                   1.12\n",
            "folium                        0.8.3\n",
            "future                        0.16.0\n",
            "gast                          0.3.3\n",
            "GDAL                          2.2.2\n",
            "gdown                         3.6.4\n",
            "gensim                        3.6.0\n",
            "geographiclib                 1.52\n",
            "geopy                         1.17.0\n",
            "gin-config                    0.4.0\n",
            "glob2                         0.7\n",
            "google                        2.0.3\n",
            "google-api-core               1.21.0\n",
            "google-api-python-client      1.12.8\n",
            "google-auth                   1.18.0\n",
            "google-auth-httplib2          0.0.4\n",
            "google-auth-oauthlib          0.4.6\n",
            "google-cloud-bigquery         1.21.0\n",
            "google-cloud-bigquery-storage 1.1.0\n",
            "google-cloud-core             1.0.3\n",
            "google-cloud-datastore        1.8.0\n",
            "google-cloud-firestore        1.7.0\n",
            "google-cloud-language         1.2.0\n",
            "google-cloud-storage          1.18.1\n",
            "google-cloud-translate        1.5.0\n",
            "google-colab                  1.0.0\n",
            "google-pasta                  0.2.0\n",
            "google-resumable-media        0.4.1\n",
            "googleapis-common-protos      1.52.0\n",
            "googledrivedownloader         0.4\n",
            "graphviz                      0.10.1\n",
            "greenlet                      1.1.2\n",
            "grpcio                        1.32.0\n",
            "gspread                       3.0.1\n",
            "gspread-dataframe             3.0.8\n",
            "gym                           0.17.3\n",
            "h11                           0.9.0\n",
            "h5py                          2.10.0\n",
            "HeapDict                      1.0.1\n",
            "hijri-converter               2.2.2\n",
            "holidays                      0.10.5.2\n",
            "holoviews                     1.14.6\n",
            "html5lib                      1.0.1\n",
            "httpcore                      0.11.1\n",
            "httpimport                    0.5.18\n",
            "httplib2                      0.17.4\n",
            "httplib2shim                  0.0.3\n",
            "httpx                         0.15.5\n",
            "humanize                      0.5.1\n",
            "hyperopt                      0.1.2\n",
            "ideep4py                      2.0.0.post3\n",
            "idna                          2.10\n",
            "imageio                       2.4.1\n",
            "imagesize                     1.2.0\n",
            "imbalanced-learn              0.4.3\n",
            "imblearn                      0.0\n",
            "imgaug                        0.2.9\n",
            "importlib-metadata            3.10.1\n",
            "importlib-resources           5.2.2\n",
            "imutils                       0.5.4\n",
            "inflect                       2.1.0\n",
            "iniconfig                     1.1.1\n",
            "intel-openmp                  2021.4.0\n",
            "intervaltree                  2.1.0\n",
            "ipykernel                     4.10.1\n",
            "ipython                       5.5.0\n",
            "ipython-genutils              0.2.0\n",
            "ipython-sql                   0.3.9\n",
            "ipywidgets                    7.6.5\n",
            "iso8601                       0.1.16\n",
            "itsdangerous                  1.1.0\n",
            "jax                           0.2.21\n",
            "jaxlib                        0.1.71+cuda111\n",
            "jdcal                         1.4.1\n",
            "jedi                          0.18.0\n",
            "jieba                         0.42.1\n",
            "Jinja2                        2.11.3\n",
            "joblib                        1.0.1\n",
            "jpeg4py                       0.1.4\n",
            "jsonschema                    2.6.0\n",
            "jupyter                       1.0.0\n",
            "jupyter-client                5.3.5\n",
            "jupyter-console               5.2.0\n",
            "jupyter-core                  4.8.1\n",
            "jupyterlab-pygments           0.1.2\n",
            "jupyterlab-widgets            1.0.2\n",
            "kaggle                        1.5.12\n",
            "kapre                         0.3.5\n",
            "keras                         2.6.0\n",
            "Keras-Preprocessing           1.1.2\n",
            "keras-vis                     0.4.1\n",
            "kiwisolver                    1.3.2\n",
            "korean-lunar-calendar         0.2.1\n",
            "lark                          0.11.3\n",
            "librosa                       0.8.1\n",
            "lightgbm                      2.2.3\n",
            "llvmlite                      0.34.0\n",
            "lmdb                          0.99\n",
            "LunarCalendar                 0.0.9\n",
            "lxml                          4.2.6\n",
            "Markdown                      3.3.4\n",
            "MarkupSafe                    2.0.1\n",
            "matplotlib                    3.2.2\n",
            "matplotlib-inline             0.1.3\n",
            "matplotlib-venn               0.11.6\n",
            "missingno                     0.5.0\n",
            "mistune                       0.8.4\n",
            "mizani                        0.6.0\n",
            "mkl                           2019.0\n",
            "mlxtend                       0.14.0\n",
            "more-itertools                8.10.0\n",
            "moviepy                       0.2.3.5\n",
            "mpmath                        1.2.1\n",
            "msgpack                       0.6.2\n",
            "multiprocess                  0.70.12.2\n",
            "multitasking                  0.0.9\n",
            "murmurhash                    1.0.5\n",
            "music21                       5.5.0\n",
            "natsort                       5.5.0\n",
            "nbclient                      0.5.4\n",
            "nbconvert                     5.6.1\n",
            "nbformat                      5.1.3\n",
            "nest-asyncio                  1.5.1\n",
            "netCDF4                       1.5.7\n",
            "networkx                      2.6.3\n",
            "nibabel                       3.0.2\n",
            "nltk                          3.2.5\n",
            "notebook                      5.3.1\n",
            "numba                         0.51.2\n",
            "numexpr                       2.7.3\n",
            "numpy                         1.19.5\n",
            "nvidia-ml-py3                 7.352.0\n",
            "oauth2client                  4.1.3\n",
            "oauthlib                      3.1.1\n",
            "okgrade                       0.4.3\n",
            "opencv-contrib-python         4.1.2.30\n",
            "opencv-python                 4.1.2.30\n",
            "openpyxl                      2.5.9\n",
            "opt-einsum                    3.3.0\n",
            "osqp                          0.6.2.post0\n",
            "packaging                     21.0\n",
            "palettable                    3.3.0\n",
            "pandas                        1.1.5\n",
            "pandas-datareader             0.9.0\n",
            "pandas-gbq                    0.13.3\n",
            "pandas-profiling              1.4.1\n",
            "pandocfilters                 1.5.0\n",
            "panel                         0.12.1\n",
            "param                         1.11.1\n",
            "parso                         0.8.2\n",
            "pathlib                       1.0.1\n",
            "patsy                         0.5.2\n",
            "pep517                        0.11.0\n",
            "pexpect                       4.8.0\n",
            "pickleshare                   0.7.5\n",
            "Pillow                        7.1.2\n",
            "pip                           21.1.3\n",
            "pip-tools                     6.2.0\n",
            "plac                          1.1.3\n",
            "plotly                        4.4.1\n",
            "plotnine                      0.6.0\n",
            "pluggy                        0.7.1\n",
            "pooch                         1.5.1\n",
            "portpicker                    1.3.9\n",
            "prefetch-generator            1.0.1\n",
            "preshed                       3.0.5\n",
            "prettytable                   2.2.1\n",
            "progressbar2                  3.38.0\n",
            "prometheus-client             0.11.0\n",
            "promise                       2.3\n",
            "prompt-toolkit                1.0.18\n",
            "protobuf                      3.13.0\n",
            "psutil                        5.4.8\n",
            "psycopg2                      2.7.6.1\n",
            "ptyprocess                    0.7.0\n",
            "py                            1.10.0\n",
            "pyarrow                       3.0.0\n",
            "pyasn1                        0.4.8\n",
            "pyasn1-modules                0.2.8\n",
            "pycocotools                   2.0.2\n",
            "pycparser                     2.20\n",
            "pyct                          0.4.8\n",
            "pydantic                      1.8.2\n",
            "pydata-google-auth            1.2.0\n",
            "pydot                         1.3.0\n",
            "pydot-ng                      2.0.0\n",
            "pydotplus                     2.0.2\n",
            "PyDrive                       1.3.1\n",
            "pyemd                         0.5.1\n",
            "pyerfa                        2.0.0\n",
            "pyglet                        1.5.0\n",
            "Pygments                      2.6.1\n",
            "pygobject                     3.26.1\n",
            "PyJWT                         1.7.1\n",
            "pymc3                         3.11.4\n",
            "PyMeeus                       0.5.11\n",
            "pymongo                       3.12.0\n",
            "pymystem3                     0.2.0\n",
            "PyOpenGL                      3.1.5\n",
            "pyparsing                     2.4.7\n",
            "pyquil                        3.0.1\n",
            "pyrsistent                    0.18.0\n",
            "pysndfile                     1.3.8\n",
            "PySocks                       1.7.1\n",
            "pystan                        2.19.1.1\n",
            "pytest                        3.6.4\n",
            "python-apt                    0.0.0\n",
            "python-chess                  0.23.11\n",
            "python-dateutil               2.8.2\n",
            "python-louvain                0.15\n",
            "python-rapidjson              1.5\n",
            "python-slugify                5.0.2\n",
            "python-utils                  2.5.6\n",
            "pytz                          2018.9\n",
            "pyviz-comms                   2.1.0\n",
            "PyWavelets                    1.1.1\n",
            "PyYAML                        3.13\n",
            "pyzmq                         22.3.0\n",
            "qcs-api-client                0.8.0\n",
            "qdldl                         0.1.5.post0\n",
            "qtconsole                     5.1.1\n",
            "QtPy                          1.11.2\n",
            "regex                         2019.12.20\n",
            "requests                      2.23.0\n",
            "requests-oauthlib             1.3.0\n",
            "resampy                       0.2.2\n",
            "retry                         0.9.2\n",
            "retrying                      1.3.3\n",
            "rfc3339                       6.2\n",
            "rfc3986                       1.5.0\n",
            "rpcq                          3.9.2\n",
            "rpy2                          3.4.5\n",
            "rsa                           4.7.2\n",
            "ruamel.yaml                   0.17.16\n",
            "ruamel.yaml.clib              0.2.6\n",
            "scikit-image                  0.16.2\n",
            "scikit-learn                  0.22.2.post1\n",
            "scipy                         1.7.1\n",
            "screen-resolution-extra       0.0.0\n",
            "scs                           2.1.4\n",
            "seaborn                       0.11.2\n",
            "semver                        2.13.0\n",
            "Send2Trash                    1.8.0\n",
            "setuptools                    57.4.0\n",
            "setuptools-git                1.2\n",
            "Shapely                       1.7.1\n",
            "simplegeneric                 0.8.1\n",
            "six                           1.15.0\n",
            "sklearn                       0.0\n",
            "sklearn-pandas                1.8.0\n",
            "smart-open                    5.2.1\n",
            "sniffio                       1.2.0\n",
            "snowballstemmer               2.1.0\n",
            "sortedcontainers              2.4.0\n",
            "SoundFile                     0.10.3.post1\n",
            "spacy                         2.2.4\n",
            "Sphinx                        1.8.5\n",
            "sphinxcontrib-serializinghtml 1.1.5\n",
            "sphinxcontrib-websupport      1.2.4\n",
            "SQLAlchemy                    1.4.25\n",
            "sqlparse                      0.4.2\n",
            "srsly                         1.0.5\n",
            "statsmodels                   0.10.2\n",
            "sympy                         1.5\n",
            "tables                        3.4.4\n",
            "tabulate                      0.8.9\n",
            "tblib                         1.7.0\n",
            "tensorboard                   2.6.0\n",
            "tensorboard-data-server       0.6.1\n",
            "tensorboard-plugin-wit        1.8.0\n",
            "tensorflow                    2.4.1\n",
            "tensorflow-datasets           4.0.1\n",
            "tensorflow-estimator          2.4.0\n",
            "tensorflow-gcs-config         2.6.0\n",
            "tensorflow-gpu                2.4.1\n",
            "tensorflow-hub                0.12.0\n",
            "tensorflow-metadata           1.2.0\n",
            "tensorflow-probability        0.14.1\n",
            "tensorflow-quantum            0.5.1\n",
            "termcolor                     1.1.0\n",
            "terminado                     0.12.1\n",
            "testpath                      0.5.0\n",
            "text-unidecode                1.3\n",
            "textblob                      0.15.3\n",
            "Theano-PyMC                   1.1.2\n",
            "thinc                         7.4.0\n",
            "tifffile                      2021.8.30\n",
            "toml                          0.10.2\n",
            "tomli                         1.2.1\n",
            "toolz                         0.11.1\n",
            "torch                         1.9.0+cu111\n",
            "torchsummary                  1.5.1\n",
            "torchtext                     0.10.0\n",
            "torchvision                   0.10.0+cu111\n",
            "tornado                       5.1.1\n",
            "tqdm                          4.62.3\n",
            "traitlets                     5.1.0\n",
            "tweepy                        3.10.0\n",
            "typeguard                     2.7.1\n",
            "typing-extensions             3.7.4.3\n",
            "tzlocal                       1.5.1\n",
            "uritemplate                   3.0.1\n",
            "urllib3                       1.24.3\n",
            "vega-datasets                 0.9.0\n",
            "wasabi                        0.8.2\n",
            "wcwidth                       0.2.5\n",
            "webencodings                  0.5.1\n",
            "Werkzeug                      1.0.1\n",
            "wheel                         0.37.0\n",
            "widgetsnbextension            3.5.1\n",
            "wordcloud                     1.5.0\n",
            "wrapt                         1.12.1\n",
            "xarray                        0.18.2\n",
            "xgboost                       0.90\n",
            "xkit                          0.0.0\n",
            "xlrd                          1.1.0\n",
            "xlwt                          1.3.0\n",
            "yellowbrick                   0.9.1\n",
            "zict                          2.0.0\n",
            "zipp                          3.6.0\n"
          ]
        }
      ]
    },
    {
      "cell_type": "code",
      "metadata": {
        "id": "Y0Mg3DwR3hVq"
      },
      "source": [
        "try:\n",
        "    import cirq\n",
        "except ImportError:\n",
        "    print(\"installing cirq...\")\n",
        "    !pip install --quiet cirq\n",
        "    print(\"installed cirq.\")"
      ],
      "execution_count": 2,
      "outputs": []
    },
    {
      "cell_type": "code",
      "metadata": {
        "colab": {
          "base_uri": "https://localhost:8080/",
          "height": 35
        },
        "id": "ANvRJUC83N-7",
        "outputId": "593af75f-cbc1-4cf3-8daf-09c9d9b71a15"
      },
      "source": [
        "import cirq\n",
        "\n",
        "cirq.__version__"
      ],
      "execution_count": 3,
      "outputs": [
        {
          "output_type": "execute_result",
          "data": {
            "application/vnd.google.colaboratory.intrinsic+json": {
              "type": "string"
            },
            "text/plain": [
              "'0.11.0'"
            ]
          },
          "metadata": {},
          "execution_count": 3
        }
      ]
    },
    {
      "cell_type": "code",
      "metadata": {
        "id": "VxoL_LTd9Xf7"
      },
      "source": [
        "try:\n",
        "    import tensorflow as tf\n",
        "    if tf.__version__ != '2.4.1':\n",
        "        !pip uninstall --quiet tensorflow\n",
        "        !pip uninstall --quiet tensorflow-gpu\n",
        "        !pip install --quiet tensorflow==2.4.1\n",
        "        !pip install --quiet tensorflow-gpu==2.4.1\n",
        "except ImportError:\n",
        "    !pip uninstall --quiet tensorflow-gpu\n",
        "    !pip uninstall --quiet tensorflow\n",
        "    !pip install --quiet tensorflow==2.4.1\n",
        "    !pip install --quiet tensorflow-gpu==2.4.1"
      ],
      "execution_count": 4,
      "outputs": []
    },
    {
      "cell_type": "code",
      "metadata": {
        "colab": {
          "base_uri": "https://localhost:8080/",
          "height": 35
        },
        "id": "Pl4pCU_T3SRU",
        "outputId": "d02e9a9e-861b-4811-9034-9517029b5d30"
      },
      "source": [
        "import tensorflow as tf\n",
        "\n",
        "tf.__version__"
      ],
      "execution_count": 5,
      "outputs": [
        {
          "output_type": "execute_result",
          "data": {
            "application/vnd.google.colaboratory.intrinsic+json": {
              "type": "string"
            },
            "text/plain": [
              "'2.4.1'"
            ]
          },
          "metadata": {},
          "execution_count": 5
        }
      ]
    },
    {
      "cell_type": "code",
      "metadata": {
        "id": "9I2yyRyf93ua"
      },
      "source": [
        "# !pip uninstall tensorflow-gpu\n",
        "# !pip install --quiet tensorflow-gpu==2.4.1"
      ],
      "execution_count": 6,
      "outputs": []
    },
    {
      "cell_type": "code",
      "metadata": {
        "id": "2-SrUfD8QIId"
      },
      "source": [
        "# !pip install --quiet tensorflow-quantum=='0.5.1'"
      ],
      "execution_count": 7,
      "outputs": []
    },
    {
      "cell_type": "code",
      "metadata": {
        "id": "hLGgwQmO58wB"
      },
      "source": [
        "try:\n",
        "    import tensorflow_quantum as tfq\n",
        "    if tfq.__version__ != '0.5.1':\n",
        "        !pip uninstall --quiet tensorflow-quantum\n",
        "        !pip install --quiet tensorflow-quantum=='0.5.1'\n",
        "except ImportError:\n",
        "    !pip install --quiet tensorflow-quantum=='0.5.1'"
      ],
      "execution_count": 8,
      "outputs": []
    },
    {
      "cell_type": "code",
      "metadata": {
        "colab": {
          "base_uri": "https://localhost:8080/",
          "height": 35
        },
        "id": "pH8tzOAs3LXE",
        "outputId": "46f20922-d270-4721-d17a-b31837ddb410"
      },
      "source": [
        "import tensorflow_quantum as tfq\n",
        "\n",
        "tfq.__version__"
      ],
      "execution_count": 9,
      "outputs": [
        {
          "output_type": "execute_result",
          "data": {
            "application/vnd.google.colaboratory.intrinsic+json": {
              "type": "string"
            },
            "text/plain": [
              "'0.5.1'"
            ]
          },
          "metadata": {},
          "execution_count": 9
        }
      ]
    },
    {
      "cell_type": "code",
      "metadata": {
        "id": "yn2PO4rnwsdW"
      },
      "source": [
        "# !pip install tensorflow-quantum"
      ],
      "execution_count": 10,
      "outputs": []
    },
    {
      "cell_type": "code",
      "metadata": {
        "id": "Wp53vJYy6boy"
      },
      "source": [
        "# hopefully not required\n",
        "# !pip uninstall tensorflow\n",
        "# !pip install tensorflow\n",
        "# !pip install --upgrade pip\n",
        "# !pip install --upgrade tensorflow\n",
        "# !pip install tensorflow-gpu"
      ],
      "execution_count": 11,
      "outputs": []
    },
    {
      "cell_type": "code",
      "metadata": {
        "colab": {
          "base_uri": "https://localhost:8080/"
        },
        "id": "XVO_J0ml6UP6",
        "outputId": "c4224a38-6670-4a6a-ea4c-ec0009dd499d"
      },
      "source": [
        "# Update package resources to account for version changes.\n",
        "import importlib, pkg_resources\n",
        "importlib.reload(pkg_resources)"
      ],
      "execution_count": 12,
      "outputs": [
        {
          "output_type": "execute_result",
          "data": {
            "text/plain": [
              "<module 'pkg_resources' from '/usr/local/lib/python3.7/dist-packages/pkg_resources/__init__.py'>"
            ]
          },
          "metadata": {},
          "execution_count": 12
        }
      ]
    },
    {
      "cell_type": "code",
      "metadata": {
        "id": "f3HT0xP23kn8"
      },
      "source": [
        "import cirq\n",
        "import cirq_google\n",
        "import numpy as np\n",
        "import sympy as sp\n",
        "import tensorflow as tf\n",
        "import matplotlib.pyplot as plt\n",
        "import tensorflow_quantum as tfq\n",
        "from math import sqrt, pi"
      ],
      "execution_count": 13,
      "outputs": []
    },
    {
      "cell_type": "code",
      "metadata": {
        "id": "IA_FjJ-jRRZ-"
      },
      "source": [
        "# set random seed\n",
        "tf.random.set_seed(42)"
      ],
      "execution_count": 14,
      "outputs": []
    },
    {
      "cell_type": "code",
      "metadata": {
        "colab": {
          "base_uri": "https://localhost:8080/",
          "height": 68
        },
        "id": "IOlxJB-631Di",
        "outputId": "f60dc437-0cd1-40ab-ddfb-9b881337907a"
      },
      "source": [
        "# define two qubits\n",
        "q0 = cirq.GridQubit(0, 0)\n",
        "q1 = cirq.GridQubit(0, 1)\n",
        "\n",
        "# make a Pauli Sum gate that will return [1] if the state is a bell state b00 (|00⟩)\n",
        "z0 = cirq.Z(q0)\n",
        "z1 = cirq.Z(q1)\n",
        "z00 = (((1+z0)/2)*((1+z1)/2))\n",
        "\n",
        "# define three parameters, phi will be varied, alpha & beta are fixed\n",
        "phi = sp.Symbol('phi')\n",
        "alpha = sp.Symbol('alpha')\n",
        "beta = sp.Symbol('beta')\n",
        "\n",
        "# create a circuit with the following gates RX, RY, H, CNOT etc.\n",
        "# the circuit has three parameters: phi, alpha & beta\n",
        "circuit = cirq.Circuit([\n",
        "                cirq.rx(phi)(q0),\n",
        "                cirq.ry(-2*phi)(q1),\n",
        "                cirq.H(q0),\n",
        "                cirq.CNOT(q0,q1),\n",
        "                cirq.rx(alpha)(q0),\n",
        "                cirq.ry(beta)(q1),\n",
        "                ])\n",
        "circuit"
      ],
      "execution_count": 15,
      "outputs": [
        {
          "output_type": "execute_result",
          "data": {
            "text/html": [
              "<pre style=\"overflow: auto; white-space: pre;\">(0, 0): ───Rx(phi)──────H───@───Rx(alpha)───\n",
              "                            │\n",
              "(0, 1): ───Ry(-2*phi)───────X───Ry(beta)────</pre>"
            ],
            "text/plain": [
              "(0, 0): ───Rx(phi)──────H───@───Rx(alpha)───\n",
              "                            │\n",
              "(0, 1): ───Ry(-2*phi)───────X───Ry(beta)────"
            ]
          },
          "metadata": {},
          "execution_count": 15
        }
      ]
    },
    {
      "cell_type": "code",
      "metadata": {
        "colab": {
          "base_uri": "https://localhost:8080/"
        },
        "id": "QmHAruTp4DC8",
        "outputId": "97024042-f79d-4bad-f889-b62631f98161"
      },
      "source": [
        "# get the qasm code\n",
        "circuit.to_qasm"
      ],
      "execution_count": 16,
      "outputs": [
        {
          "output_type": "execute_result",
          "data": {
            "text/plain": [
              "<bound method AbstractCircuit.to_qasm of cirq.Circuit([\n",
              "    cirq.Moment(\n",
              "        cirq.Rx(rads=sympy.Symbol('phi')).on(cirq.GridQubit(0, 0)),\n",
              "        cirq.Ry(rads=sympy.Mul(sympy.Integer(-1), sympy.Integer(2), sympy.Symbol('phi'))).on(cirq.GridQubit(0, 1)),\n",
              "    ),\n",
              "    cirq.Moment(\n",
              "        cirq.H(cirq.GridQubit(0, 0)),\n",
              "    ),\n",
              "    cirq.Moment(\n",
              "        cirq.CNOT(cirq.GridQubit(0, 0), cirq.GridQubit(0, 1)),\n",
              "    ),\n",
              "    cirq.Moment(\n",
              "        cirq.Rx(rads=sympy.Symbol('alpha')).on(cirq.GridQubit(0, 0)),\n",
              "        cirq.Ry(rads=sympy.Symbol('beta')).on(cirq.GridQubit(0, 1)),\n",
              "    ),\n",
              "])>"
            ]
          },
          "metadata": {},
          "execution_count": 16
        }
      ]
    },
    {
      "cell_type": "markdown",
      "metadata": {
        "id": "1BlqMxY3SRrv"
      },
      "source": [
        "### Expectation"
      ]
    },
    {
      "cell_type": "code",
      "metadata": {
        "colab": {
          "base_uri": "https://localhost:8080/",
          "height": 368
        },
        "id": "XUcXyZ8F4hw1",
        "outputId": "d9b52650-1750-4378-e5a3-ebb7d60ae348"
      },
      "source": [
        "# If we fix the values of alpha and beta, and perform a scan over phi\n",
        "# from [0, 2π], we can generate a distribution of the number of times\n",
        "# the system is measured in state |00⟩\n",
        "\n",
        "# fix two values of alpha and beta\n",
        "a = 1/sqrt(2)\n",
        "b = pi/3\n",
        "\n",
        "# loop over phi from -5 to 5\n",
        "x_values = np.arange(-5, 5, 0.05)\n",
        "y_expectations = []\n",
        "\n",
        "for j in x_values:\n",
        "    # resolve the circuit for different values of phi\n",
        "    resolver = cirq.ParamResolver({'alpha': a, 'beta': b, 'phi': j})\n",
        "\n",
        "    # calcuclate the expectation value\n",
        "    result = cirq.Simulator().simulate(cirq.resolve_parameters(circuit, resolver))\n",
        "    e = z00.expectation_from_state_vector(result.final_state_vector, {q0:0, q1:1})\n",
        "    y_expectations.append(e)\n",
        "\n",
        "print(result)\n",
        "print(e)\n",
        "\n",
        "plt.scatter(x_values, y_expectations, label=f'Expected, $\\\\alpha$={round(a,3)}, $\\\\beta$={round(b,3)}')\n",
        "plt.xlabel('$\\phi$')\n",
        "plt.ylabel('Expectation')\n",
        "plt.legend()\n",
        "plt.show()"
      ],
      "execution_count": 17,
      "outputs": [
        {
          "output_type": "stream",
          "name": "stdout",
          "text": [
            "measurements: (no measurements)\n",
            "output vector: (0.257+0.255j)|00⟩ + (-0.396-0.261j)|01⟩ + (-0.335+0.243j)|10⟩ + (-0.505+0.468j)|11⟩\n",
            "(0.130918700248003+0j)\n"
          ]
        },
        {
          "output_type": "stream",
          "name": "stderr",
          "text": [
            "/usr/local/lib/python3.7/dist-packages/numpy/core/_asarray.py:136: ComplexWarning: Casting complex values to real discards the imaginary part\n",
            "  return array(a, dtype, copy=False, order=order, subok=True)\n"
          ]
        },
        {
          "output_type": "display_data",
          "data": {
            "image/png": "[encoded data removed]",
            "text/plain": [
              "<Figure size 432x288 with 1 Axes>"
            ]
          },
          "metadata": {
            "needs_background": "light"
          }
        }
      ]
    },
    {
      "cell_type": "code",
      "metadata": {
        "colab": {
          "base_uri": "https://localhost:8080/"
        },
        "id": "lvbe4sIfQIEJ",
        "outputId": "e504f29e-c3a6-4003-a3a5-0f2b755ef857"
      },
      "source": [
        "z00"
      ],
      "execution_count": 18,
      "outputs": [
        {
          "output_type": "execute_result",
          "data": {
            "text/plain": [
              "cirq.PauliSum(cirq.LinearDict({frozenset({(cirq.GridQubit(0, 1), cirq.Z), (cirq.GridQubit(0, 0), cirq.Z)}): (0.25+0j), frozenset({(cirq.GridQubit(0, 0), cirq.Z)}): (0.25+0j), frozenset({(cirq.GridQubit(0, 1), cirq.Z)}): (0.25+0j), frozenset(): (0.25+0j)}))"
            ]
          },
          "metadata": {},
          "execution_count": 18
        }
      ]
    },
    {
      "cell_type": "code",
      "metadata": {
        "colab": {
          "base_uri": "https://localhost:8080/"
        },
        "id": "QnEUjrLuQT-P",
        "outputId": "ffeddd5c-b91f-4780-e4a0-6e39baefa18f"
      },
      "source": [
        "z00.expectation_from_state_vector(result.final_state_vector, {q0:0, q1:1})"
      ],
      "execution_count": 19,
      "outputs": [
        {
          "output_type": "execute_result",
          "data": {
            "text/plain": [
              "(0.130918700248003+0j)"
            ]
          },
          "metadata": {},
          "execution_count": 19
        }
      ]
    },
    {
      "cell_type": "code",
      "metadata": {
        "colab": {
          "base_uri": "https://localhost:8080/"
        },
        "id": "dV_EaevVQBLC",
        "outputId": "9b650b38-1c3d-4521-a301-c830e09cf1a1"
      },
      "source": [
        "result.final_state_vector"
      ],
      "execution_count": 20,
      "outputs": [
        {
          "output_type": "execute_result",
          "data": {
            "text/plain": [
              "array([ 0.25667757+0.25502023j, -0.39576927-0.2607826j ,\n",
              "       -0.33476508+0.24268252j, -0.50486577+0.4675345j ], dtype=complex64)"
            ]
          },
          "metadata": {},
          "execution_count": 20
        }
      ]
    },
    {
      "cell_type": "markdown",
      "metadata": {
        "id": "Fu2D6k4rB-UZ"
      },
      "source": [
        "### Decomposing the circuit"
      ]
    },
    {
      "cell_type": "code",
      "metadata": {
        "colab": {
          "base_uri": "https://localhost:8080/",
          "height": 68
        },
        "id": "sqXcKDFD4zTR",
        "outputId": "b683df64-1963-4d07-9904-b849f885a363"
      },
      "source": [
        "# Input qubits with rotations by the angle \\phi\n",
        "input_circuit = cirq.Circuit([\n",
        "                cirq.rx(phi)(q0),\n",
        "                cirq.ry(-2*phi)(q1)\n",
        "                ])\n",
        "input_circuit"
      ],
      "execution_count": 21,
      "outputs": [
        {
          "output_type": "execute_result",
          "data": {
            "text/html": [
              "<pre style=\"overflow: auto; white-space: pre;\">(0, 0): ───Rx(phi)──────\n",
              "\n",
              "(0, 1): ───Ry(-2*phi)───</pre>"
            ],
            "text/plain": [
              "(0, 0): ───Rx(phi)──────\n",
              "\n",
              "(0, 1): ───Ry(-2*phi)───"
            ]
          },
          "metadata": {},
          "execution_count": 21
        }
      ]
    },
    {
      "cell_type": "code",
      "metadata": {
        "colab": {
          "base_uri": "https://localhost:8080/",
          "height": 68
        },
        "id": "AYtDTpVh5Yqr",
        "outputId": "f490e799-74a0-4a3d-986f-15c0e8365704"
      },
      "source": [
        "# The circuit that is going to be my model\n",
        "# a.k.a given some inputs (rotated qubits) these will be entangled and\n",
        "# rotated by fixed values that we want to learn\n",
        "model_circuit = cirq.Circuit([\n",
        "                cirq.H(q0),\n",
        "                cirq.CNOT(q0,q1),\n",
        "                cirq.rx(alpha)(q0),\n",
        "                cirq.ry(beta)(q1),\n",
        "              ])\n",
        "model_circuit"
      ],
      "execution_count": 22,
      "outputs": [
        {
          "output_type": "execute_result",
          "data": {
            "text/html": [
              "<pre style=\"overflow: auto; white-space: pre;\">(0, 0): ───H───@───Rx(alpha)───\n",
              "               │\n",
              "(0, 1): ───────X───Ry(beta)────</pre>"
            ],
            "text/plain": [
              "(0, 0): ───H───@───Rx(alpha)───\n",
              "               │\n",
              "(0, 1): ───────X───Ry(beta)────"
            ]
          },
          "metadata": {},
          "execution_count": 22
        }
      ]
    },
    {
      "cell_type": "code",
      "metadata": {
        "id": "4CewGW5q5esw"
      },
      "source": [
        "# building a keras model\n",
        "# the input is the input_circuit \n",
        "# Parameterized Quantum Circuit - PQC\n",
        "# the PQC outputs the expectation to be in state |00> from the model circuit, given the input circuit\n",
        "model = tf.keras.Sequential([\n",
        "    tf.keras.layers.Input(shape=(), dtype=tf.string),\n",
        "    tfq.layers.PQC(model_circuit, z00),\n",
        "])"
      ],
      "execution_count": 23,
      "outputs": []
    },
    {
      "cell_type": "code",
      "metadata": {
        "colab": {
          "base_uri": "https://localhost:8080/"
        },
        "id": "ny7pscDH_Z2_",
        "outputId": "8d7b9836-8859-47c0-9994-16456d69381b"
      },
      "source": [
        "model.summary()"
      ],
      "execution_count": 24,
      "outputs": [
        {
          "output_type": "stream",
          "name": "stdout",
          "text": [
            "Model: \"sequential\"\n",
            "_________________________________________________________________\n",
            "Layer (type)                 Output Shape              Param #   \n",
            "=================================================================\n",
            "pqc (PQC)                    (None, 1)                 2         \n",
            "=================================================================\n",
            "Total params: 2\n",
            "Trainable params: 2\n",
            "Non-trainable params: 0\n",
            "_________________________________________________________________\n"
          ]
        }
      ]
    },
    {
      "cell_type": "code",
      "metadata": {
        "colab": {
          "base_uri": "https://localhost:8080/"
        },
        "id": "hOEaUw1h5jAi",
        "outputId": "b8ce4216-8a03-4e2e-b729-b6fd9cda3c51"
      },
      "source": [
        "model.trainable_variables"
      ],
      "execution_count": 25,
      "outputs": [
        {
          "output_type": "execute_result",
          "data": {
            "text/plain": [
              "[<tf.Variable 'parameters:0' shape=(2,) dtype=float32, numpy=array([4.175567 , 2.7709274], dtype=float32)>]"
            ]
          },
          "metadata": {},
          "execution_count": 25
        }
      ]
    },
    {
      "cell_type": "code",
      "metadata": {
        "colab": {
          "base_uri": "https://localhost:8080/"
        },
        "id": "QhXvo5-N-leE",
        "outputId": "e50255d3-4ab5-4fdc-9c59-ed290697280a"
      },
      "source": [
        "# convert the input circuits (one circuit per value of phi) into tensors\n",
        "# generate a series of input circuits, with different x values (values of phi)\n",
        "input_circuits =  tfq.convert_to_tensor([cirq.resolve_parameters(input_circuit, cirq.ParamResolver({'phi': x}))] for x in x_values)\n",
        "print(input_circuits[:3])"
      ],
      "execution_count": 26,
      "outputs": [
        {
          "output_type": "stream",
          "name": "stdout",
          "text": [
            "tf.Tensor(\n",
            "[[b'\\n\\x0e\\n\\x0ctfq_gate_set\\x12\\x99\\x02\\x08\\x01\\x12\\x94\\x02\\n\\x87\\x01\\n\\x04\\n\\x02XP\\x12\\x16\\n\\x0econtrol_qubits\\x12\\x04\\n\\x02\\x1a\\x00\\x12\\x13\\n\\x08exponent\\x12\\x07\\n\\x05\\r\\xe1\\xb7\\xcb\\xbf\\x12\\x17\\n\\x0cglobal_shift\\x12\\x07\\n\\x05\\r\\x00\\x00\\x00\\xbf\\x12\\x16\\n\\x0econtrol_values\\x12\\x04\\n\\x02\\x1a\\x00\\x12\\x1a\\n\\x0fexponent_scalar\\x12\\x07\\n\\x05\\r\\x00\\x00\\x80?\\x1a\\x05\\x12\\x030_0\\n\\x87\\x01\\n\\x04\\n\\x02YP\\x12\\x16\\n\\x0econtrol_qubits\\x12\\x04\\n\\x02\\x1a\\x00\\x12\\x17\\n\\x0cglobal_shift\\x12\\x07\\n\\x05\\r\\x00\\x00\\x00\\xbf\\x12\\x16\\n\\x0econtrol_values\\x12\\x04\\n\\x02\\x1a\\x00\\x12\\x13\\n\\x08exponent\\x12\\x07\\n\\x05\\r\\xe5\\xb7K@\\x12\\x1a\\n\\x0fexponent_scalar\\x12\\x07\\n\\x05\\r\\x00\\x00\\x80?\\x1a\\x05\\x12\\x030_1']\n",
            " [b'\\n\\x0e\\n\\x0ctfq_gate_set\\x12\\x99\\x02\\x08\\x01\\x12\\x94\\x02\\n\\x87\\x01\\n\\x04\\n\\x02XP\\x12\\x1a\\n\\x0fexponent_scalar\\x12\\x07\\n\\x05\\r\\x00\\x00\\x80?\\x12\\x16\\n\\x0econtrol_values\\x12\\x04\\n\\x02\\x1a\\x00\\x12\\x13\\n\\x08exponent\\x12\\x07\\n\\x05\\r`\\xae\\xc9\\xbf\\x12\\x17\\n\\x0cglobal_shift\\x12\\x07\\n\\x05\\r\\x00\\x00\\x00\\xbf\\x12\\x16\\n\\x0econtrol_qubits\\x12\\x04\\n\\x02\\x1a\\x00\\x1a\\x05\\x12\\x030_0\\n\\x87\\x01\\n\\x04\\n\\x02YP\\x12\\x13\\n\\x08exponent\\x12\\x07\\n\\x05\\r`\\xaeI@\\x12\\x17\\n\\x0cglobal_shift\\x12\\x07\\n\\x05\\r\\x00\\x00\\x00\\xbf\\x12\\x1a\\n\\x0fexponent_scalar\\x12\\x07\\n\\x05\\r\\x00\\x00\\x80?\\x12\\x16\\n\\x0econtrol_qubits\\x12\\x04\\n\\x02\\x1a\\x00\\x12\\x16\\n\\x0econtrol_values\\x12\\x04\\n\\x02\\x1a\\x00\\x1a\\x05\\x12\\x030_1']\n",
            " [b'\\n\\x0e\\n\\x0ctfq_gate_set\\x12\\x99\\x02\\x08\\x01\\x12\\x94\\x02\\n\\x87\\x01\\n\\x04\\n\\x02XP\\x12\\x13\\n\\x08exponent\\x12\\x07\\n\\x05\\r\\xd7\\xa4\\xc7\\xbf\\x12\\x17\\n\\x0cglobal_shift\\x12\\x07\\n\\x05\\r\\x00\\x00\\x00\\xbf\\x12\\x16\\n\\x0econtrol_qubits\\x12\\x04\\n\\x02\\x1a\\x00\\x12\\x16\\n\\x0econtrol_values\\x12\\x04\\n\\x02\\x1a\\x00\\x12\\x1a\\n\\x0fexponent_scalar\\x12\\x07\\n\\x05\\r\\x00\\x00\\x80?\\x1a\\x05\\x12\\x030_0\\n\\x87\\x01\\n\\x04\\n\\x02YP\\x12\\x13\\n\\x08exponent\\x12\\x07\\n\\x05\\r\\xdb\\xa4G@\\x12\\x17\\n\\x0cglobal_shift\\x12\\x07\\n\\x05\\r\\x00\\x00\\x00\\xbf\\x12\\x16\\n\\x0econtrol_values\\x12\\x04\\n\\x02\\x1a\\x00\\x12\\x16\\n\\x0econtrol_qubits\\x12\\x04\\n\\x02\\x1a\\x00\\x12\\x1a\\n\\x0fexponent_scalar\\x12\\x07\\n\\x05\\r\\x00\\x00\\x80?\\x1a\\x05\\x12\\x030_1']], shape=(3, 1), dtype=string)\n"
          ]
        }
      ]
    },
    {
      "cell_type": "code",
      "metadata": {
        "colab": {
          "base_uri": "https://localhost:8080/"
        },
        "id": "iyJ7D9tD75vN",
        "outputId": "a50809ba-bc41-4ab8-a64a-c275aa0453b2"
      },
      "source": [
        "x_values[:5]"
      ],
      "execution_count": 27,
      "outputs": [
        {
          "output_type": "execute_result",
          "data": {
            "text/plain": [
              "array([-5.  , -4.95, -4.9 , -4.85, -4.8 ])"
            ]
          },
          "metadata": {},
          "execution_count": 27
        }
      ]
    },
    {
      "cell_type": "code",
      "metadata": {
        "colab": {
          "base_uri": "https://localhost:8080/"
        },
        "id": "3UiRbDxa73VN",
        "outputId": "47dcc058-4ec8-425c-f6d9-92344a228f6f"
      },
      "source": [
        "len(x_values)"
      ],
      "execution_count": 28,
      "outputs": [
        {
          "output_type": "execute_result",
          "data": {
            "text/plain": [
              "200"
            ]
          },
          "metadata": {},
          "execution_count": 28
        }
      ]
    },
    {
      "cell_type": "code",
      "metadata": {
        "colab": {
          "base_uri": "https://localhost:8080/"
        },
        "id": "Bf-JLElT7vLQ",
        "outputId": "e8e3117e-1ce1-4dda-d0e5-22e1782728f9"
      },
      "source": [
        "input_circuits.shape"
      ],
      "execution_count": 29,
      "outputs": [
        {
          "output_type": "execute_result",
          "data": {
            "text/plain": [
              "TensorShape([200, 1])"
            ]
          },
          "metadata": {},
          "execution_count": 29
        }
      ]
    },
    {
      "cell_type": "code",
      "metadata": {
        "colab": {
          "base_uri": "https://localhost:8080/",
          "height": 317
        },
        "id": "sH7kcBdc-8ic",
        "outputId": "58cc4a45-1054-4a4d-9756-8abefc5197ca"
      },
      "source": [
        "# test the model with randomly initialised values of alpha and beta given the input circuits\n",
        "y_test = model([input_circuits]).numpy()\n",
        "\n",
        "# plot how a randomly initiated model compares with the expected\n",
        "plt.plot(x_values, y_expectations, lw=4, label=f'Expected, $\\\\alpha$={round(a,3)}, $\\\\beta$={round(b,3)}')\n",
        "plt.plot(x_values, y_test,'ro', label='NN output')\n",
        "plt.xlabel('$\\phi$')\n",
        "plt.ylabel('Expectation')\n",
        "plt.legend()\n",
        "plt.show()"
      ],
      "execution_count": 30,
      "outputs": [
        {
          "output_type": "stream",
          "name": "stderr",
          "text": [
            "/usr/local/lib/python3.7/dist-packages/numpy/core/_asarray.py:83: ComplexWarning: Casting complex values to real discards the imaginary part\n",
            "  return array(a, dtype, copy=False, order=order)\n"
          ]
        },
        {
          "output_type": "display_data",
          "data": {
            "image/png": "[encoded data removed]",
            "text/plain": [
              "<Figure size 432x288 with 1 Axes>"
            ]
          },
          "metadata": {
            "needs_background": "light"
          }
        }
      ]
    },
    {
      "cell_type": "code",
      "metadata": {
        "colab": {
          "base_uri": "https://localhost:8080/"
        },
        "id": "R4zDeRM3_Glh",
        "outputId": "c39d1608-88ec-4987-872e-e8d958495bcc"
      },
      "source": [
        "# compile the model, using a basic Adam optimizer and MSE loss\n",
        "optimizer = tf.keras.optimizers.Adam(learning_rate=0.01)\n",
        "loss = tf.keras.losses.MeanSquaredError()\n",
        "model.compile(optimizer=optimizer, loss=loss)\n",
        "model.summary()"
      ],
      "execution_count": 31,
      "outputs": [
        {
          "output_type": "stream",
          "name": "stdout",
          "text": [
            "Model: \"sequential\"\n",
            "_________________________________________________________________\n",
            "Layer (type)                 Output Shape              Param #   \n",
            "=================================================================\n",
            "pqc (PQC)                    (None, 1)                 2         \n",
            "=================================================================\n",
            "Total params: 2\n",
            "Trainable params: 2\n",
            "Non-trainable params: 0\n",
            "_________________________________________________________________\n"
          ]
        }
      ]
    },
    {
      "cell_type": "code",
      "metadata": {
        "colab": {
          "base_uri": "https://localhost:8080/"
        },
        "id": "vsaHiRaC_Ycv",
        "outputId": "d8bcd96e-809c-474c-ee17-4aeda5fc7069"
      },
      "source": [
        "# model can be fitted given now the y_expected from the original expectations\n",
        "# (this could easily be the original 'measurements' distribution instead)\n",
        "y_expected = np.array(y_expectations)\n",
        "history = model.fit(input_circuits, y_expected,\n",
        "                    epochs=25, verbose=1)\n",
        "type(history)"
      ],
      "execution_count": 32,
      "outputs": [
        {
          "output_type": "stream",
          "name": "stdout",
          "text": [
            "Epoch 1/25\n",
            "7/7 [==============================] - 1s 8ms/step - loss: 0.0769\n",
            "Epoch 2/25\n",
            "7/7 [==============================] - 0s 11ms/step - loss: 0.0806\n",
            "Epoch 3/25\n",
            "7/7 [==============================] - 0s 10ms/step - loss: 0.0692\n",
            "Epoch 4/25\n",
            "7/7 [==============================] - 0s 9ms/step - loss: 0.0669\n",
            "Epoch 5/25\n",
            "7/7 [==============================] - 0s 9ms/step - loss: 0.0639\n",
            "Epoch 6/25\n",
            "7/7 [==============================] - 0s 9ms/step - loss: 0.0704\n",
            "Epoch 7/25\n",
            "7/7 [==============================] - 0s 11ms/step - loss: 0.0614\n",
            "Epoch 8/25\n",
            "7/7 [==============================] - 0s 9ms/step - loss: 0.0598\n",
            "Epoch 9/25\n",
            "7/7 [==============================] - 0s 9ms/step - loss: 0.0514\n",
            "Epoch 10/25\n",
            "7/7 [==============================] - 0s 10ms/step - loss: 0.0474\n",
            "Epoch 11/25\n",
            "7/7 [==============================] - 0s 10ms/step - loss: 0.0453\n",
            "Epoch 12/25\n",
            "7/7 [==============================] - 0s 10ms/step - loss: 0.0400\n",
            "Epoch 13/25\n",
            "7/7 [==============================] - 0s 9ms/step - loss: 0.0328\n",
            "Epoch 14/25\n",
            "7/7 [==============================] - 0s 9ms/step - loss: 0.0248\n",
            "Epoch 15/25\n",
            "7/7 [==============================] - 0s 11ms/step - loss: 0.0200\n",
            "Epoch 16/25\n",
            "7/7 [==============================] - 0s 9ms/step - loss: 0.0142\n",
            "Epoch 17/25\n",
            "7/7 [==============================] - 0s 9ms/step - loss: 0.0107\n",
            "Epoch 18/25\n",
            "7/7 [==============================] - 0s 11ms/step - loss: 0.0065\n",
            "Epoch 19/25\n",
            "7/7 [==============================] - 0s 11ms/step - loss: 0.0049\n",
            "Epoch 20/25\n",
            "7/7 [==============================] - 0s 9ms/step - loss: 0.0032\n",
            "Epoch 21/25\n",
            "7/7 [==============================] - 0s 9ms/step - loss: 0.0023\n",
            "Epoch 22/25\n",
            "7/7 [==============================] - 0s 9ms/step - loss: 0.0017\n",
            "Epoch 23/25\n",
            "7/7 [==============================] - 0s 9ms/step - loss: 0.0013\n",
            "Epoch 24/25\n",
            "7/7 [==============================] - 0s 10ms/step - loss: 0.0010\n",
            "Epoch 25/25\n",
            "7/7 [==============================] - 0s 9ms/step - loss: 7.4552e-04\n"
          ]
        },
        {
          "output_type": "execute_result",
          "data": {
            "text/plain": [
              "tensorflow.python.keras.callbacks.History"
            ]
          },
          "metadata": {},
          "execution_count": 32
        }
      ]
    },
    {
      "cell_type": "code",
      "metadata": {
        "colab": {
          "base_uri": "https://localhost:8080/"
        },
        "id": "__4H2POIDX1Q",
        "outputId": "abee26b6-f585-482b-98bf-28e0f3c8fce9"
      },
      "source": [
        "history.params"
      ],
      "execution_count": 33,
      "outputs": [
        {
          "output_type": "execute_result",
          "data": {
            "text/plain": [
              "{'epochs': 25, 'steps': 7, 'verbose': 1}"
            ]
          },
          "metadata": {},
          "execution_count": 33
        }
      ]
    },
    {
      "cell_type": "code",
      "metadata": {
        "colab": {
          "base_uri": "https://localhost:8080/",
          "height": 317
        },
        "id": "WcioNf8Z_hsL",
        "outputId": "00197ae5-7289-4b6f-9974-3bc9d4aa40b5"
      },
      "source": [
        "# test the model \n",
        "y_test = model([input_circuits]).numpy()\n",
        "\n",
        "# plot how a randomly initiated model compares with the expected\n",
        "plt.plot(x_values, y_expected, lw=4, label=f'Expected, $\\\\alpha$={round(a,3)}, $\\\\beta$={round(b,3)}')\n",
        "plt.plot(x_values, y_test,'ro', label='NN output')\n",
        "plt.xlabel('$\\phi$')\n",
        "plt.ylabel('Expectation')\n",
        "plt.legend()\n",
        "plt.show()"
      ],
      "execution_count": 34,
      "outputs": [
        {
          "output_type": "stream",
          "name": "stderr",
          "text": [
            "/usr/local/lib/python3.7/dist-packages/numpy/core/_asarray.py:83: ComplexWarning: Casting complex values to real discards the imaginary part\n",
            "  return array(a, dtype, copy=False, order=order)\n"
          ]
        },
        {
          "output_type": "display_data",
          "data": {
            "image/png": "[encoded data removed]",
            "text/plain": [
              "<Figure size 432x288 with 1 Axes>"
            ]
          },
          "metadata": {
            "needs_background": "light"
          }
        }
      ]
    },
    {
      "cell_type": "code",
      "metadata": {
        "id": "_XRzkkgY_uNc"
      },
      "source": [
        ""
      ],
      "execution_count": 34,
      "outputs": []
    }
  ]
}