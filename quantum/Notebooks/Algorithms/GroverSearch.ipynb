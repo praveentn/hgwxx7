{
 "cells": [
  {
   "cell_type": "markdown",
   "id": "22b11b4c-4a16-4356-8baa-0140664905c9",
   "metadata": {},
   "source": [
    "# Grover Search Algorithm: A Descriptive Overview\n",
    "\n",
    "The Grover Search algorithm is a quantum computing algorithm that efficiently searches an unsorted database for a specific item. It showcases the remarkable power of quantum parallelism to accelerate certain types of computational tasks. Developed by Lov Grover in 1996, the algorithm can significantly outperform classical methods when searching for a marked item in an unstructured database.\n",
    "\n",
    "## Components of the Grover Search Algorithm:\n",
    "\n",
    "## Oracle (Marking Phase)\n",
    "\n",
    "    The oracle is a key component in the Grover Search algorithm. It marks the target item(s) by inverting their phase. In classical computing, this step would involve evaluating each item in the database to determine if it matches the search criteria. However, the quantum oracle can simultaneously apply this operation to all items, thanks to quantum parallelism. The oracle amplifies the probability amplitude of the marked state.\n",
    "\n",
    "## Diffusion Operator (Amplitude Amplification Phase)\n",
    "\n",
    "    The diffusion operator, also known as the Grover Diffuser, amplifies the amplitude of the marked state and reduces the amplitudes of the other states. It performs a reflection about the average amplitude, effectively concentrating the probability amplitude on the marked item(s). This step enhances the chances of measuring the correct solution.\n",
    "\n",
    "## Grover Iterations\n",
    "\n",
    "    The algorithm iteratively applies the oracle and the diffusion operator. The optimal number of iterations, denoted by 'k', is approximately √N, where N is the number of items in the database. This is a fundamental aspect of Grover's algorithm that contributes to its speedup over classical search methods.\n",
    "\n",
    "## Application of the Grover Search Algorithm:\n",
    "\n",
    "    One common application of the Grover Search algorithm is searching in an unsorted database. Given the quantum nature of the algorithm, it is particularly advantageous when searching for an item among a large number of possibilities. It has potential applications in cryptography, optimization problems, and database searches. For example, it can be used to search for specific values in a large database, solve certain types of cryptographic puzzles more efficiently, or find optimal solutions to complex problems.\n",
    "\n",
    "## Input and Output:\n",
    "\n",
    "### Input:\n",
    "    The algorithm requires the number of qubits used for encoding the items in the database and the target items you want to search for. The quantum oracle is constructed based on the target items.\n",
    "\n",
    "### Output:\n",
    "    After the Grover Search algorithm is executed, the result is measured, and you obtain a quantum state that has an increased probability of containing the target item(s). This state is then measured, and the output is a histogram plot showing the counts of the measured states. The states corresponding to the target item(s) will have higher probabilities, indicating a successful search."
   ]
  },
  {
   "cell_type": "markdown",
   "id": "406789c6-7ec0-430b-9a60-8cb27aa83917",
   "metadata": {},
   "source": [
    "---"
   ]
  },
  {
   "cell_type": "code",
   "execution_count": 1,
   "id": "c84f4763-42ef-4438-b4bc-5dec3906c3ff",
   "metadata": {
    "tags": []
   },
   "outputs": [],
   "source": [
    "# Importing standard Qiskit libraries\n",
    "from qiskit import QuantumCircuit, transpile\n",
    "from qiskit.tools.jupyter import *\n",
    "from qiskit.visualization import *\n",
    "from ibm_quantum_widgets import *\n",
    "\n",
    "# qiskit-ibmq-provider has been deprecated.\n",
    "# Please see the Migration Guides in https://ibm.biz/provider_migration_guide for more detail.\n",
    "from qiskit_ibm_runtime import QiskitRuntimeService, Sampler, Estimator, Session, Options\n",
    "\n",
    "# Loading your IBM Quantum account(s)\n",
    "service = QiskitRuntimeService(channel=\"ibm_quantum\")\n",
    "\n",
    "# Invoke a primitive. For more details see https://qiskit.org/documentation/partners/qiskit_ibm_runtime/tutorials.html\n",
    "# result = Sampler(\"ibmq_qasm_simulator\").run(circuits).result()"
   ]
  },
  {
   "cell_type": "code",
   "execution_count": 2,
   "id": "36d5c040-1a9f-4c06-a790-bc531da9e4fb",
   "metadata": {
    "tags": []
   },
   "outputs": [],
   "source": [
    "import numpy as np\n",
    "# Importing standard Qiskit libraries:\n",
    "from qiskit import QuantumCircuit, transpile, Aer, IBMQ, execute\n",
    "from qiskit.tools.jupyter import *\n",
    "from qiskit.visualization import *\n",
    "from qiskit.providers.ibmq import least_busy"
   ]
  },
  {
   "cell_type": "code",
   "execution_count": 3,
   "id": "31af4511-e7e1-41b8-a1c4-c0ea06e18dde",
   "metadata": {
    "tags": []
   },
   "outputs": [
    {
     "data": {
      "text/plain": [
       "<function qiskit.providers.ibmq.least_busy(backends: List[qiskit.providers.backend.Backend], reservation_lookahead: Optional[int] = 60) -> qiskit.providers.backend.Backend>"
      ]
     },
     "execution_count": 3,
     "metadata": {},
     "output_type": "execute_result"
    }
   ],
   "source": [
    "least_busy"
   ]
  },
  {
   "cell_type": "markdown",
   "id": "fc6bcfeb-479a-4354-9894-fc3e0d506d77",
   "metadata": {},
   "source": [
    "---"
   ]
  },
  {
   "cell_type": "code",
   "execution_count": 4,
   "id": "6d8d0f8a-0bf4-44a1-bba1-a0968c0d9ae1",
   "metadata": {
    "tags": []
   },
   "outputs": [],
   "source": [
    "def phase_oracle(n, indices_to_mark, name='Oracle'):\n",
    "    \"\"\"\n",
    "    Generates a phase oracle to flip the phase of marked elements.\n",
    "    Transforms the matrix into a corresponding unitary gate.\n",
    "\n",
    "    Args:\n",
    "        n (int): Number of qubits.\n",
    "        indices_to_mark (list): List of integers representing the indices of\n",
    "                               elements to mark as winners.\n",
    "        name (str, optional): Name of the QuantumCircuit object (default: 'Oracle').\n",
    "\n",
    "    Returns:\n",
    "        QuantumCircuit: A QuantumCircuit object containing the oracle gate.\n",
    "    \"\"\"\n",
    "    qc = QuantumCircuit(n, name=name)  # Initialize a quantum circuit with n qubits.\n",
    "    oracle_matrix = np.identity(2**n)  # Create an identity matrix of dimension 2^n.\n",
    "\n",
    "    # Flip the sign of the specified indices.\n",
    "    for index_to_mark in indices_to_mark:\n",
    "        oracle_matrix[index_to_mark, index_to_mark] = -1\n",
    "\n",
    "    # Apply the matrix as a unitary gate to the circuit's qubits.\n",
    "    qc.unitary(oracle_matrix, range(n))\n",
    "\n",
    "    return qc\n"
   ]
  },
  {
   "cell_type": "code",
   "execution_count": 5,
   "id": "fa0c01bd-bd41-4b74-85ce-f12a6693fe57",
   "metadata": {
    "tags": []
   },
   "outputs": [],
   "source": [
    "def diffuser(n, name='Diffuser'):\n",
    "    \"\"\"\n",
    "    Prepares a diffuser circuit that amplifies the amplitudes of winning states.\n",
    "\n",
    "    Args:\n",
    "        n (int): Number of qubits.\n",
    "        name (str, optional): Name of the QuantumCircuit object (default: 'Diffuser').\n",
    "\n",
    "    Returns:\n",
    "        QuantumCircuit: A QuantumCircuit object representing the diffuser circuit.\n",
    "    \"\"\"\n",
    "    all_nums = list(range(2 ** n))  # [0, ..., (2**n) - 1]\n",
    "    except_zero = all_nums[1:]  # [1, ..., (2**n) - 1]\n",
    "\n",
    "    qc = QuantumCircuit(n, name=name)  # Initialize a quantum circuit with n qubits.\n",
    "\n",
    "    qc.h(range(n))  # Prepare the state |s> = H|0>.\n",
    "    \n",
    "    # Generate the diffuser matrix using the phase_oracle function.\n",
    "    diffuser_matrix = phase_oracle(n, except_zero)\n",
    "    \n",
    "    qc.append(diffuser_matrix, range(n))  # Apply the diffuser matrix => V|s>.\n",
    "    qc.h(range(n))  # Apply the H gate to the circuit => HV|s>.\n",
    "\n",
    "    return qc\n"
   ]
  },
  {
   "cell_type": "code",
   "execution_count": 6,
   "id": "9fcd05c0-4ae1-44b5-ad78-4055609202b2",
   "metadata": {
    "tags": []
   },
   "outputs": [],
   "source": [
    "def grover_search(n, marked):\n",
    "    \"\"\"\n",
    "    Prepares the entire circuit for Grover's search algorithm to find marked elements.\n",
    "\n",
    "    Args:\n",
    "        n (int): Number of qubits.\n",
    "        marked (list): List of keys to search for.\n",
    "\n",
    "    Returns:\n",
    "        QuantumCircuit: Final Grover's search circuit.\n",
    "    \"\"\"\n",
    "    qc = QuantumCircuit(n, n)  # Initialize a quantum circuit with n qubits and classical bits.\n",
    "    M = len(marked)  # Number of marked elements.\n",
    "    N = 2 ** n  # Total number of elements that can be represented with n qubits.\n",
    "    theta = 2 * np.arcsin(np.sqrt(M / N))  # Calculate the angle of rotation.\n",
    "    rounds = int(np.ceil(np.pi / (2 * theta)) - (1 / 2))  # Calculate the number of rounds needed.\n",
    "\n",
    "    # Print information about the algorithm.\n",
    "    print(f\"Number of qubits: {n}\")\n",
    "    print(f\"Keys to search: {marked}\")\n",
    "    print(f\"Number of rounds needed: {rounds}\")\n",
    "\n",
    "    qc.h(range(n))  # Step 1: Prepare the superposition states of each qubit.\n",
    "\n",
    "    for _ in range(rounds):  # For all the rounds...\n",
    "        qc.append(phase_oracle(n, marked), range(n))  # Step 2: Apply the phase oracle.\n",
    "        qc.append(diffuser(n), range(n))  # Step 3: Apply the diffuser.\n",
    "\n",
    "    qc.measure(range(n), range(n))  # Final step: Measure the qubits.\n",
    "\n",
    "    return qc\n"
   ]
  },
  {
   "cell_type": "markdown",
   "id": "5aba3057-81d9-4f78-a906-22ab177710f3",
   "metadata": {},
   "source": [
    "---"
   ]
  },
  {
   "cell_type": "code",
   "execution_count": 7,
   "id": "8831d05f-0ffb-4b1a-8613-b1e3b8b3c712",
   "metadata": {
    "tags": []
   },
   "outputs": [
    {
     "name": "stdout",
     "output_type": "stream",
     "text": [
      "Enter the number of qubits: \n",
      "Enter the elements (space-separated): \n",
      "Number of qubits: 5\n",
      "Keys to search: [3, 7]\n",
      "Number of rounds needed: 3\n",
      "\n",
      "Grover's Search Circuit Summary:\n"
     ]
    },
    {
     "data": {
      "image/png": "[encoded data removed]",
      "text/plain": [
       "<Figure size 1625.27x535.111 with 1 Axes>"
      ]
     },
     "execution_count": 7,
     "metadata": {},
     "output_type": "execute_result"
    }
   ],
   "source": [
    "print(\"Enter the number of qubits: \")\n",
    "n = 5\n",
    "\n",
    "print(\"Enter the elements (space-separated): \")\n",
    "marked = [3, 7]\n",
    "\n",
    "qc = grover_search(n, marked)\n",
    "\n",
    "# Print the Grover's search circuit summary\n",
    "print(\"\\nGrover's Search Circuit Summary:\")\n",
    "qc.draw()"
   ]
  },
  {
   "cell_type": "code",
   "execution_count": 8,
   "id": "827a8f68-d96e-4d66-8f52-f1b60ad5becb",
   "metadata": {
    "tags": []
   },
   "outputs": [
    {
     "data": {
      "text/plain": [
       "{'01010': 9,\n",
       " '01111': 11,\n",
       " '00001': 7,\n",
       " '00110': 14,\n",
       " '11110': 9,\n",
       " '00100': 13,\n",
       " '11000': 12,\n",
       " '10000': 8,\n",
       " '11111': 10,\n",
       " '11011': 16,\n",
       " '11010': 14,\n",
       " '00101': 11,\n",
       " '10001': 12,\n",
       " '01001': 12,\n",
       " '01110': 14,\n",
       " '01011': 14,\n",
       " '11101': 11,\n",
       " '00011': 3941,\n",
       " '00111': 3935,\n",
       " '10100': 8,\n",
       " '10111': 10,\n",
       " '10101': 7,\n",
       " '10010': 7,\n",
       " '11100': 8,\n",
       " '10110': 13,\n",
       " '00010': 8,\n",
       " '01000': 14,\n",
       " '01100': 10,\n",
       " '01101': 10,\n",
       " '00000': 6,\n",
       " '11001': 11,\n",
       " '10011': 7}"
      ]
     },
     "execution_count": 8,
     "metadata": {},
     "output_type": "execute_result"
    }
   ],
   "source": [
    "# Run it in the simulator:\n",
    "backend = Aer.get_backend('qasm_simulator')\n",
    "result = execute(qc, backend, shots = 8192).result()\n",
    "counts = result.get_counts(qc)\n",
    "counts"
   ]
  },
  {
   "cell_type": "code",
   "execution_count": 9,
   "id": "b039d7ea-fea1-443e-add0-3d5f24e824eb",
   "metadata": {
    "tags": []
   },
   "outputs": [
    {
     "data": {
      "image/png": "[encoded data removed]",
      "text/plain": [
       "<Figure size 700x500 with 1 Axes>"
      ]
     },
     "execution_count": 9,
     "metadata": {},
     "output_type": "execute_result"
    }
   ],
   "source": [
    "plot_histogram(counts)"
   ]
  },
  {
   "cell_type": "markdown",
   "id": "3376b3f8-ee0a-4031-a389-b63966e9991a",
   "metadata": {},
   "source": [
    "---"
   ]
  }
 ],
 "metadata": {
  "kernelspec": {
   "display_name": "Python 3 (ipykernel)",
   "language": "python",
   "name": "python3"
  },
  "language_info": {
   "codemirror_mode": {
    "name": "ipython",
    "version": 3
   },
   "file_extension": ".py",
   "mimetype": "text/x-python",
   "name": "python",
   "nbconvert_exporter": "python",
   "pygments_lexer": "ipython3",
   "version": "3.10.8"
  },
  "widgets": {
   "application/vnd.jupyter.widget-state+json": {
    "state": {
     "01ce7135aa85410692c9c61f7bbfd633": {
      "model_module": "@jupyter-widgets/controls",
      "model_module_version": "2.0.0",
      "model_name": "ButtonStyleModel",
      "state": {
       "font_family": null,
       "font_size": null,
       "font_style": null,
       "font_variant": null,
       "font_weight": null,
       "text_color": null,
       "text_decoration": null
      }
     },
     "039906cba2474399bb8887e0db41899f": {
      "model_module": "@jupyter-widgets/base",
      "model_module_version": "2.0.0",
      "model_name": "LayoutModel",
      "state": {}
     },
     "22b83f5ceeab470dbf69e91e75689a8f": {
      "model_module": "@jupyter-widgets/controls",
      "model_module_version": "2.0.0",
      "model_name": "GridBoxModel",
      "state": {
       "children": [
        "IPY_MODEL_fd25eafc56164bf19e533ffa2c49aa74"
       ],
       "layout": "IPY_MODEL_5d4d15a932cc47478f6cec8c921ea440"
      }
     },
     "316da76055cd40b3840290ce81a1cc84": {
      "model_module": "@jupyter-widgets/base",
      "model_module_version": "2.0.0",
      "model_name": "LayoutModel",
      "state": {
       "grid_area": "right",
       "padding": "0px 0px 0px 0px",
       "width": "70px"
      }
     },
     "3ba7e570ade74fb284a2552da5bed956": {
      "model_module": "@jupyter-widgets/controls",
      "model_module_version": "2.0.0",
      "model_name": "HTMLModel",
      "state": {
       "layout": "IPY_MODEL_039906cba2474399bb8887e0db41899f",
       "style": "IPY_MODEL_a4614235febe4869a26fea248135ef07",
       "value": "<h5>Message</h5>"
      }
     },
     "3f4da26c6e0b4cada28eeac9bee80474": {
      "model_module": "@jupyter-widgets/controls",
      "model_module_version": "2.0.0",
      "model_name": "HTMLModel",
      "state": {
       "layout": "IPY_MODEL_6f48007521064f10ab53de60ee3d6a48",
       "style": "IPY_MODEL_cfbb5f599ca14e509f458bb0c1098647",
       "value": "<h5>Job ID</h5>"
      }
     },
     "4793b536867841839e393696eab12509": {
      "model_module": "@jupyter-widgets/controls",
      "model_module_version": "2.0.0",
      "model_name": "HTMLModel",
      "state": {
       "layout": "IPY_MODEL_afb9133d45db48719d3ee0c5524ebe95",
       "style": "IPY_MODEL_db9e56bc96a148cfbb561b13c9d7e319",
       "value": "<h5>Queue</h5>"
      }
     },
     "524bd3b0e2484f1ca152944ec7bde782": {
      "model_module": "@jupyter-widgets/controls",
      "model_module_version": "2.0.0",
      "model_name": "HTMLStyleModel",
      "state": {
       "description_width": "",
       "font_size": null,
       "text_color": null
      }
     },
     "53d0453fcc5a4d958b8ce15ab0dd245f": {
      "model_module": "@jupyter-widgets/base",
      "model_module_version": "2.0.0",
      "model_name": "LayoutModel",
      "state": {
       "width": "145px"
      }
     },
     "58cc50bf34cc44818405f6f882c3fdc7": {
      "model_module": "@jupyter-widgets/controls",
      "model_module_version": "2.0.0",
      "model_name": "HTMLStyleModel",
      "state": {
       "description_width": "",
       "font_size": null,
       "text_color": null
      }
     },
     "5d4d15a932cc47478f6cec8c921ea440": {
      "model_module": "@jupyter-widgets/base",
      "model_module_version": "2.0.0",
      "model_name": "LayoutModel",
      "state": {
       "grid_template_areas": "\n                                       \". . . . right \"\n                                        ",
       "grid_template_columns": "20% 20% 20% 20% 20%",
       "width": "100%"
      }
     },
     "60475e2e93c7412394bc03d1b6ae0418": {
      "model_module": "@jupyter-widgets/base",
      "model_module_version": "2.0.0",
      "model_name": "LayoutModel",
      "state": {
       "margin": "0px 0px 10px 0px"
      }
     },
     "6f48007521064f10ab53de60ee3d6a48": {
      "model_module": "@jupyter-widgets/base",
      "model_module_version": "2.0.0",
      "model_name": "LayoutModel",
      "state": {
       "width": "190px"
      }
     },
     "982502e5c8a94dbf90e2ba6e2862f154": {
      "model_module": "@jupyter-widgets/base",
      "model_module_version": "2.0.0",
      "model_name": "LayoutModel",
      "state": {
       "margin": "0px 0px 0px 37px",
       "width": "600px"
      }
     },
     "a4614235febe4869a26fea248135ef07": {
      "model_module": "@jupyter-widgets/controls",
      "model_module_version": "2.0.0",
      "model_name": "HTMLStyleModel",
      "state": {
       "description_width": "",
       "font_size": null,
       "text_color": null
      }
     },
     "afb9133d45db48719d3ee0c5524ebe95": {
      "model_module": "@jupyter-widgets/base",
      "model_module_version": "2.0.0",
      "model_name": "LayoutModel",
      "state": {
       "width": "70px"
      }
     },
     "b2d936390cdf4ee391ced3e038d9be2b": {
      "model_module": "@jupyter-widgets/controls",
      "model_module_version": "2.0.0",
      "model_name": "HBoxModel",
      "state": {
       "children": [
        "IPY_MODEL_3f4da26c6e0b4cada28eeac9bee80474",
        "IPY_MODEL_ec9feba0c30846af9c6dfe86b084fb11",
        "IPY_MODEL_fd0b0922f14f406ab404fd2735fc27a0",
        "IPY_MODEL_4793b536867841839e393696eab12509",
        "IPY_MODEL_3ba7e570ade74fb284a2552da5bed956"
       ],
       "layout": "IPY_MODEL_982502e5c8a94dbf90e2ba6e2862f154"
      }
     },
     "bd1810fe8bc7495a9038043d5405cea1": {
      "model_module": "@jupyter-widgets/base",
      "model_module_version": "2.0.0",
      "model_name": "LayoutModel",
      "state": {
       "width": "95px"
      }
     },
     "cfbb5f599ca14e509f458bb0c1098647": {
      "model_module": "@jupyter-widgets/controls",
      "model_module_version": "2.0.0",
      "model_name": "HTMLStyleModel",
      "state": {
       "description_width": "",
       "font_size": null,
       "text_color": null
      }
     },
     "da1c094f5d974ba4b61cf4c42ae3ad25": {
      "model_module": "@jupyter-widgets/controls",
      "model_module_version": "2.0.0",
      "model_name": "HTMLModel",
      "state": {
       "layout": "IPY_MODEL_60475e2e93c7412394bc03d1b6ae0418",
       "style": "IPY_MODEL_dd9f7887bf4046a4b0930c3fbf79459d",
       "value": "<p style='font-family: IBM Plex Sans, Arial, Helvetica, sans-serif; font-size: 20px; font-weight: medium;'>Circuit Properties</p>"
      }
     },
     "db9e56bc96a148cfbb561b13c9d7e319": {
      "model_module": "@jupyter-widgets/controls",
      "model_module_version": "2.0.0",
      "model_name": "HTMLStyleModel",
      "state": {
       "description_width": "",
       "font_size": null,
       "text_color": null
      }
     },
     "dd9f7887bf4046a4b0930c3fbf79459d": {
      "model_module": "@jupyter-widgets/controls",
      "model_module_version": "2.0.0",
      "model_name": "HTMLStyleModel",
      "state": {
       "description_width": "",
       "font_size": null,
       "text_color": null
      }
     },
     "ec9feba0c30846af9c6dfe86b084fb11": {
      "model_module": "@jupyter-widgets/controls",
      "model_module_version": "2.0.0",
      "model_name": "HTMLModel",
      "state": {
       "layout": "IPY_MODEL_53d0453fcc5a4d958b8ce15ab0dd245f",
       "style": "IPY_MODEL_58cc50bf34cc44818405f6f882c3fdc7",
       "value": "<h5>Backend</h5>"
      }
     },
     "fd0b0922f14f406ab404fd2735fc27a0": {
      "model_module": "@jupyter-widgets/controls",
      "model_module_version": "2.0.0",
      "model_name": "HTMLModel",
      "state": {
       "layout": "IPY_MODEL_bd1810fe8bc7495a9038043d5405cea1",
       "style": "IPY_MODEL_524bd3b0e2484f1ca152944ec7bde782",
       "value": "<h5>Status</h5>"
      }
     },
     "fd25eafc56164bf19e533ffa2c49aa74": {
      "model_module": "@jupyter-widgets/controls",
      "model_module_version": "2.0.0",
      "model_name": "ButtonModel",
      "state": {
       "button_style": "primary",
       "description": "Clear",
       "layout": "IPY_MODEL_316da76055cd40b3840290ce81a1cc84",
       "style": "IPY_MODEL_01ce7135aa85410692c9c61f7bbfd633",
       "tooltip": null
      }
     }
    },
    "version_major": 2,
    "version_minor": 0
   }
  }
 },
 "nbformat": 4,
 "nbformat_minor": 5
}
