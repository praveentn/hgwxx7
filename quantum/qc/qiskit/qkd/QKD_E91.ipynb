{
 "cells": [
  {
   "cell_type": "markdown",
   "metadata": {},
   "source": [
    "## E91 Protocol using Quantum entanglement"
   ]
  },
  {
   "cell_type": "markdown",
   "metadata": {},
   "source": [
    "### This is for simulation only on qasm Simulator"
   ]
  },
  {
   "cell_type": "markdown",
   "metadata": {},
   "source": [
    "#### Code by Akash"
   ]
  },
  {
   "cell_type": "markdown",
   "metadata": {},
   "source": [
    "Brief description of the code.\n",
    "If you want to send a code over the internet but dont want anyone to hear your conversation, QKD is the solution.\n",
    "Basically, QKD is about making the right information available to public keeping the important points private.\n",
    "Here we deal with **Alice** who wants to send a secret message to **Bob**  "
   ]
  },
  {
   "cell_type": "markdown",
   "metadata": {},
   "source": [
    "Required packages"
   ]
  },
  {
   "cell_type": "code",
   "execution_count": 1,
   "metadata": {},
   "outputs": [],
   "source": [
    "#required dictionaries\n",
    "import qiskit\n",
    "import numpy as np\n",
    "import random\n",
    "# regular expressions module\n",
    "#can use a different function to compare/find the results\n",
    "import re\n",
    "\n",
    "# importing the circuits and registers from qiskit\n",
    "from qiskit import QuantumCircuit, QuantumRegister, ClassicalRegister, execute, Aer\n",
    "\n",
    "# import plotting tools\n",
    "from qiskit.tools.visualization import circuit_drawer, plot_histogram"
   ]
  },
  {
   "cell_type": "markdown",
   "metadata": {},
   "source": [
    "Set backend as the qasm Simulator"
   ]
  },
  {
   "cell_type": "code",
   "execution_count": 2,
   "metadata": {},
   "outputs": [],
   "source": [
    "#define backend from the simulator\n",
    "backend = Aer.get_backend('qasm_simulator')  "
   ]
  },
  {
   "cell_type": "markdown",
   "metadata": {},
   "source": [
    "This notebook deals with the demonstration of the E91 protocol, if one needs to encrypt a message, use the key to encrypt it as one desires using classical encryption techniques. "
   ]
  },
  {
   "cell_type": "code",
   "execution_count": 3,
   "metadata": {},
   "outputs": [],
   "source": [
    "# Creating registers\n",
    "qr = QuantumRegister(2, name=\"qr\")\n",
    "cr = ClassicalRegister(2, name=\"cr\")"
   ]
  },
  {
   "cell_type": "markdown",
   "metadata": {},
   "source": [
    "In this code, a third part will create an entangled pair and send it to Alice and Bob. The code below will create a entangled pair of qubits."
   ]
  },
  {
   "cell_type": "code",
   "execution_count": 4,
   "metadata": {},
   "outputs": [
    {
     "data": {
      "image/png": "[encoded data removed]",
      "text/plain": [
       "<Figure size 369.628x204.68 with 1 Axes>"
      ]
     },
     "execution_count": 4,
     "metadata": {},
     "output_type": "execute_result"
    }
   ],
   "source": [
    "# this is charlies circuit, she will create entangled pair and send it to Alice and Bob\n",
    "Charl_QC_ent = QuantumCircuit(qr, cr, name='Entanglement ckt')\n",
    "Charl_QC_ent.x(qr[0])\n",
    "Charl_QC_ent.x(qr[1])\n",
    "Charl_QC_ent.h(qr[0])\n",
    "Charl_QC_ent.cx(qr[0],qr[1])\n",
    "#not to measure, we need an entangled state\n",
    "#this will create an entangles state. (in the real world they use photons)\n",
    "#qr_0 will go to Alice\n",
    "#qr_1 will go to Bob\n",
    "Charl_QC_ent.draw('mpl')"
   ]
  },
  {
   "cell_type": "markdown",
   "metadata": {},
   "source": [
    "Alice and Bob will apply some measurements on the qubit. \n",
    "qr_0 will go to **Alice** and she will measure the qubits projection in the X basis, followed by the W basis and finally the  Z basis.\n",
    "qr_1 will go to **Bob** and he will measure the qubits projection in W, Z and V basis.\n",
    "\n",
    "As you can see both Alice and Bob apply the same X and W basis. I.e they are common and will be used to generate the keys."
   ]
  },
  {
   "cell_type": "code",
   "execution_count": 5,
   "metadata": {},
   "outputs": [],
   "source": [
    "## Alice's measurement circuits\n",
    "#qr_0 will goto Alice\n",
    "#can use any transformation but need two common\n",
    "\n",
    "# measure the spin projection of Alice's qubit onto the a_1 direction (X basis)\n",
    "#this used a H gate\n",
    "#1\n",
    "measureA_X = QuantumCircuit(qr, cr, name='measure_A_X')\n",
    "measureA_X.h(qr[0])\n",
    "measureA_X.measure(qr[0],cr[0])\n",
    "#print(measureA_X) #plot the ckt\n",
    "\n",
    "#2\n",
    "# measure the spin projection of Alice's qubit onto the a_2 direction (W basis)\n",
    "#this uses S,H and T gates\n",
    "measureA_W = QuantumCircuit(qr, cr, name='measure_A_W')\n",
    "measureA_W.s(qr[0])\n",
    "measureA_W.h(qr[0])\n",
    "measureA_W.t(qr[0])\n",
    "measureA_W.h(qr[0])\n",
    "measureA_W.measure(qr[0],cr[0])\n",
    "#print(measureA_W) #print the ckt\n",
    "\n",
    "#3\n",
    "# measure the spin projection of Alice's qubit onto the a_3 direction (standard Z basis)\n",
    "#uses no gates, just measure\n",
    "measureA_Z = QuantumCircuit(qr, cr, name='measure_A_Z')\n",
    "measureA_Z.measure(qr[0],cr[0])\n",
    "#print(measureA_Z)\n",
    "\n",
    "\n",
    "##Do the same on Bobs site qr_1 will goto Bobs site\n",
    "\n",
    "#1\n",
    "# measure the spin projection of Bob's qubit onto the b_1 direction (W basis)\n",
    "#this uses S,H and T gates\n",
    "measureB_W = QuantumCircuit(qr, cr, name='measureB1')\n",
    "measureB_W.s(qr[1])\n",
    "measureB_W.h(qr[1])\n",
    "measureB_W.t(qr[1])\n",
    "measureB_W.h(qr[1])\n",
    "measureB_W.measure(qr[1],cr[1])\n",
    "#print(measureB_W)\n",
    "\n",
    "#2\n",
    "# measure the spin projection of Bob's qubit onto the b_2 direction (standard Z basis)\n",
    "#uses no gates, just measure\n",
    "measureB_Z = QuantumCircuit(qr, cr, name='measureB2')\n",
    "measureB_Z.measure(qr[1],cr[1])\n",
    "#print(measureB_Z)\n",
    "\n",
    "#3\n",
    "# measure the spin projection of Bob's qubit onto the b_3 direction (V basis)\n",
    "#uses S,H,tgd gates\n",
    "measureB_V = QuantumCircuit(qr, cr, name='measureB3')\n",
    "measureB_V.s(qr[1])\n",
    "measureB_V.h(qr[1])\n",
    "measureB_V.tdg(qr[1])\n",
    "measureB_V.h(qr[1])\n",
    "measureB_V.measure(qr[1],cr[1])\n",
    "#print(measureB_V)\n",
    "\n",
    "## Lists of measurement circuits\n",
    "A_Measured = [measureA_X, measureA_W, measureA_W]\n",
    "B_Measured = [measureB_W, measureB_Z, measureB_V]"
   ]
  },
  {
   "cell_type": "markdown",
   "metadata": {},
   "source": [
    "The code above will generate circuits to project the qubits state in the V,W,X,Z basis as mentioned above.\n",
    "\n",
    "Now we define how many entangled particles will we send inorder to generate the key. After that we will randomly choose these above mentioned measurements (these will be called alice and bob choices)"
   ]
  },
  {
   "cell_type": "code",
   "execution_count": 6,
   "metadata": {},
   "outputs": [],
   "source": [
    "# Define the number of entangled particles, larger the better\n",
    "Num_entangled_particles = 50"
   ]
  },
  {
   "cell_type": "code",
   "execution_count": 7,
   "metadata": {},
   "outputs": [],
   "source": [
    "#randomly choose bweteen the which measurement to perform\n",
    "\n",
    "A_Measure_Choice = [random.randint(1, 3) for i in range(Num_entangled_particles)] # string b of Alice\n",
    "B_Measure_Choice = [random.randint(1, 3) for i in range(Num_entangled_particles)] # string b' of Bob"
   ]
  },
  {
   "cell_type": "code",
   "execution_count": 8,
   "metadata": {},
   "outputs": [],
   "source": [
    "#create a list of circuits to be executed at once\n",
    "circuits = []\n",
    "\n",
    "#A_Measurere and B_Measure are lists which contain alice and Bobs choices\n",
    "\n",
    "#randomly choose a circuit\n",
    "for i in range(Num_entangled_particles):\n",
    "    #first an entangled pair will be created at charls end and one particle will be sent to alices end and another at bobs end\n",
    "    #thus inorder to measure them simultaniously we compbine the circuits and execute it in one go.\n",
    "    \n",
    "    #in the real world one of the qubit generated by charlie will be sent to alice who will create a superposition by randomly choosing the measurements.\n",
    "    #Bob will do the same at his site.\n",
    "    #both measure them. Since its an entangled state, there will be some similarities in the measurements\n",
    "    \n",
    "    circuitName = Charl_QC_ent + A_Measured[A_Measure_Choice[i]-1] + B_Measured[B_Measure_Choice[i]-1]\n",
    "\n",
    "    #technically Alice and Bob will measure this indivually at their own site\n",
    "    circuits.append(circuitName)"
   ]
  },
  {
   "cell_type": "code",
   "execution_count": 9,
   "metadata": {},
   "outputs": [],
   "source": [
    "#shoot one shot in the simulator\n",
    "#for error mitigation shoot 3 or 4 shots and choose the one which has the higher probability\n",
    "\n",
    "result = execute(circuits, backend=backend, shots=1).result() #execute the whole circuit"
   ]
  },
  {
   "cell_type": "code",
   "execution_count": 10,
   "metadata": {},
   "outputs": [],
   "source": [
    "#technically Alice and Bob will measure this at their own site and store the results in A and A', if done so, we wont need this re.compile routine\n",
    "Find_Patterns = [\n",
    "    re.compile('00$'), # search for the '00' output (Alice obtained -1 and Bob obtained -1)\n",
    "    re.compile('01$'), # search for the '01' output\n",
    "    re.compile('10$'), # search for the '10' output (Alice obtained -1 and Bob obtained 1)\n",
    "    re.compile('11$')  # search for the '11' output\n",
    "]\n",
    "#this basically searches digits XY in the given list"
   ]
  },
  {
   "cell_type": "code",
   "execution_count": 11,
   "metadata": {},
   "outputs": [],
   "source": [
    "A_Res = [] # Alice's results (string a)\n",
    "B_Res = [] # Bob's results (string a')\n",
    "\n",
    "#search through all results to find the (Alice,bob): 00,01,10 and 11 digits. These correspond to (alice,bob) -1-1, 1-1,-11, 11; respectively \n",
    "for i in range(Num_entangled_particles):\n",
    "\n",
    "    temp_res = list(result.get_counts(circuits[i]).keys())[0] # extract the key from the dict and transform it to str; execution result of the i-th circuit\n",
    "    if Find_Patterns[0].search(temp_res): # check if the key is '00' (if the measurement results are -1,-1)\n",
    "        A_Res.append(-1) # Alice got the result -1 \n",
    "        B_Res.append(-1) # Bob got the result -1\n",
    "        \n",
    "    if Find_Patterns[1].search(temp_res):\n",
    "        A_Res.append(1)\n",
    "        B_Res.append(-1)\n",
    "        \n",
    "    if Find_Patterns[2].search(temp_res): # check if the key is '10' (if the measurement results are -1,1)\n",
    "        A_Res.append(-1) # Alice got the result -1 \n",
    "        B_Res.append(1) # Bob got the result 1\n",
    "        \n",
    "    if Find_Patterns[3].search(temp_res): \n",
    "        A_Res.append(1)\n",
    "        B_Res.append(1)\n"
   ]
  },
  {
   "cell_type": "code",
   "execution_count": 12,
   "metadata": {},
   "outputs": [],
   "source": [
    "A_Key = [] # Alice's key string k\n",
    "B_Key = [] # Bob's key string k'\n",
    "#inorder to generate the key, check the common rotations that both the qubits did\n",
    "# comparing the stings with measurement choices\n",
    "for i in range(Num_entangled_particles):\n",
    "    # if Alice and Bob have measured the spin projections onto the a_2/b_1 or a_3/b_2 directions\n",
    "    #check where Alice and Bob applied the same projections, at that position, both will have equal and opposite qubit measurements\n",
    "    \n",
    "    if (A_Measure_Choice[i] == 2 and B_Measure_Choice[i] == 1) or (A_Measure_Choice[i] == 3 and B_Measure_Choice[i] == 2):\n",
    "        A_Key.append(A_Res[i]) # record the i-th result obtained by Alice as the bit of the secret key k\n",
    "        B_Key.append(- B_Res[i]) # record the multiplied by -1 i-th result obtained Bob as the bit of the secret key k'"
   ]
  },
  {
   "cell_type": "code",
   "execution_count": 13,
   "metadata": {},
   "outputs": [
    {
     "name": "stdout",
     "output_type": "stream",
     "text": [
      "11011101\n",
      "11011101\n",
      "its a match\n"
     ]
    }
   ],
   "source": [
    "#convert the -1 to 0 and keep the 1s\n",
    "#inorder to generate a binary key, convert the negative 1s to 0s\n",
    "#this is not required \n",
    "str_Ak =''\n",
    "str_Bk =''\n",
    "for i in A_Key:\n",
    "    if i == -1:\n",
    "        str_Ak+='0'\n",
    "    else:\n",
    "        str_Ak+='1'\n",
    "        \n",
    "for i in B_Key:\n",
    "    if i == -1:\n",
    "        str_Bk+='0'\n",
    "    else:\n",
    "        str_Bk+='1'\n",
    "print(str_Ak)\n",
    "print(str_Bk)\n",
    "if str_Ak == str_Bk:\n",
    "    print('its a match')"
   ]
  },
  {
   "cell_type": "markdown",
   "metadata": {},
   "source": [
    "Note: One can use this key to encrypt a message and send it. It should be noted that length of the key should be equal to or longer than the length of the message."
   ]
  },
  {
   "cell_type": "markdown",
   "metadata": {},
   "source": [
    "Note: In the case where one wants to simulate a quantum channel/network, one can use repeaters to send the qubits to Alice and Bob, as done in the BB84 project notebook."
   ]
  }
 ],
 "metadata": {
  "kernelspec": {
   "display_name": "Python 3",
   "language": "python",
   "name": "python3"
  },
  "language_info": {
   "codemirror_mode": {
    "name": "ipython",
    "version": 3
   },
   "file_extension": ".py",
   "mimetype": "text/x-python",
   "name": "python",
   "nbconvert_exporter": "python",
   "pygments_lexer": "ipython3",
   "version": "3.7.3"
  }
 },
 "nbformat": 4,
 "nbformat_minor": 2
}
