{
 "cells": [
  {
   "cell_type": "markdown",
   "metadata": {},
   "source": [
    "## Quantum key destribution and Quantum Cryptography"
   ]
  },
  {
   "cell_type": "markdown",
   "metadata": {},
   "source": [
    "#### Code by Akash and Daniel "
   ]
  },
  {
   "cell_type": "markdown",
   "metadata": {},
   "source": [
    "Brief description of the code.\n",
    "If you want to send a message over the internet but do not want anyone to hear your conversation, QKD is the solution.\n",
    "Basically, QKD is about making the right information available to public keeping the important points private.\n",
    "Here we deal with **Alice** who wants to send a secret message to **Bob**  "
   ]
  },
  {
   "cell_type": "markdown",
   "metadata": {},
   "source": [
    "Required packages"
   ]
  },
  {
   "cell_type": "code",
   "execution_count": 1,
   "metadata": {},
   "outputs": [],
   "source": [
    "import qiskit\n",
    "\n",
    "#other useful packages\n",
    "import math\n",
    "import numpy as np\n",
    "import matplotlib.pyplot as plt\n",
    "\n",
    "# Import Qiskit\n",
    "from qiskit import BasicAer, Aer, execute, IBMQ\n",
    "from qiskit import QuantumCircuit, ClassicalRegister, QuantumRegister\n",
    "from qiskit.tools.visualization import plot_histogram, plot_bloch_multivector"
   ]
  },
  {
   "cell_type": "markdown",
   "metadata": {},
   "source": [
    "Set backend as the qasm simulator (or the actual IBMQ hardware as per your choice)."
   ]
  },
  {
   "cell_type": "code",
   "execution_count": 2,
   "metadata": {},
   "outputs": [],
   "source": [
    "# define backend from the simulator\n",
    "backend = Aer.get_backend('qasm_simulator')\n",
    "\n",
    "#one can use the actual IBMQ hardware\n",
    "#for this use the backend as mentioned below with the appropriate token.\n",
    "#IBMQ.load_account()\n",
    "#provider = IBMQ.get_provider(hub='ibm-q-education')\n",
    "#backend_ibmq = provider.get_backend('ibmq_16_melbourne') "
   ]
  },
  {
   "cell_type": "markdown",
   "metadata": {},
   "source": [
    "## Part 1: Define the message "
   ]
  },
  {
   "cell_type": "markdown",
   "metadata": {},
   "source": [
    "Enter a message that you would like to transmit to Bob. The default message is 'Hi'. The cell below takes the input message and defines the 'length of message' (slightly longer than the actual message). This will be useful to generate our key. The longer this len_message, the better (keep it 3x to be on the safe side)."
   ]
  },
  {
   "cell_type": "code",
   "execution_count": 3,
   "metadata": {},
   "outputs": [
    {
     "name": "stdout",
     "output_type": "stream",
     "text": [
      "Enter a short message (default message is \"Hello\") : \n",
      "The message to be sent is \" Hello \"\n"
     ]
    }
   ],
   "source": [
    "# you are ALICE\n",
    "# this block deals with the breaking of message into small chucnks, need small chunks if you have small number of qubits\n",
    "\n",
    "#message = 'Hello' #used for debugging\n",
    "message = input('Enter a short message (default message is \"Hello\") : ')\n",
    "if len(message)<1:\n",
    "    message = 'Hello'\n",
    "print('The message to be sent is \"', message,'\"')\n",
    "\n",
    "\n",
    "# initial size of encrypttion key, arbitary number to multiply so that len of string/key is longer than the actual message!\n",
    "len_message = len(message)*3"
   ]
  },
  {
   "cell_type": "markdown",
   "metadata": {},
   "source": [
    "Define the number of qubits of the system that will be used to process. Since we need to generate a random string of binary numbers, we need to restrict it with the maximum available qubits. We then divide the message into chunks of maximum available qubits (default 1 qubits).\n",
    "\n",
    "For transmitting the qubit from Alice and Bob, we need additionaly some qubits, in our case 3 or 5, depending on, wether we want to simulate quantum repeaters or not. The transmission happens via quantum teleportation."
   ]
  },
  {
   "cell_type": "code",
   "execution_count": 4,
   "metadata": {
    "scrolled": true
   },
   "outputs": [
    {
     "name": "stdout",
     "output_type": "stream",
     "text": [
      "Key length = length of message 15\n",
      "The message is broken in to the following chuncks: [1, 1, 1, 1, 1, 1, 1, 1, 1, 1, 1, 1, 1, 1, 1]\n"
     ]
    }
   ],
   "source": [
    "# define number of qubits\n",
    "num_qbits = 1\n",
    "\n",
    "# break message into small chuncks with len <=5 (using 5 qubit systems)\n",
    "break_message = []\n",
    "\n",
    "# break the len_message into chunks of size 5 or less\n",
    "for i in range(int(len_message/num_qbits)):\n",
    "    break_message.append(num_qbits)\n",
    "if len_message%num_qbits!=0:\n",
    "    break_message.append(len_message%num_qbits)\n",
    "    \n",
    "# print the results\n",
    "print('Key length = length of message', len_message)\n",
    "print('The message is broken in to the following chuncks:',break_message) #shows how the message will be broken down"
   ]
  },
  {
   "cell_type": "markdown",
   "metadata": {},
   "source": [
    "As you can see from the above step, the length of the message will be equal to length of the key, however this is subdivided into small bits (of size <5 bits), so that we can generate a 5 bit random binary string."
   ]
  },
  {
   "cell_type": "markdown",
   "metadata": {},
   "source": [
    "# The breakdown of the BB84 protocol (a simpler version)\n",
    "* **Alice** wants to send the above message to **Bob** .\n",
    "\n",
    "1) Alice will generate a random string of binary numbers whose length will be equal to the length of the message (or greater).\n",
    "\n",
    "2) Alice will convert this string into corresponding qubits. But she will put them into a superposition before sending it to Bob\n",
    "\n",
    "2.5) Alice and Bob each create a \"rotation key\". For Alice, it decides, whether she preapres her qubit in 0 or 1, for Bob it decides, whether he wants to apply an H-gate or not (see also 3 and 4). \n",
    "\n",
    "3) Alice will send this superposition to Bob.\n",
    "\n",
    "4) Bob recievs this superposition and randomly inverses the superposition (depending on his \"rotation key\"). Then he measures the qubit.\n",
    "\n",
    "5) Now, Alice and Bob will publicly share the \"rotation key\". If the key elements at the same position matches, the final key consists of the bits at the mentioned positions of Alice's random string (see 1) ) and Bob's measurment outcome.\n",
    "\n",
    "6) Alice and Bob create their keys which will be used to encode message by Alice and decode the message at Bobs site."
   ]
  },
  {
   "cell_type": "markdown",
   "metadata": {},
   "source": [
    "## Define a function to generate a random string of binary digits \n",
    " The input is size of the string that needs to be generated.\n",
    " \n",
    " The output is the random string of binary digits."
   ]
  },
  {
   "cell_type": "code",
   "execution_count": 5,
   "metadata": {},
   "outputs": [],
   "source": [
    "'''\n",
    "generate a random key to encrypt the message\n",
    "random string generator of str_len (the length of the string)\n",
    "this generates the initial key as per the length of string\n",
    "'''\n",
    "#can change the backend here to run on actual hardware. Default in the qasm_simulator\n",
    "#backend = provider.get_backend('ibmq_bogota')\n",
    "\n",
    "def RandomStringG(str_len, circ, string_qRegister, string_clRegister):\n",
    "    #n = str_len             # send parameter/argument\n",
    "    op_str = '' # define a empty output string that will be returned\n",
    "    # this will generate a circuit which will output a randomly 1s or 0s in chunks of 5 bits/units\n",
    "    for j in range(temp_n):    \n",
    "        circ.h(j)                    # H gate to make superposition of 1 and 0\n",
    "        circ.measure(j,j)         # collapse the superposition\n",
    "        \n",
    "        op_str = list(execute (circ , backend, shots=1).result().get_counts(circ).keys())[0]  \n",
    "    return op_str, circ"
   ]
  },
  {
   "cell_type": "markdown",
   "metadata": {},
   "source": [
    "Alice will generate a random key called Initial Key. This will be used to generate the encryption key.\n",
    "\n",
    "**Alice and Alice only will have this key.** (Initial Key) "
   ]
  },
  {
   "cell_type": "code",
   "execution_count": 6,
   "metadata": {},
   "outputs": [
    {
     "name": "stdout",
     "output_type": "stream",
     "text": [
      "Initial key (string):  000110111111110\n"
     ]
    }
   ],
   "source": [
    "# define the quantum/classical register and quantum circuit\n",
    "\n",
    "# we want to have qubits in chunks of 1, as we have a 5 quibit system, we can use the remaining 4qubits for transmission\n",
    "temp_n = num_qbits\n",
    "n      = len_message\n",
    "key_Alice = ''\n",
    "\n",
    "string_qRegister = QuantumRegister(temp_n, 'qRNG')       # create a Q register of size temp_n\n",
    "string_clRegister = ClassicalRegister(temp_n, 'c')     # create a Classical Register\n",
    "circ = QuantumCircuit(string_qRegister, string_clRegister)         # create a quantum circuit\n",
    "\n",
    "# this is the initial key that Alice generates and will be used to generate the encryption and so on\n",
    "for i in range(0, math.ceil(n/temp_n)): # consider the upper limit of the division\n",
    "    # the second definition of the circuit is due to the fact that this circuit is running multiple times,\n",
    "    # but we also want to show, how one of the circuits looks like\n",
    "    circ = QuantumCircuit(string_qRegister, string_clRegister)\n",
    "    key, circ = RandomStringG(len_message, circ, string_qRegister, string_clRegister) # store the random string in the variable key\n",
    "    # execute and store/append the results  in op_str\n",
    "    # generates a 5bit binary number randomly, as n=5\n",
    "    key_Alice += key\n",
    "    \n",
    "#key_Alice = key_Alice[0:n]\n",
    "print('Initial key (string): ', key_Alice)              # print key"
   ]
  },
  {
   "cell_type": "code",
   "execution_count": 7,
   "metadata": {},
   "outputs": [
    {
     "name": "stdout",
     "output_type": "stream",
     "text": [
      "Circuit to generate quantum random numbers.\n"
     ]
    },
    {
     "data": {
      "image/png": "[encoded data removed]",
      "text/plain": [
       "<Figure size 266.084x144.48 with 1 Axes>"
      ]
     },
     "execution_count": 7,
     "metadata": {},
     "output_type": "execute_result"
    }
   ],
   "source": [
    "print('Circuit to generate quantum random numbers.')\n",
    "circ.draw('mpl')"
   ]
  },
  {
   "cell_type": "markdown",
   "metadata": {},
   "source": [
    "Now, Alice will generate a random string of binary numbers again. This will be transmitted to Bob"
   ]
  },
  {
   "cell_type": "code",
   "execution_count": 8,
   "metadata": {},
   "outputs": [
    {
     "name": "stdout",
     "output_type": "stream",
     "text": [
      "Rotation key (string):  111100000000110\n"
     ]
    }
   ],
   "source": [
    "# generate a random string of binary digits which she will send to Bob\n",
    "A_rot = ''\n",
    "\n",
    "# like above\n",
    "for i in range(0, math.ceil(n/temp_n)): # consider the upper limit of the division\n",
    "    circ = QuantumCircuit(string_qRegister, string_clRegister)\n",
    "    key, circ = RandomStringG(len_message, circ, string_qRegister, string_clRegister) # store the random string in the variable key\n",
    "    A_rot += key\n",
    "\n",
    "print('Rotation key (string): ', A_rot)"
   ]
  },
  {
   "cell_type": "markdown",
   "metadata": {},
   "source": [
    "Similarly, Bob will generate a random string. Bob will send this to Alice"
   ]
  },
  {
   "cell_type": "code",
   "execution_count": 9,
   "metadata": {},
   "outputs": [
    {
     "name": "stdout",
     "output_type": "stream",
     "text": [
      "Rotation key (string):  010110110110110\n"
     ]
    }
   ],
   "source": [
    "# at the same time Bob will generate a random key which he will send to Alice\n",
    "B_rot = ''\n",
    "\n",
    "# like above\n",
    "for i in range(0, math.ceil(n/temp_n)): # consider the upper limit of the division\n",
    "    circ = QuantumCircuit(string_qRegister, string_clRegister)\n",
    "    key, circ = RandomStringG(len_message, circ, string_qRegister, string_clRegister) # store the random string in the variable key\n",
    "    B_rot += key\n",
    "\n",
    "\n",
    "print('Rotation key (string): ', B_rot)"
   ]
  },
  {
   "cell_type": "markdown",
   "metadata": {},
   "source": [
    "Now both Alice and Bob have generated and shared their rotation keys.\n",
    "\n",
    "Now, Alice uses this **Alice's Rotation Key**. She wants to a send a superposition of qubits to Bob. For that first she checks if the bit is 0, then she will prepare a qubit on the negative z axis. If the bit is one, she will prepare a qubit on the positive z axis. This is done by an X gate.\n",
    "\n",
    "Furthermore, Alice checks that if it is a 1 bit, she will rotate the qubit using an H gate.\n",
    "\n",
    "Now she sends this superposition to Bob.\n",
    "\n",
    "He will take this and rotate it in the opposite direction with an H gate. After that Bob measures the qubit and records the result, this is stored in Bob_result.\n",
    "\n",
    "*If a third party observes this superposition, the key/state will be broken and Bob and Alice will know!*\n",
    "\n",
    "#### Note: Only Alice's Rotation Key and Bob's Rotation Key are public\n"
   ]
  },
  {
   "cell_type": "markdown",
   "metadata": {},
   "source": [
    "Next, the quantum communication happens. Alice uses her private string and modifies it according to her \"rotaion key\" to deifine a qubit in superposition, before sending it through the quantum channel to Bob.\n",
    "\n",
    "Therefore, some functions preparing the channel are defined in the following."
   ]
  },
  {
   "cell_type": "markdown",
   "metadata": {},
   "source": [
    "* Define the teleportation function, the function which will generate the repeater circuit. Similarly one for no_repeater. Finally we define how the superposiiton of the qubit is formed and transmitted in the function called 'quantum_channel' "
   ]
  },
  {
   "cell_type": "code",
   "execution_count": 10,
   "metadata": {},
   "outputs": [],
   "source": [
    "def teleportation(circ, qReg, clReg, a0, a1, b2):\n",
    "    '''\n",
    "    instead of distributing the entangled pair of qubits, what is not possible using qiskit,\n",
    "    the initial state we want to teleport is transmitted classically to this circuit and initialized\n",
    "    '''\n",
    "    \n",
    "    # Alice wants to measure in the computational basis\n",
    "    circ.cx(a0, a1)\n",
    "    circ.h(a0)\n",
    "    circ.barrier() # put a barrier\n",
    "    \n",
    "    # if using real hardware, the measurment cannot be done, when more gates are used afterwards\n",
    "    circ.cz(a0, b2)\n",
    "    circ.cx(a1, b2)\n",
    "\n",
    "    return circ"
   ]
  },
  {
   "cell_type": "code",
   "execution_count": 11,
   "metadata": {},
   "outputs": [],
   "source": [
    "def repeater(circ, qReg, clReg, a, b, c, d):\n",
    "    '''\n",
    "    since qiskit does not support distributing entangled pair of qubits (see also in teleportation()),\n",
    "    the repeaters, using the entanglement swapping, are simulated on a single quantum register\n",
    "    '''\n",
    "    \n",
    "    # prepare two entangled pair of qubits\n",
    "    # first pair\n",
    "    circ.h(a)\n",
    "    circ.cx(a, b)\n",
    "    \n",
    "    # second pair\n",
    "    circ.h(c)\n",
    "    circ.cx(c, d)\n",
    "    \n",
    "    # barrier\n",
    "    circ.barrier()\n",
    "    \n",
    "    # Alice has qubit a, Charlotte has qubit b and c, and Bob has qubit d\n",
    "    # teleport Charlotte's first qubit to Bob\n",
    "    circ = teleportation(circ, qReg, clReg, b, c, d)\n",
    "    \n",
    "    return circ"
   ]
  },
  {
   "cell_type": "code",
   "execution_count": 12,
   "metadata": {},
   "outputs": [],
   "source": [
    "def no_repeater(circ, qReg, clReg, a, b, c, d):\n",
    "    \n",
    "    # entangle\n",
    "    circ.h(a)\n",
    "    circ.cx(a,d)\n",
    "    \n",
    "    return circ"
   ]
  },
  {
   "cell_type": "markdown",
   "metadata": {},
   "source": [
    "The code is multipurpose code, if you need the code to run with repeaters, keep the need_repeater bool as true. If you do not need repeaters, change it to false\n",
    "\n",
    "Now, consider the situation with the repeater."
   ]
  },
  {
   "cell_type": "code",
   "execution_count": 13,
   "metadata": {},
   "outputs": [],
   "source": [
    "#if true then repeaters will act on the circuit\n",
    "#if false no repeaters will be included\n",
    "need_repeater = True"
   ]
  },
  {
   "cell_type": "code",
   "execution_count": 14,
   "metadata": {},
   "outputs": [],
   "source": [
    "def quantum_channel(repeaterCircuit, repeaterRegister, repeater_cRegister, backend, i, j, k):\n",
    "    # before sending it rotate it randomly into a superposition\n",
    "\n",
    "    # the first part will be on Alice's side and the second at Bobs\n",
    "\n",
    "    # loop to read each bit of all the above variables\n",
    "    #for i,j,k,n in zip(temp_key,A_r_temp,B_r_temp,range(0,len(temp_key))):\n",
    "    # send qubits one by one over the quantum channel\n",
    "    # this will run at Alice's side\n",
    "    # preparing initial state\n",
    "    \n",
    "    i = int(i) # convert to int from string, can be 0 or 1\n",
    "    j = int(j)\n",
    "    if i>0:\n",
    "        repeaterCircuit.x(0) # if bit is 0 prepare a qubit on the negative z axis, If 1 prepare a qubit on the positive z axis, X gate\n",
    "    if j>0:\n",
    "        repeaterCircuit.h(0) # 1 in alice's rotate string, she rotates the key qubit with a Hadamard gate, practically, alice should send this state to BOB\n",
    "\n",
    "    if need_repeater:\n",
    "    # prepare quantum repeaters\n",
    "        repeaterCircuit = repeater(repeaterCircuit, repeaterRegister, repeater_cRegister, 1, 2, 3, 4)\n",
    "    \n",
    "    if not need_repeater:\n",
    "    # no repeater #uncomment the line below to get results without repeater\n",
    "        repeaterCircuit = no_repeater(repeaterCircuit, repeaterRegister, repeater_cRegister, 1, 2, 3, 4)\n",
    "    \n",
    "    # put a barrier\n",
    "    repeaterCircuit.barrier()\n",
    "\n",
    "    # teleport Alice qubit\n",
    "    repeaterCircuit = teleportation(repeaterCircuit, repeaterRegister, repeater_cRegister, 0, 1, 4)\n",
    "\n",
    "    # techinically create a superposition here and send it to Bob, (Physically transport the superposition to bob)\n",
    "    # Bob receives it and rotates it in the inverse diraection\n",
    "\n",
    "    k = int(k)\n",
    "    if k>0:\n",
    "        repeaterCircuit.h(4)   # this H gate rotates the bit\n",
    "\n",
    "    # to break the superpositon, Bob measures it\n",
    "    repeaterCircuit.measure(4, 0)\n",
    "    \n",
    "    return repeaterCircuit"
   ]
  },
  {
   "cell_type": "code",
   "execution_count": 15,
   "metadata": {},
   "outputs": [],
   "source": [
    " def execute_and_get_result(circ_list, backend, shots=1):\n",
    "    # execute and send a string called Bob_results\n",
    "    job = execute(circ_list, backend=backend, shots=shots)\n",
    "    results = job.result()\n",
    "    answer = results.get_counts()\n",
    "    \n",
    "    Bob_result = ''\n",
    "    Bob_result += list(answer.keys())[0]\n",
    "    \n",
    "    return Bob_result"
   ]
  },
  {
   "cell_type": "code",
   "execution_count": 16,
   "metadata": {},
   "outputs": [],
   "source": [
    "# error mitigation\n",
    "# simulate the circuits more often, to perform a majority vote\n",
    "\n",
    "def execute_error_mitigation(circ_list, backend=Aer.get_backend('qasm_simulator'), shots=3):\n",
    "    # execute\n",
    "    job = execute(circ_list, backend=backend, shots=shots)\n",
    "    results = job.result()\n",
    "    answer = results.get_counts()\n",
    "    \n",
    "    #print(answer)\n",
    "    # empty string for saving results later on\n",
    "    res = ''\n",
    "    \n",
    "    #for i in range(0, len(answer)):\n",
    "        # get keys and values from the dictionary\n",
    "    keys   = list(answer.keys())\n",
    "    values = list(answer.values())\n",
    "\n",
    "        # if there is only one key element, then there is no majority vote, since it is clear,\n",
    "        # which qubit is sent\n",
    "    if len(keys)==1:\n",
    "        res += keys[0]\n",
    "        # else decide which qubit 0 or 1 has more shots\n",
    "    else:\n",
    "        if (values[0] >= values[1]):\n",
    "            res += keys[0]\n",
    "        else:\n",
    "            res += keys[1]\n",
    "    \n",
    "    return res #returns the value with maximum probability, this is used to construct Bob_result with error mitigation"
   ]
  },
  {
   "cell_type": "markdown",
   "metadata": {},
   "source": [
    "If the error mitigation bool is left as true, three shots will be fired per circuit and the one with the highest probability will be seelcted. If its false, only one shot will be fired and the key will be generated."
   ]
  },
  {
   "cell_type": "code",
   "execution_count": 17,
   "metadata": {},
   "outputs": [],
   "source": [
    "need_error_mitig = True\n",
    "#if true, will carry out error mitigation\n",
    "#if false, will not carry out "
   ]
  },
  {
   "cell_type": "code",
   "execution_count": 18,
   "metadata": {},
   "outputs": [],
   "source": [
    "Bob_result = '' # Bob will store his results here\n",
    "Bob_result_err_mit=''\n",
    "\n",
    "circ_list = [] #to send to actual hardware\n",
    "\n",
    "#if its needed you can run this code on actual IBM hardware\n",
    "backend = Aer.get_backend('qasm_simulator')\n",
    "#backend = provider.get_backend('ibmq_5_yorktown')\n",
    "\n",
    "# prepare circuit\n",
    "Alice_qubitRegister = QuantumRegister(1, 'alice qubit')\n",
    "repeaterRegister = QuantumRegister(4, 'repeater')\n",
    "repeater_cRegister = ClassicalRegister(1, 'c')\n",
    "\n",
    "\n",
    "for i,j,k in zip(key_Alice, A_rot, B_rot):\n",
    "    repeaterCircuit = QuantumCircuit(Alice_qubitRegister, repeaterRegister, repeater_cRegister)\n",
    "    repeaterCircuit = quantum_channel(repeaterCircuit, repeaterRegister, repeater_cRegister, backend, i, j, k)\n",
    "    \n",
    "    #if using actual hardware comment the line below\n",
    "    #just need to send a list of circuits\n",
    "    if not need_error_mitig:\n",
    "        Bob_result += execute_and_get_result(repeaterCircuit, backend=Aer.get_backend('qasm_simulator'))\n",
    "        \n",
    "    if need_error_mitig:\n",
    "    #print(repeaterCircuit) #for visualisation \n",
    "        Bob_result_err_mit+=execute_error_mitigation(repeaterCircuit, backend=Aer.get_backend('qasm_simulator'), shots=5)\n",
    "    \n",
    "    \n",
    "    circ_list.append(repeaterCircuit)"
   ]
  },
  {
   "cell_type": "markdown",
   "metadata": {},
   "source": [
    "The circ_list can be used to send to the actual hardware when required."
   ]
  },
  {
   "cell_type": "markdown",
   "metadata": {},
   "source": [
    "if one needs to execute this code on the actual quantum hardware, they can create a list of circuits and execute this list with or without the error mitigation process. One can create a list of 75 circuits."
   ]
  },
  {
   "cell_type": "code",
   "execution_count": 19,
   "metadata": {},
   "outputs": [],
   "source": [
    "#if using actual hardware uncommend the line below to get the executed results\n",
    "#Bob_result = execute_and_get_result(circ_list, backend=provider.get_backend('ibmq_5_yorktown'))"
   ]
  },
  {
   "cell_type": "code",
   "execution_count": 20,
   "metadata": {},
   "outputs": [
    {
     "name": "stdout",
     "output_type": "stream",
     "text": [
      "Bob's result by error mitigation: 001110011001110\n"
     ]
    }
   ],
   "source": [
    "if need_error_mitig:\n",
    "    print(\"Bob's result by error mitigation:\", Bob_result_err_mit ) # this is Bobs observation with error mitigation\n",
    "else:\n",
    "    print(\"Bob's results:                  :\", Bob_result)      # this is Bobs observation without error mitigation\n"
   ]
  },
  {
   "cell_type": "markdown",
   "metadata": {},
   "source": [
    "Now we have generated Bob's key/results. Now we can move on the actual key generation process.\n",
    "\n",
    "A quick look at a circuit from circ_list"
   ]
  },
  {
   "cell_type": "code",
   "execution_count": 21,
   "metadata": {},
   "outputs": [
    {
     "data": {
      "image/png": "[encoded data removed]",
      "text/plain": [
       "<Figure size 1249.75x385.28 with 1 Axes>"
      ]
     },
     "execution_count": 21,
     "metadata": {},
     "output_type": "execute_result"
    }
   ],
   "source": [
    "# show one circuit\n",
    "circ_list[4].draw('mpl')"
   ]
  },
  {
   "cell_type": "markdown",
   "metadata": {},
   "source": [
    "For error mitigation, send a qubit through the same circuit a couple of times (say 5) and choose the measurement that has the heighest probability of occurance. By this it is most likely to construct the correct key by both parties"
   ]
  },
  {
   "cell_type": "markdown",
   "metadata": {},
   "source": [
    "The above mentioned string is Bobs observation of the Superposition. **This belongs to Bob and Bob only**\n",
    "\n",
    "Now, Alice and Bob has shared their random strings with one and another and Bob has observed the qubits that were in superposition (sent by Alice.)\n",
    "\n",
    "Given the public information i.e. Rotation Keys, Alice and Bob will generate a secret quantum encryption/decryption key.\n",
    "If a bit in Alice's rotation string is the same as the corresponding bit in Bob's they know that Bob's result is the same as what Alice sent.\n",
    "\n",
    "(In brief, both the keys should be the same) (Alice based on her original key/Initial Key and Bob based on his measured results/Bob_results)."
   ]
  },
  {
   "cell_type": "code",
   "execution_count": 22,
   "metadata": {},
   "outputs": [],
   "source": [
    "#using the public data i.e. Bobs and Alices rotation keys\n",
    "#if a bit in the rotated string is the same in both alice and bobs string! voila, keep this and generate the whole key\n",
    "\n",
    "#check for one - one correspondence in the \n",
    "def KeyGen(rot_1,rot_2,results):\n",
    "    key = ''\n",
    "    count = 0\n",
    "    for i,j in zip(rot_1,rot_2):\n",
    "        if i == j:\n",
    "            key += results[count]\n",
    "        count += 1\n",
    "    return key"
   ]
  },
  {
   "cell_type": "code",
   "execution_count": 23,
   "metadata": {},
   "outputs": [
    {
     "name": "stdout",
     "output_type": "stream",
     "text": [
      "Alice's key: 01011110\n"
     ]
    }
   ],
   "source": [
    "A_key = KeyGen(B_rot,A_rot,key_Alice)\n",
    "print(\"Alice's key:\",A_key)"
   ]
  },
  {
   "cell_type": "code",
   "execution_count": 24,
   "metadata": {},
   "outputs": [
    {
     "name": "stdout",
     "output_type": "stream",
     "text": [
      "Bob's key:   01011110\n"
     ]
    }
   ],
   "source": [
    "if need_error_mitig:\n",
    "    B_key =KeyGen(B_rot,A_rot,Bob_result_err_mit)\n",
    "else:\n",
    "    B_key =KeyGen(B_rot,A_rot,Bob_result)\n",
    "print(\"Bob's key:  \",B_key)"
   ]
  },
  {
   "cell_type": "code",
   "execution_count": 25,
   "metadata": {},
   "outputs": [
    {
     "name": "stdout",
     "output_type": "stream",
     "text": [
      "The key is a match!\n"
     ]
    }
   ],
   "source": [
    "#when using on the actual hardware, one can keep a track of the times the actual key was generated using this fuction\n",
    "def check_for_same_key():\n",
    "    # set a counter for the right, wrong results\n",
    "    #counter_right = 0\n",
    "    #counter_wrong = 0\n",
    "\n",
    "        # check wether key is match\n",
    "    if A_key == B_key:\n",
    "        print('The key is a match!')\n",
    "        #counter_right += 1\n",
    "    else:\n",
    "        print('Error, Key not matched')\n",
    "        #counter_wrong += 1\n",
    "\n",
    "check_for_same_key()"
   ]
  },
  {
   "cell_type": "markdown",
   "metadata": {},
   "source": [
    "In theory the keys should be a perfect match, if they were not, someone tried to evesdropped on your superpositon.\n",
    "\n",
    "But in reality, due to the noise added by the circuits is large and we do not always get the same key for Alice and Bob. \n",
    "\n",
    "Now we have a secure key that no one knows, we can use **THIS** key to encrypt and decrypt messages"
   ]
  },
  {
   "cell_type": "code",
   "execution_count": 26,
   "metadata": {},
   "outputs": [
    {
     "name": "stdout",
     "output_type": "stream",
     "text": [
      "Encoded message :  ¦§ª\n"
     ]
    }
   ],
   "source": [
    "#encoding\n",
    "#alice will encode a message with the above mentioned key\n",
    "\n",
    "#shorten the key as it is longer and we have added extra digits at the end\n",
    "short_A_key = A_key[:len(message)]\n",
    "encoded_mess =''     #define a empty string to store the encrypted message\n",
    "\n",
    "#encrypt it to produce a encrypted message\n",
    "for letter_mes,int_key in zip(message,short_A_key):\n",
    "    encd_char = chr (ord(letter_mes) + (10+ord(int_key))%256)  # basically shifts the ord(k) by 10 units (in ASCII) # can use any other encryption methods.\n",
    "    encoded_mess += encd_char\n",
    "print('Encoded message :', encoded_mess)\n",
    "\n",
    "#send this encoded message to bob"
   ]
  },
  {
   "cell_type": "code",
   "execution_count": 27,
   "metadata": {},
   "outputs": [
    {
     "name": "stdout",
     "output_type": "stream",
     "text": [
      "Decoded message:  Hello\n"
     ]
    }
   ],
   "source": [
    "#to decrypt\n",
    "#Bob will use his key (which should be the same) to break the encryption\n",
    "short_B_key = B_key[:len(message)]\n",
    "decoded_mess =''\n",
    "for letter_mes,int_key in zip(encoded_mess,short_B_key):\n",
    "    decd_char = chr (ord(letter_mes)-(10+ord(int_key))%256)  # basically shifts the ord(k) by 10 units (in ASCII)\n",
    "    decoded_mess += decd_char\n",
    "print('Decoded message: ',decoded_mess)"
   ]
  },
  {
   "cell_type": "markdown",
   "metadata": {},
   "source": [
    "The overall idea is to use error mitigation and keep a check on how many number of times the actual key was geneated. This is presented in the report provided in the same folder as this jupyter notebook."
   ]
  }
 ],
 "metadata": {
  "kernelspec": {
   "display_name": "Python 3",
   "language": "python",
   "name": "python3"
  },
  "language_info": {
   "codemirror_mode": {
    "name": "ipython",
    "version": 3
   },
   "file_extension": ".py",
   "mimetype": "text/x-python",
   "name": "python",
   "nbconvert_exporter": "python",
   "pygments_lexer": "ipython3",
   "version": "3.7.3"
  }
 },
 "nbformat": 4,
 "nbformat_minor": 4
}
