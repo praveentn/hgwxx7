{
 "cells": [
  {
   "cell_type": "markdown",
   "metadata": {},
   "source": [
    "## Quantum Key Distribution"
   ]
  },
  {
   "cell_type": "markdown",
   "metadata": {},
   "source": [
    "<img src=\"https://github.com/praveentn/ml-repos/blob/master/qc/qiskit/qkd/qkd_bb84_protocol_1.gif?raw=true\" />"
   ]
  },
  {
   "cell_type": "markdown",
   "metadata": {},
   "source": [
    "### Simulation on QASM Simulator"
   ]
  },
  {
   "cell_type": "markdown",
   "metadata": {},
   "source": [
    "**Alice** wants to send a secret message to **Bob**  "
   ]
  },
  {
   "cell_type": "markdown",
   "metadata": {},
   "source": []
  },
  {
   "cell_type": "code",
   "execution_count": 1,
   "metadata": {},
   "outputs": [
    {
     "name": "stderr",
     "output_type": "stream",
     "text": [
      "<frozen importlib._bootstrap>:219: RuntimeWarning: scipy._lib.messagestream.MessageStream size changed, may indicate binary incompatibility. Expected 56 from C header, got 64 from PyObject\n"
     ]
    }
   ],
   "source": [
    "# load libraries\n",
    "import qiskit\n",
    "import math\n",
    "import numpy as np\n",
    "from qiskit import Aer, execute\n",
    "from qiskit import QuantumCircuit, ClassicalRegister, QuantumRegister"
   ]
  },
  {
   "cell_type": "markdown",
   "metadata": {},
   "source": [
    "Set backend as the QASM Simulator"
   ]
  },
  {
   "cell_type": "code",
   "execution_count": 2,
   "metadata": {},
   "outputs": [
    {
     "data": {
      "text/plain": [
       "QasmSimulator('qasm_simulator')"
      ]
     },
     "execution_count": 2,
     "metadata": {},
     "output_type": "execute_result"
    }
   ],
   "source": [
    "# define backend from the simulator\n",
    "backend = Aer.get_backend('qasm_simulator')\n",
    "backend"
   ]
  },
  {
   "cell_type": "markdown",
   "metadata": {},
   "source": [
    "## Part 1: Define the message "
   ]
  },
  {
   "cell_type": "markdown",
   "metadata": {},
   "source": [
    "Enter a message that you would like to transmit to Bob. The default message is 'Hello world'.\n",
    "\n",
    "The cell below takes the input message and defines the 'length of message' (slightly longer than the actual message). This will be useful to generate our key. The longer this `len_message`, the better. (Keep it 3x to be on the safe side)"
   ]
  },
  {
   "cell_type": "code",
   "execution_count": 3,
   "metadata": {},
   "outputs": [
    {
     "name": "stdout",
     "output_type": "stream",
     "text": [
      "The message to be sent is \" Hello Praveen \"\n",
      "message length: 39\n"
     ]
    }
   ],
   "source": [
    "# this block deals with the breaking of message into small chunks, need small chunks if you have small number of qubits\n",
    "\n",
    "# used for debugging\n",
    "# message = ''\n",
    "\n",
    "# message = input('Enter a short message (default message is \"Hello World\") : ')\n",
    "message = ''\n",
    "\n",
    "if len(message) < 1:\n",
    "    message = 'Hello Praveen'\n",
    "print('The message to be sent is \"', message, '\"')\n",
    "\n",
    "# initial size of encryption key, arbitary number to multiply so that len of string/key is longer than the actual message!\n",
    "len_message = len(message) * 3\n",
    "print(\"message length:\", len_message)"
   ]
  },
  {
   "cell_type": "markdown",
   "metadata": {},
   "source": [
    "Define the number of qubits of the system that will be used to process. Since we need to generate a random string of binary numbers, we need to restrict it with the maximum available qubits. We then divide the message into chunks of maximum available qubits (default 5 qubits)."
   ]
  },
  {
   "cell_type": "code",
   "execution_count": 4,
   "metadata": {
    "scrolled": true
   },
   "outputs": [
    {
     "name": "stdout",
     "output_type": "stream",
     "text": [
      "[5, 5, 5, 5, 5, 5, 5]\n",
      "[5, 5, 5, 5, 5, 5, 5, 4]\n",
      "Key length = length of message | 39\n",
      "The message is broken into chunks: [5, 5, 5, 5, 5, 5, 5, 4]\n"
     ]
    }
   ],
   "source": [
    "# define number of qubits\n",
    "num_qbits = 5\n",
    "\n",
    "# break message into small chunks with lengths <= 5 (using 5 qubit systems)\n",
    "break_message = []\n",
    "\n",
    "# break the len_message into chunks of size 5 or less\n",
    "for i in range(int(len_message / num_qbits)):\n",
    "    break_message.append(num_qbits)\n",
    "\n",
    "print(break_message)\n",
    "\n",
    "if len_message % num_qbits != 0:\n",
    "    break_message.append(len_message % num_qbits)\n",
    "\n",
    "print(break_message)\n",
    "\n",
    "# print the results\n",
    "print('Key length = length of message |', len_message)\n",
    "\n",
    "# shows how the message will be broken down\n",
    "print('The message is broken into chunks:', break_message)"
   ]
  },
  {
   "cell_type": "markdown",
   "metadata": {},
   "source": [
    "As you can see from the above step, the message of length of message will be equal to length of the key, however this is subdivided into small bits (of size <5 bits) so that we can generate a 5 bit random binary string."
   ]
  },
  {
   "cell_type": "markdown",
   "metadata": {},
   "source": [
    "# Breakdown of the BB84 Protocol\n",
    "\n",
    "**Alice** wants to send the above message to **Bob** .\n",
    "\n",
    "1) Alice will generate a random string of binary numbers whose length will be equal to the length of the message (or greater)\n",
    "\n",
    "2) Alice will convert this string into corresponding quibits. But, she will put them into a superposition before sending it to Bob.\n",
    "\n",
    "3) Alice will send this superposition to Bob\n",
    "\n",
    "4) Bob recieves this superposition and randomly rotates it in the opposite direction\n",
    "\n",
    "5) Now, Alice and Bob will publicly share the keys with which the qubits were rotated, when they did the same thing, both can calculate a similar key. (In theory it should be the same)\n",
    "\n",
    "6) Alice and Bob create their keys which will be used to encode message by Alice and decode the message at Bob's side"
   ]
  },
  {
   "cell_type": "markdown",
   "metadata": {},
   "source": [
    "## Random String Generator\n",
    "- The input is size of the string that needs to be generated\n",
    "- The output is the random string of binary digits"
   ]
  },
  {
   "cell_type": "code",
   "execution_count": 5,
   "metadata": {},
   "outputs": [],
   "source": [
    "# generate a random key to encrypt the message\n",
    "# random string generator of str_len (the length of the string)\n",
    "# this generates the initial key as per the length of string\n",
    "\n",
    "# QRNG (Hadamard Protocol)\n",
    "def RandomStringG(str_len):\n",
    "    # define a empty output string that will be returned\n",
    "    op_str = ''\n",
    "\n",
    "    # run this in chuncks of 5 cubits, new output will will appended to a string \n",
    "    # sent parameter/argument\n",
    "    n = str_len\n",
    "\n",
    "    # 5 qubit chunks\n",
    "    temp_n = num_qbits\n",
    "\n",
    "    # consider the upper limit of the division\n",
    "    for i in range (math.ceil(n/temp_n)):\n",
    "        q = QuantumRegister(temp_n)\n",
    "        c = ClassicalRegister(temp_n)\n",
    "        qc = QuantumCircuit(q, c)\n",
    "\n",
    "        # this will generate a circuit which will output a ranomly 1s or 0s in chunks of 5 bits/units\n",
    "        for i in range (temp_n):    \n",
    "            qc.h(q[i])\n",
    "            qc.measure(q[i], c[i])\n",
    "\n",
    "        # execute and store/append the results  in op_str\n",
    "        # generates a 5bit binary number randomly, as n=5\n",
    "        op_str += list(execute(qc, backend, shots=1).result().get_counts(qc).keys())[0]  \n",
    "\n",
    "    return op_str[:n]"
   ]
  },
  {
   "cell_type": "markdown",
   "metadata": {},
   "source": [
    "The circut to generate random binary numbers using a 5 bit quantum computer. This gives out a 5 bit random binary number."
   ]
  },
  {
   "cell_type": "code",
   "execution_count": 6,
   "metadata": {},
   "outputs": [
    {
     "data": {
      "image/png": "[encoded data removed]",
      "text/plain": [
       "<Figure size 482.412x385.28 with 1 Axes>"
      ]
     },
     "execution_count": 6,
     "metadata": {},
     "output_type": "execute_result"
    }
   ],
   "source": [
    "q = QuantumRegister(num_qbits, name='qreg')\n",
    "c = ClassicalRegister(num_qbits, name='creg')\n",
    "qc = QuantumCircuit(q, c)\n",
    "\n",
    "# H gate on all qubits\n",
    "for i in range(num_qbits):\n",
    "    qc.h(q[i])\n",
    "    qc.measure(q[i], c[i])\n",
    "\n",
    "qc.draw('mpl')"
   ]
  },
  {
   "cell_type": "markdown",
   "metadata": {},
   "source": [
    "Alice will generate a random key called Initial Key. This will be used to generate the encryption key.\n",
    "\n",
    "**Only Alice will have this key -** (Initial Key)"
   ]
  },
  {
   "cell_type": "code",
   "execution_count": 7,
   "metadata": {},
   "outputs": [
    {
     "name": "stdout",
     "output_type": "stream",
     "text": [
      "Initial Key (string): 111000111100110100001110010010110001011\n"
     ]
    }
   ],
   "source": [
    "# this is the Initial Key that Alice generates and will be used to generate the encryption and so on\n",
    "key = RandomStringG(len_message)\n",
    "print('Initial Key (string):', key)"
   ]
  },
  {
   "cell_type": "markdown",
   "metadata": {},
   "source": [
    "Now, Alice will generate a random string of binary numbers again. This will be transmitted to Bob."
   ]
  },
  {
   "cell_type": "code",
   "execution_count": 8,
   "metadata": {},
   "outputs": [
    {
     "name": "stdout",
     "output_type": "stream",
     "text": [
      "Alice's Rotation Key: 000001010100110110010011100111110000001\n"
     ]
    }
   ],
   "source": [
    "# generate a random string of binary digits which Alice will send to Bob\n",
    "A_rot = RandomStringG(len_message)\n",
    "print('Alice\\'s Rotation Key:', A_rot)"
   ]
  },
  {
   "cell_type": "markdown",
   "metadata": {},
   "source": [
    "Similarly, Bob will generate a random string. Bob will send this to Alice."
   ]
  },
  {
   "cell_type": "code",
   "execution_count": 9,
   "metadata": {},
   "outputs": [
    {
     "name": "stdout",
     "output_type": "stream",
     "text": [
      "Bob's Rotation Key: 000100010100111100001100011101001100100\n"
     ]
    }
   ],
   "source": [
    "# at the same time Bob will generate a random key which he will send to Alice\n",
    "B_rot = RandomStringG(len_message)\n",
    "print('Bob\\'s Rotation Key:', B_rot)"
   ]
  },
  {
   "cell_type": "markdown",
   "metadata": {},
   "source": [
    "Now both Alice and Bob have generated and shared their rotation keys.\n",
    "\n",
    "Now, Alice uses this **Alice's Rotation Key**. She wants to a send a Superposition of qubits to Bob. For that first she checks if the bit is `0`, then she will prepare a qubit on the negative Z axis. If the bit is `1`, she will prepare a qubit on the positive Z axis. This is done by the X gate.\n",
    "\n",
    "Furthermore, Alice checks that if it is a `1` bit, she will rotate the quibit using a H gate.\n",
    "\n",
    "Now she sends this superposition to Bob.\n",
    "\n",
    "Bob will take this and rotate it in the opposite direction with a H gate. After that Bob measures the qubit and records the result, this is stored in `Bob_result`.\n",
    "\n",
    "*If a third party observes this superposition, the key/state will be broken and Bob and Alice will know!*\n",
    "\n",
    "#### Note: Only Alice's and Bob's Rotation Keys are public"
   ]
  },
  {
   "cell_type": "code",
   "execution_count": 10,
   "metadata": {},
   "outputs": [
    {
     "name": "stdout",
     "output_type": "stream",
     "text": [
      "temp_key, A_r_temp, B_r_temp: 11100 00000 00010\n",
      "i, j, k, n: 1 0 0 0\n",
      "applied X gate\n",
      "i, j, k, n: 1 0 0 1\n",
      "applied X gate\n",
      "i, j, k, n: 1 0 0 2\n",
      "applied X gate\n",
      "i, j, k, n: 0 0 1 3\n",
      "i, j, k, n: 0 0 0 4\n",
      "\n",
      "temp_key, A_r_temp, B_r_temp: 01111 10101 00101\n",
      "i, j, k, n: 0 1 0 0\n",
      "applied H gate\n",
      "i, j, k, n: 1 0 0 1\n",
      "applied X gate\n",
      "i, j, k, n: 1 1 1 2\n",
      "applied X gate\n",
      "applied H gate\n",
      "i, j, k, n: 1 0 0 3\n",
      "applied X gate\n",
      "i, j, k, n: 1 1 1 4\n",
      "applied X gate\n",
      "applied H gate\n",
      "\n",
      "temp_key, A_r_temp, B_r_temp: 00110 00110 00111\n",
      "i, j, k, n: 0 0 0 0\n",
      "i, j, k, n: 0 0 0 1\n",
      "i, j, k, n: 1 1 1 2\n",
      "applied X gate\n",
      "applied H gate\n",
      "i, j, k, n: 1 1 1 3\n",
      "applied X gate\n",
      "applied H gate\n",
      "i, j, k, n: 0 0 1 4\n",
      "\n",
      "temp_key, A_r_temp, B_r_temp: 10000 11001 10000\n",
      "i, j, k, n: 1 1 1 0\n",
      "applied X gate\n",
      "applied H gate\n",
      "i, j, k, n: 0 1 0 1\n",
      "applied H gate\n",
      "i, j, k, n: 0 0 0 2\n",
      "i, j, k, n: 0 0 0 3\n",
      "i, j, k, n: 0 1 0 4\n",
      "applied H gate\n",
      "\n",
      "temp_key, A_r_temp, B_r_temp: 11100 00111 11000\n",
      "i, j, k, n: 1 0 1 0\n",
      "applied X gate\n",
      "i, j, k, n: 1 0 1 1\n",
      "applied X gate\n",
      "i, j, k, n: 1 1 0 2\n",
      "applied X gate\n",
      "applied H gate\n",
      "i, j, k, n: 0 1 0 3\n",
      "applied H gate\n",
      "i, j, k, n: 0 1 0 4\n",
      "applied H gate\n",
      "\n",
      "temp_key, A_r_temp, B_r_temp: 10010 00111 11101\n",
      "i, j, k, n: 1 0 1 0\n",
      "applied X gate\n",
      "i, j, k, n: 0 0 1 1\n",
      "i, j, k, n: 0 1 1 2\n",
      "applied H gate\n",
      "i, j, k, n: 1 1 0 3\n",
      "applied X gate\n",
      "applied H gate\n",
      "i, j, k, n: 0 1 1 4\n",
      "applied H gate\n",
      "\n",
      "temp_key, A_r_temp, B_r_temp: 11000 11000 00110\n",
      "i, j, k, n: 1 1 0 0\n",
      "applied X gate\n",
      "applied H gate\n",
      "i, j, k, n: 1 1 0 1\n",
      "applied X gate\n",
      "applied H gate\n",
      "i, j, k, n: 0 0 1 2\n",
      "i, j, k, n: 0 0 1 3\n",
      "i, j, k, n: 0 0 0 4\n",
      "\n",
      "temp_key, A_r_temp, B_r_temp: 1011 0001 0100\n",
      "i, j, k, n: 1 0 0 0\n",
      "applied X gate\n",
      "i, j, k, n: 0 0 1 1\n",
      "i, j, k, n: 1 0 0 2\n",
      "applied X gate\n",
      "i, j, k, n: 1 1 0 3\n",
      "applied X gate\n",
      "applied H gate\n",
      "\n",
      "Bob's results: 111001111100111100001010000010111101111\n"
     ]
    }
   ],
   "source": [
    "Bob_result = ''\n",
    "\n",
    "# before sending it rotate it randombly into a superposition\n",
    "\n",
    "# break the message in length of less than 5 bits for 5 qubit operation. (chunks of 5 bits)\n",
    "# break_message contains how the message/string is divided\n",
    "for loc, BM_num in enumerate(break_message):\n",
    "    if BM_num < num_qbits:\n",
    "        temp_key = key[num_qbits*loc:num_qbits*loc+BM_num]\n",
    "        A_r_temp = A_rot[num_qbits*loc:num_qbits*loc+BM_num]\n",
    "        B_r_temp = B_rot[num_qbits*loc:num_qbits*loc+BM_num]\n",
    "    else:\n",
    "        temp_key = key[BM_num*loc:BM_num*(loc+1)]\n",
    "        A_r_temp = A_rot[BM_num*loc:BM_num*(loc+1)]\n",
    "        B_r_temp = B_rot[BM_num*loc:BM_num*(loc+1)]\n",
    "\n",
    "    print(\"temp_key, A_r_temp, B_r_temp:\", temp_key, A_r_temp, B_r_temp)\n",
    "\n",
    "    # quantum computer takes over from here\n",
    "    # generate a register (classical and quantum) and a quantum circuit\n",
    "    q = QuantumRegister(BM_num)\n",
    "    c = ClassicalRegister(BM_num)\n",
    "    SEND_QC = QuantumCircuit(q, c)\n",
    "\n",
    "    # the first part will be on Alice's side and the second at Bob's\n",
    "    # loop to read each bit of all the above variables\n",
    "    for i, j, k, n in zip(temp_key, A_r_temp, B_r_temp, range(0, len(temp_key))):\n",
    "        # this will run at Alice's side\n",
    "        # convert to int from string, can be 0 or 1\n",
    "        i = int(i)\n",
    "        j = int(j)\n",
    "\n",
    "        print(\"i, j, k, n:\", i, j, k, n)\n",
    "\n",
    "        if i > 0:\n",
    "            # if bit is 0 prepare a qubit on the negative Z axis\n",
    "            # if 1 prepare a qubit on the positive Z axis, X gate\n",
    "            SEND_QC.x(q[n])\n",
    "            print(\"applied X gate\")\n",
    "\n",
    "        if j > 0:\n",
    "            # 1 in Alice's rotate string, she rotates the key qubit with a Hadamard gate,\n",
    "            # practically, Alice should send this state to Bob\n",
    "            SEND_QC.h(q[n])\n",
    "            print(\"applied H gate\")\n",
    "\n",
    "        # techinically create a superpostion here and send it to Bob, (Physically transport the superposition to Bob)\n",
    "        # Bob receives it and rotates it in another direction\n",
    "        k = int(k)\n",
    "        if k > 0:\n",
    "            # this H gate rotates the bit\n",
    "            SEND_QC.h(q[n])\n",
    "\n",
    "        # to break the superpositon, Bob measures it\n",
    "        SEND_QC.measure(q[n], c[n])\n",
    "\n",
    "    # Bob will observe the qubit. [::-1], as bob has to reverse the rotation\n",
    "    Bob_result += list(execute([SEND_QC], backend, shots=1).result().get_counts(SEND_QC).keys())[0][::-1]\n",
    "\n",
    "    print()\n",
    "\n",
    "# this is Bob's observation\n",
    "print(\"Bob's results:\", Bob_result)"
   ]
  },
  {
   "cell_type": "code",
   "execution_count": 11,
   "metadata": {},
   "outputs": [
    {
     "data": {
      "image/png": "[encoded data removed]",
      "text/plain": [
       "<Figure size 487.466x325.08 with 1 Axes>"
      ]
     },
     "execution_count": 11,
     "metadata": {},
     "output_type": "execute_result"
    }
   ],
   "source": [
    "SEND_QC.draw('mpl')"
   ]
  },
  {
   "cell_type": "markdown",
   "metadata": {},
   "source": [
    "The above mentioned string is Bob's observation of the Superposition. **This belongs to Bob only**\n",
    "\n",
    "Now, Alice and Bob has shared their random strings with one another and Bob has observed the Qubits that were in Superposition (sent by Alice).\n",
    "\n",
    "Given the public information i.e. Rotation Keys, Alice and Bob will generate a secret quantum encryption/decryption key.\n",
    "\n",
    "**If a bit in Alice's rotation string is the same as the corresponding bit in Bob's, they know that Bob's result is the same as what Alice sent.**\n",
    "\n",
    "(In brief, both the keys should be the same) (Alice based on her original key/Initial Key and Bob based on his measured results/Bob_results)."
   ]
  },
  {
   "cell_type": "code",
   "execution_count": 12,
   "metadata": {},
   "outputs": [
    {
     "name": "stdout",
     "output_type": "stream",
     "text": [
      "Random Key:\t\t\t\t 111000111100110100001110010010110001011\n",
      "Alice's Rotation Key:\t 000001010100110110010011100111110000001\n",
      "Bob's Rotation Key:\t\t 000100010100111100001100011101001100100\n",
      "Bob's Result:\t\t\t 111001111100111100001010000010111101111\n"
     ]
    }
   ],
   "source": [
    "print(\"Random Key:\\t\\t\\t\\t\", key)\n",
    "print(\"Alice's Rotation Key:\\t\", A_rot)\n",
    "print(\"Bob's Rotation Key:\\t\\t\", B_rot)\n",
    "print(\"Bob's Result:\\t\\t\\t\", Bob_result)"
   ]
  },
  {
   "cell_type": "code",
   "execution_count": 13,
   "metadata": {},
   "outputs": [],
   "source": [
    "# using the public data i.e. Bob's and Alice's rotation keys\n",
    "# if a bit in the rotated string is the same in both Alice's and Bob's string! voila, keep this and generate the whole key\n",
    "\n",
    "# check for one - one correspondence in the measured outcomes\n",
    "def KeyGen(rot_1, rot_2, results):\n",
    "    key = ''\n",
    "    count = 0\n",
    "    for i,j in zip(rot_1, rot_2):\n",
    "        if i == j:\n",
    "            key += results[count]\n",
    "        count += 1\n",
    "    return key"
   ]
  },
  {
   "cell_type": "code",
   "execution_count": 14,
   "metadata": {},
   "outputs": [
    {
     "name": "stdout",
     "output_type": "stream",
     "text": [
      "Alice's key: 11101111001110000011\n"
     ]
    }
   ],
   "source": [
    "A_key = KeyGen(B_rot, A_rot, key)\n",
    "print(\"Alice's key:\", A_key)"
   ]
  },
  {
   "cell_type": "code",
   "execution_count": 15,
   "metadata": {},
   "outputs": [
    {
     "name": "stdout",
     "output_type": "stream",
     "text": [
      "Bob's key: 11101111001110000011\n"
     ]
    }
   ],
   "source": [
    "B_key = KeyGen(B_rot, A_rot, Bob_result)\n",
    "print(\"Bob's key:\", B_key)"
   ]
  },
  {
   "cell_type": "code",
   "execution_count": 16,
   "metadata": {},
   "outputs": [
    {
     "name": "stdout",
     "output_type": "stream",
     "text": [
      "The key is a match!\n"
     ]
    }
   ],
   "source": [
    "if A_key == B_key:\n",
    "    print('The key is a match!')\n",
    "else:\n",
    "    print('Error, Key not matched')"
   ]
  },
  {
   "cell_type": "markdown",
   "metadata": {},
   "source": [
    "As you can see, the keys are a perfect match, if they were not, someone tried to eavesdrop on your superpositon.\n",
    "\n",
    "<b> Note: In practice this doesn't happen, there is a lot of noise that gets added to this and thereby the keys don't match. Inorder to overcome this we need to mitigate the errors by taking multiple measurements. </b>\n",
    "\n",
    "Now we have a secure key that no one knows, we can use **THIS** key to encrypt and decrypt messages"
   ]
  },
  {
   "cell_type": "markdown",
   "metadata": {},
   "source": [
    "### Encryption & Decryption"
   ]
  },
  {
   "cell_type": "code",
   "execution_count": 17,
   "metadata": {},
   "outputs": [
    {
     "name": "stdout",
     "output_type": "stream",
     "text": [
      "Alice's Encoded Message:  §¦ª[­°  ©\n"
     ]
    }
   ],
   "source": [
    "# Alice will encode a message with the above mentioned key\n",
    "# shorten the key as it is longer and we have added extra digits at the end\n",
    "short_A_key = A_key[:len(message)]\n",
    "encoded_mess = ''\n",
    "\n",
    "# encrypt it to produce an encrypted message\n",
    "for letter_mes, int_key in zip(message, short_A_key):\n",
    "    # basically shifts the ord(k) by 10 units (in ASCII) # can use any other encryption methods.\n",
    "    encd_char = chr(ord(letter_mes) + (10 + ord(int_key)) % 256)\n",
    "    encoded_mess += encd_char\n",
    "\n",
    "print('Alice\\'s Encoded Message:', encoded_mess)\n",
    "\n",
    "# send this encoded message to bob"
   ]
  },
  {
   "cell_type": "code",
   "execution_count": 18,
   "metadata": {},
   "outputs": [
    {
     "name": "stdout",
     "output_type": "stream",
     "text": [
      "Bob's Decoded Message: Hello Praveen\n"
     ]
    }
   ],
   "source": [
    "# Bob will use his key (which should be the same) to break the encryption\n",
    "short_B_key = B_key[:len(message)]\n",
    "decoded_mess = ''\n",
    "\n",
    "for letter_mes, int_key in zip(encoded_mess, short_B_key):\n",
    "    # basically shifts the ord(k) by 10 units (in ASCII)\n",
    "    decd_char = chr(ord(letter_mes) - (10 + ord(int_key)) % 256)\n",
    "    decoded_mess += decd_char\n",
    "\n",
    "print('Bob\\'s Decoded Message:', decoded_mess)"
   ]
  },
  {
   "cell_type": "markdown",
   "metadata": {},
   "source": [
    "# Presence of Eve"
   ]
  },
  {
   "cell_type": "markdown",
   "metadata": {},
   "source": [
    "### Eve is eavesdropping!\n",
    "\n",
    "Inorder to simulate what will happen if a third person tries to listen to this communication.\n",
    "\n",
    "Consider Eve is trying to listen what Alice sent to Bob. Eve knows Alice's and Bob's Public Rotation Keys.\n",
    "\n",
    "Alice has sent a superposition of random qubits to Bob. Now Eve tries to read these qubits and listen to Alice's and Bob's conversation. Consider the situation where Alice has sent Bob a superposition of the qubits and Eve tries to measure them.\n"
   ]
  },
  {
   "cell_type": "code",
   "execution_count": 19,
   "metadata": {},
   "outputs": [
    {
     "name": "stdout",
     "output_type": "stream",
     "text": [
      "temp_key, A_r_temp, B_r_temp: 11100 00000 0100\n",
      "applied X gate\n",
      "applied X gate\n",
      "applied X gate\n",
      "\n",
      "temp_key, A_r_temp, B_r_temp: 01111 10101 0100\n",
      "applied H gate\n",
      "applied X gate\n",
      "applied X gate\n",
      "applied H gate\n",
      "applied X gate\n",
      "applied X gate\n",
      "applied H gate\n",
      "\n",
      "temp_key, A_r_temp, B_r_temp: 00110 00110 0100\n",
      "applied X gate\n",
      "applied H gate\n",
      "applied X gate\n",
      "applied H gate\n",
      "\n",
      "temp_key, A_r_temp, B_r_temp: 10000 11001 0100\n",
      "applied X gate\n",
      "applied H gate\n",
      "applied H gate\n",
      "applied H gate\n",
      "\n",
      "temp_key, A_r_temp, B_r_temp: 11100 00111 0100\n",
      "applied X gate\n",
      "applied X gate\n",
      "applied X gate\n",
      "applied H gate\n",
      "applied H gate\n",
      "applied H gate\n",
      "\n",
      "temp_key, A_r_temp, B_r_temp: 10010 00111 0100\n",
      "applied X gate\n",
      "applied H gate\n",
      "applied X gate\n",
      "applied H gate\n",
      "applied H gate\n",
      "\n",
      "temp_key, A_r_temp, B_r_temp: 11000 11000 0100\n",
      "applied X gate\n",
      "applied H gate\n",
      "applied X gate\n",
      "applied H gate\n",
      "\n",
      "temp_key, A_r_temp, B_r_temp: 1011 0001 0100\n",
      "applied X gate\n",
      "applied X gate\n",
      "applied X gate\n",
      "applied H gate\n",
      "\n",
      "Eve's results:  111000101100100000011101010010100001010\n"
     ]
    }
   ],
   "source": [
    "# Eve tries to eavesdrop\n",
    "# Eve has captured the qubits and then she applies an X gate to flip them and an H gate to rotate it in the opposite direction as Bob would do.\n",
    "# but now the Superposition is broken as Eve has measured the qubit.\n",
    "\n",
    "# now Eve generates Eve_results similar to Bob_results.\n",
    "Eve_result = ''\n",
    "\n",
    "# break the message in length of less than 5 bits for 5 qubit operation. (chunks of 5 bits)\n",
    "# break_message contains how the message/string is divided\n",
    "for loc, BM_num in enumerate(break_message):\n",
    "    if BM_num < num_qbits:\n",
    "        temp_key = key[num_qbits*loc:num_qbits*loc+BM_num]\n",
    "        # Eve uses Public rotation key of Alice to try to decode the string\n",
    "        A_r_temp = A_rot[num_qbits*loc:num_qbits*loc+BM_num]\n",
    "    else:\n",
    "        temp_key = key[BM_num*loc:BM_num*(loc+1)]\n",
    "        A_r_temp = A_rot[BM_num*loc:BM_num*(loc+1)]\n",
    "\n",
    "    print(\"temp_key, A_r_temp, B_r_temp:\", temp_key, A_r_temp, B_r_temp)\n",
    "\n",
    "    # quantum computer takes over from here\n",
    "    # generate a register (classical and quantum) and a quantum circuit\n",
    "    q = QuantumRegister(BM_num)\n",
    "    c = ClassicalRegister(BM_num)\n",
    "    Eve_QC = QuantumCircuit(q, c)\n",
    "\n",
    "    # prepare qubits based on key; add Hadamard gates based on Alice's and Bob's rotation strings\n",
    "    for i, j, n in zip(temp_key, A_r_temp, range(0, len(temp_key))):\n",
    "        i = int(i)\n",
    "        j = int(j)\n",
    "        if i > 0:\n",
    "            Eve_QC.x(q[n])\n",
    "            print(\"applied X gate\")\n",
    "        if j > 0:\n",
    "            Eve_QC.h(q[n])\n",
    "            print(\"applied H gate\")\n",
    "        Eve_QC.measure(q[n], c[n])\n",
    "\n",
    "    Eve_result += (list(execute(Eve_QC, backend, shots=1).result().get_counts(Eve_QC).keys())[0][::-1])\n",
    "\n",
    "    print()\n",
    "\n",
    "print(\"Eve's results: \", Eve_result)"
   ]
  },
  {
   "cell_type": "code",
   "execution_count": 20,
   "metadata": {},
   "outputs": [
    {
     "data": {
      "image/png": "[encoded data removed]",
      "text/plain": [
       "<Figure size 487.466x325.08 with 1 Axes>"
      ]
     },
     "execution_count": 20,
     "metadata": {},
     "output_type": "execute_result"
    }
   ],
   "source": [
    "Eve_QC.draw('mpl')"
   ]
  },
  {
   "cell_type": "markdown",
   "metadata": {},
   "source": [
    "## Intercept & Resend Attack"
   ]
  },
  {
   "cell_type": "markdown",
   "metadata": {},
   "source": [
    "<img src=\"https://github.com/praveentn/ml-repos/blob/master/qc/qiskit/qkd/qkd_intercept_resend_attack_dtree.png?raw=true\" />"
   ]
  },
  {
   "cell_type": "markdown",
   "metadata": {},
   "source": [
    "#### Intercept & Resend Attack Using Superposition"
   ]
  },
  {
   "cell_type": "markdown",
   "metadata": {},
   "source": [
    "Since Eve read/observed the superposition the wave function collapsed. Now if Bob doesn't recieve any communication, he would know someone was tring to eavesdrop.\n",
    "\n",
    "Now, Eve tries to be sneaky and tries to generate a superposition of qubits and sends it to Bob so that he doesn't become suspicious."
   ]
  },
  {
   "cell_type": "code",
   "execution_count": 21,
   "metadata": {},
   "outputs": [
    {
     "name": "stdout",
     "output_type": "stream",
     "text": [
      "temp_key, A_r_temp, B_r_temp: 11100 0001 00010\n",
      "applied X gate\n",
      "applied X gate\n",
      "applied X gate\n",
      "applied H gate\n",
      "\n",
      "temp_key, A_r_temp, B_r_temp: 01111 0001 00101\n",
      "applied X gate\n",
      "applied H gate\n",
      "applied X gate\n",
      "applied X gate\n",
      "applied H gate\n",
      "\n",
      "temp_key, A_r_temp, B_r_temp: 00110 0001 00111\n",
      "applied X gate\n",
      "applied H gate\n",
      "applied H gate\n",
      "applied H gate\n",
      "\n",
      "temp_key, A_r_temp, B_r_temp: 10000 0001 10000\n",
      "applied H gate\n",
      "applied X gate\n",
      "\n",
      "temp_key, A_r_temp, B_r_temp: 11100 0001 11000\n",
      "applied X gate\n",
      "applied H gate\n",
      "applied X gate\n",
      "applied H gate\n",
      "applied X gate\n",
      "\n",
      "temp_key, A_r_temp, B_r_temp: 10010 0001 11101\n",
      "applied X gate\n",
      "applied H gate\n",
      "applied H gate\n",
      "applied H gate\n",
      "applied X gate\n",
      "applied H gate\n",
      "\n",
      "temp_key, A_r_temp, B_r_temp: 11000 0001 00110\n",
      "applied X gate\n",
      "applied H gate\n",
      "applied H gate\n",
      "\n",
      "temp_key, A_r_temp, B_r_temp: 1011 0001 0100\n",
      "applied X gate\n",
      "applied H gate\n",
      "applied X gate\n",
      "\n",
      "Bob's previous results (w/o Eve): 111001111100111100001010000010111101111\n",
      "Bob's results from Eve:\t\t 111100101000001000011101010111100001010\n"
     ]
    }
   ],
   "source": [
    "# this will generate the superposition generated by Eve which she sends to Bob\n",
    "# stores the result generated by Eve from the measured qubits!\n",
    "Bob_bad_result = ''\n",
    "\n",
    "# the code is similar to the above one\n",
    "for loc, BM_num in enumerate(break_message):\n",
    "    if BM_num < num_qbits:\n",
    "        temp_key = key[num_qbits*loc:num_qbits*loc+BM_num]\n",
    "        temp_eve = Eve_result[num_qbits*loc:num_qbits*loc+BM_num]\n",
    "        B_r_temp = B_rot[num_qbits*loc:num_qbits*loc+BM_num]\n",
    "    else:\n",
    "        temp_key = key[BM_num*loc:BM_num*(loc+1)]\n",
    "        temp_eve = Eve_result[BM_num*loc:BM_num*(loc+1)]\n",
    "        B_r_temp = B_rot[BM_num*loc:BM_num*(loc+1)]\n",
    "\n",
    "    print(\"temp_key, A_r_temp, B_r_temp:\", temp_key, A_r_temp, B_r_temp)\n",
    "\n",
    "    # create a quantum circuit to generate superposition as per Eve_results\n",
    "    q = QuantumRegister(BM_num)\n",
    "    c = ClassicalRegister(BM_num)\n",
    "    Eve_2_QC = QuantumCircuit(q, c)\n",
    "\n",
    "    # prepare qubits and send the superpositon\n",
    "    for i, j, n in zip(temp_eve, B_r_temp, range(0, len(temp_key))):\n",
    "        i = int(i)\n",
    "        j = int(j)\n",
    "        if i > 0:\n",
    "            Eve_2_QC.x(q[n])\n",
    "            print(\"applied X gate\")\n",
    "        if j > 0:\n",
    "            Eve_2_QC.h(q[n])\n",
    "            print(\"applied H gate\")\n",
    "\n",
    "        # technically, Eve will send the superposition of qubits from here to Bob\n",
    "        Eve_2_QC.measure(q[n], c[n])\n",
    "\n",
    "    # At Bob's site this is what he will observe!\n",
    "    Bob_bad_result += list(execute(Eve_2_QC, backend, shots=1).result().get_counts(Eve_2_QC).keys())[0][::-1]\n",
    "\n",
    "    print()\n",
    "\n",
    "# original result\n",
    "print(\"Bob's previous results (w/o Eve):\", Bob_result)\n",
    "\n",
    "# bad/intercepted result\n",
    "print(\"Bob's results from Eve:\\t\\t\", Bob_bad_result)"
   ]
  },
  {
   "cell_type": "code",
   "execution_count": 22,
   "metadata": {},
   "outputs": [
    {
     "data": {
      "image/png": "[encoded data removed]",
      "text/plain": [
       "<Figure size 367.066x325.08 with 1 Axes>"
      ]
     },
     "execution_count": 22,
     "metadata": {},
     "output_type": "execute_result"
    }
   ],
   "source": [
    "Eve_2_QC.draw('mpl')"
   ]
  },
  {
   "cell_type": "markdown",
   "metadata": {},
   "source": [
    "Bob should have obsvered the first result (w/o Eve), however since Eve tried to eavesdrop and generate a new random superposition, Bob will recieve a new superposition of qubits.\n",
    "\n",
    "The next cell will show that if Bob tries to generate a key, it will be different than what Alice will generate. Thereby, Bob won't be able to decrypt the message that Alice has sent!"
   ]
  },
  {
   "cell_type": "code",
   "execution_count": 23,
   "metadata": {},
   "outputs": [
    {
     "name": "stdout",
     "output_type": "stream",
     "text": [
      "Alice's key:    11101111001110000011\n",
      "Bob's new key:  11101010000000011011\n",
      "Keys don't match!\n"
     ]
    }
   ],
   "source": [
    "# make keys for Alice and Bob with the bad result Eve sent\n",
    "A_key_new = KeyGen(B_rot, A_rot, key)\n",
    "B_key_new = KeyGen(B_rot, A_rot, Bob_bad_result)\n",
    "\n",
    "print(\"Alice's key:   \", A_key_new)\n",
    "print(\"Bob's new key: \", B_key_new)\n",
    "\n",
    "if not A_key_new == B_key_new:\n",
    "    # this is just for our reference\n",
    "    print(\"Keys don't match!\")"
   ]
  },
  {
   "cell_type": "code",
   "execution_count": 24,
   "metadata": {},
   "outputs": [
    {
     "name": "stdout",
     "output_type": "stream",
     "text": [
      "Bob's Decoded message: Hello!Psavffo\n"
     ]
    }
   ],
   "source": [
    "# Bob will use his key (which should be the same) to break the encryption\n",
    "short_B_key = B_key_new[:len(message)]\n",
    "decoded_mess = ''\n",
    "\n",
    "for letter_mes, int_key in zip(encoded_mess, short_B_key):\n",
    "    # basically shifts the ord(k) by 10 units (in ASCII)\n",
    "    decd_char = chr (ord(letter_mes) - (10 + ord(int_key)) % 256)\n",
    "    decoded_mess += decd_char\n",
    "\n",
    "print('Bob\\'s Decoded message:', decoded_mess)"
   ]
  },
  {
   "cell_type": "markdown",
   "metadata": {},
   "source": [
    "Since the keys don't match, the encrypted text that Alice will send, Bob won't be able to decrypt it. But how will both Alice and Bob check this?\n",
    "\n",
    "Inorder to check the descrepancy, Alice will generate a Check Key, i.e., a random key same as the length of the `A_new_key`. She will then send this random key to Bob who will check his `B_new_key` for discrepancies."
   ]
  },
  {
   "cell_type": "code",
   "execution_count": 25,
   "metadata": {},
   "outputs": [
    {
     "name": "stdout",
     "output_type": "stream",
     "text": [
      "Bits to check: 10101111110011000111\n"
     ]
    }
   ],
   "source": [
    "# generate a random key by Alice and send it to Bob\n",
    "check_key = RandomStringG(len(A_key_new))\n",
    "print('Bits to check:', check_key)"
   ]
  },
  {
   "cell_type": "code",
   "execution_count": 26,
   "metadata": {},
   "outputs": [
    {
     "name": "stdout",
     "output_type": "stream",
     "text": [
      "Subset of Alice's key: 1111110010011\n",
      "Subset of Bob's key: 1110100000011\n",
      "Eve detected!\n"
     ]
    }
   ],
   "source": [
    "# with the help of publicly known keys, i.e., Alice rotation Key and Bob Rotation Key and now Check Key\n",
    "# after recieving this key, both Alice and Bob will check for the position of the binary digit '1' in the Check Key and generate a Sub_key\n",
    "\n",
    "# this is ALice side\n",
    "# find the values in the roation keys that were used to make the KEY, here Initial Key\n",
    "A_key_rot = KeyGen(B_rot, A_rot, A_rot)\n",
    "\n",
    "# Inorder to detect Eve's interference, extract a subset of Alice's key \n",
    "sub_A_key = ''\n",
    "count = 0\n",
    "for i, j in zip(A_rot, A_key_new):\n",
    "    if int(check_key[count]) == 1:\n",
    "        sub_A_key += A_key_new[count]\n",
    "    count += 1\n",
    "\n",
    "# print the faulty subsection of public keys and send it to Bob\n",
    "print(\"Subset of Alice's key:\", sub_A_key)\n",
    "\n",
    "# this is Bob side\n",
    "# find the values in the roation keys that were used to make the KEY, here Bob_result\n",
    "B_key_rot = KeyGen(B_rot, A_rot, B_rot)\n",
    "\n",
    "# extract a subset of Bob's key\n",
    "sub_B_key = ''\n",
    "count = 0\n",
    "for i, j in zip(B_rot, B_key_new):\n",
    "    if int(check_key[count]) == 1:\n",
    "        sub_B_key += B_key_new[count]\n",
    "\n",
    "    count += 1\n",
    "\n",
    "# print the faulty subsection of public keys and send it to Alice\n",
    "print(\"Subset of Bob's key:\", sub_B_key)\n",
    "\n",
    "# now Alice and Bob sends their faulty keys (which are AVAILABLE IN PUBLIC, as they were shared) to one another \n",
    "# compare Alice's and Bob's key subsets\n",
    "\n",
    "secure = True\n",
    "for i, j in zip(sub_A_key, sub_B_key):\n",
    "    if i == j:\n",
    "        secure = True\n",
    "    else:\n",
    "        secure = False\n",
    "        break;\n",
    "\n",
    "if not secure:\n",
    "    print('Eve detected!')\n",
    "else:\n",
    "    print('No eavesdropper detected!')\n"
   ]
  },
  {
   "cell_type": "markdown",
   "metadata": {},
   "source": [
    "### Note: It is important to have longer keys so that it becomes easier to detect the presence of Eve"
   ]
  },
  {
   "cell_type": "markdown",
   "metadata": {},
   "source": [
    "#### Intercept & Resend Attack Using Entanglement"
   ]
  },
  {
   "cell_type": "code",
   "execution_count": 27,
   "metadata": {},
   "outputs": [
    {
     "name": "stdout",
     "output_type": "stream",
     "text": [
      "temp_key, A_r_temp, B_r_temp: 11100 0001 00010\n",
      "1\n",
      "2\n",
      "3\n",
      "4\n",
      "Bob_bad_result_entangled: 00000\n",
      "\n",
      "temp_key, A_r_temp, B_r_temp: 01111 0001 00101\n",
      "1\n",
      "2\n",
      "3\n",
      "4\n",
      "Bob_bad_result_entangled: 0000011110\n",
      "\n",
      "temp_key, A_r_temp, B_r_temp: 00110 0001 00111\n",
      "1\n",
      "2\n",
      "3\n",
      "4\n",
      "Bob_bad_result_entangled: 000001111011110\n",
      "\n",
      "temp_key, A_r_temp, B_r_temp: 10000 0001 10000\n",
      "1\n",
      "2\n",
      "3\n",
      "4\n",
      "Bob_bad_result_entangled: 00000111101111011110\n",
      "\n",
      "temp_key, A_r_temp, B_r_temp: 11100 0001 11000\n",
      "1\n",
      "2\n",
      "3\n",
      "4\n",
      "Bob_bad_result_entangled: 0000011110111101111011110\n",
      "\n",
      "temp_key, A_r_temp, B_r_temp: 10010 0001 11101\n",
      "1\n",
      "2\n",
      "3\n",
      "4\n",
      "Bob_bad_result_entangled: 000001111011110111101111000000\n",
      "\n",
      "temp_key, A_r_temp, B_r_temp: 11000 0001 00110\n",
      "1\n",
      "2\n",
      "3\n",
      "4\n",
      "Bob_bad_result_entangled: 00000111101111011110111100000000000\n",
      "\n",
      "temp_key, A_r_temp, B_r_temp: 1011 0001 0100\n",
      "1\n",
      "2\n",
      "3\n",
      "Bob_bad_result_entangled: 000001111011110111101111000000000001111\n",
      "\n",
      "Bob's previous results (without Eve): 111001111100111100001010000010111101111\n",
      "Bob's results from Eve:  \t\t 000001111011110111101111000000000001111\n"
     ]
    }
   ],
   "source": [
    "# this will generate the entanglement generated by Eve which she sends to Bob\n",
    "# stores the result genrated by Eve from the measured qubits!\n",
    "Bob_bad_result_entangled = ''\n",
    "\n",
    "# the code is similar to the above one\n",
    "for loc, BM_num in enumerate(break_message):\n",
    "    if BM_num < num_qbits:\n",
    "        temp_key = key[num_qbits*loc:num_qbits*loc+BM_num]\n",
    "        temp_eve = Eve_result[num_qbits*loc:num_qbits*loc+BM_num]\n",
    "        B_r_temp = B_rot[num_qbits*loc:num_qbits*loc+BM_num]\n",
    "    else:\n",
    "        temp_key = key[BM_num*loc:BM_num*(loc+1)]\n",
    "        temp_eve = Eve_result[BM_num*loc:BM_num*(loc+1)]\n",
    "        B_r_temp = B_rot[BM_num*loc:BM_num*(loc+1)]\n",
    "\n",
    "    print(\"temp_key, A_r_temp, B_r_temp:\", temp_key, A_r_temp, B_r_temp)\n",
    "\n",
    "    # create a quantum circuit to generate superposition as per Eve_results\n",
    "    q = QuantumRegister(BM_num)\n",
    "    c = ClassicalRegister(BM_num)\n",
    "    Eve_3_QC = QuantumCircuit(q, c)\n",
    "\n",
    "    # prepare qubits and send the superpositon\n",
    "    for i, j, n in zip(temp_eve, B_r_temp, range(0, len(temp_key))):\n",
    "        i = int(i)\n",
    "        j = int(j)\n",
    "\n",
    "        if n == 0:\n",
    "            # apply Hadamard\n",
    "            Eve_3_QC.h(q[n])\n",
    "\n",
    "            # create entanglement\n",
    "            if n < num_qbits - 1:\n",
    "                Eve_3_QC.cx(q[n], q[n+1])\n",
    "        else:\n",
    "            print(n)\n",
    "            if n < num_qbits - 2:\n",
    "                Eve_3_QC.ccx(q[0], q[n], q[n+1])\n",
    "\n",
    "        # measurement\n",
    "        for p in range(n + 1):\n",
    "            Eve_3_QC.measure(q[p], c[p])\n",
    "\n",
    "    # At Bob's site this is what he will observe!\n",
    "    Bob_bad_result_entangled += list(execute(Eve_3_QC, backend, shots=1).result().get_counts(Eve_3_QC).keys())[0][::-1]\n",
    "    print(\"Bob_bad_result_entangled:\", Bob_bad_result_entangled)\n",
    "\n",
    "    print()\n",
    "\n",
    "# original result\n",
    "print(\"Bob's previous results (without Eve):\", Bob_result)\n",
    "\n",
    "# bad/intercepted result\n",
    "print(\"Bob's results from Eve:  \\t\\t\", Bob_bad_result_entangled)"
   ]
  },
  {
   "cell_type": "code",
   "execution_count": 28,
   "metadata": {},
   "outputs": [
    {
     "data": {
      "image/png": "[encoded data removed]",
      "text/plain": [
       "<Figure size 968.921x325.08 with 1 Axes>"
      ]
     },
     "execution_count": 28,
     "metadata": {},
     "output_type": "execute_result"
    }
   ],
   "source": [
    "Eve_3_QC.draw('mpl')"
   ]
  },
  {
   "cell_type": "markdown",
   "metadata": {},
   "source": [
    "### work-in-progress"
   ]
  }
 ],
 "metadata": {
  "kernelspec": {
   "display_name": "Qiskit v0.34.2 (ipykernel)",
   "language": "python",
   "name": "python3"
  },
  "language_info": {
   "codemirror_mode": {
    "name": "ipython",
    "version": 3
   },
   "file_extension": ".py",
   "mimetype": "text/x-python",
   "name": "python",
   "nbconvert_exporter": "python",
   "pygments_lexer": "ipython3",
   "version": "3.8.12"
  },
  "widgets": {
   "application/vnd.jupyter.widget-state+json": {
    "state": {},
    "version_major": 2,
    "version_minor": 0
   }
  }
 },
 "nbformat": 4,
 "nbformat_minor": 4
}
