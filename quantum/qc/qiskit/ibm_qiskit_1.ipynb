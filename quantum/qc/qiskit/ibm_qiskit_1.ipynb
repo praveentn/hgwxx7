{
 "cells": [
  {
   "cell_type": "code",
   "execution_count": 1,
   "metadata": {},
   "outputs": [],
   "source": [
    "%matplotlib inline\n",
    "# Importing standard Qiskit libraries and configuring account\n",
    "from qiskit import QuantumCircuit, execute, Aer, IBMQ\n",
    "from qiskit.compiler import transpile, assemble\n",
    "from qiskit.tools.jupyter import *\n",
    "from qiskit.visualization import *\n",
    "# Loading your IBM Q account(s)\n",
    "provider = IBMQ.load_account()"
   ]
  },
  {
   "cell_type": "markdown",
   "metadata": {},
   "source": [
    "The above imports are the default imports for any new Qiskit Notebook in IBM Quantum Experience.\n",
    "\n",
    "* QuantumCircuit: Holds all your quantum operations; the instructions for the quantum system\n",
    "* Aer: Handles simulator backends\n",
    "* execute: Runs your circuit\n",
    "* qiskit.visualization: Enables data visualization, such as plot_histogram\n",
    "* IBMQ: IBM Quantum Experience\n"
   ]
  },
  {
   "cell_type": "code",
   "execution_count": 2,
   "metadata": {},
   "outputs": [
    {
     "name": "stdout",
     "output_type": "stream",
     "text": [
      "\n",
      "Total count for 00 and 11 are: {'00': 50119, '11': 49881}\n"
     ]
    },
    {
     "data": {
      "image/png": "[encoded data removed]",
      "text/plain": [
       "<Figure size 418.992x204.68 with 1 Axes>"
      ]
     },
     "execution_count": 2,
     "metadata": {},
     "output_type": "execute_result"
    }
   ],
   "source": [
    "# Build\n",
    "#------\n",
    "\n",
    "# QuantumCircuit: Holds all your quantum operations; \n",
    "# the instructions for the quantum system\n",
    "# Create a Quantum Circuit acting on the q register\n",
    "# initialize two qubits in the zero state, \n",
    "# and two classical bits in the zero state, \n",
    "# in the quantum circuit called circuit\n",
    "circuit = QuantumCircuit(2, 2)\n",
    "\n",
    "# Add a H gate on qubit 0\n",
    "# gates that manipulate the qubits in your circuit\n",
    "\n",
    "# QuantumCircuit.h(0): A Hadamard gate on qubit 0, \n",
    "# which puts it into a superposition state\n",
    "circuit.h(0)\n",
    "\n",
    "# Add a CX (CNOT) gate on control qubit 0 and target qubit 1\n",
    "# QuantumCircuit.cx(0, 1): A controlled-NOT operation ( ) \n",
    "# on control qubit 0 and target qubit 1, \n",
    "# putting the qubits in an entangled state\n",
    "circuit.cx(0, 1)\n",
    "\n",
    "# Map the quantum measurement to the classical bits\n",
    "# QuantumCircuit.measure([0,1], [0,1]): The first argument indexes the qubits, \n",
    "# the second argument indexes the classical bits. \n",
    "# The nth qubit’s measurement result will be stored in the nth classical bit.\n",
    "circuit.measure([0,1], [0,1])\n",
    "\n",
    "# Execute\n",
    "#--------\n",
    "\n",
    "# Use Aer's qasm_simulator\n",
    "# Aer: Handles simulator backends\n",
    "# Each run of this circuit will yield either the bit string '00' or '11'\n",
    "simulator = Aer.get_backend('qasm_simulator')\n",
    "\n",
    "# Execute the circuit on the qasm simulator\n",
    "# execute: Runs your circuit\n",
    "job = execute(circuit, simulator, shots=100000)\n",
    "\n",
    "# Grab results from the job\n",
    "result = job.result()\n",
    "\n",
    "# Return counts\n",
    "counts = result.get_counts(circuit)\n",
    "print(\"\\nTotal count for 00 and 11 are:\",counts)\n",
    "\n",
    "# Analyze\n",
    "#--------\n",
    "\n",
    "# Draw the circuit\n",
    "circuit.draw()"
   ]
  },
  {
   "cell_type": "code",
   "execution_count": 3,
   "metadata": {},
   "outputs": [
    {
     "data": {
      "image/png": "[encoded data removed]",
      "text/plain": [
       "<Figure size 504x360 with 1 Axes>"
      ]
     },
     "execution_count": 3,
     "metadata": {},
     "output_type": "execute_result"
    }
   ],
   "source": [
    "# Analyze\n",
    "#--------\n",
    "\n",
    "# Plot a histogram\n",
    "plot_histogram(counts)"
   ]
  },
  {
   "cell_type": "markdown",
   "metadata": {},
   "source": [
    "The probabilities (relative frequencies) of observing the and states are computed by taking the respective counts and dividing by the total number of shots."
   ]
  },
  {
   "cell_type": "code",
   "execution_count": null,
   "metadata": {},
   "outputs": [],
   "source": []
  }
 ],
 "metadata": {
  "kernelspec": {
   "display_name": "Python 3",
   "language": "python",
   "name": "python3"
  },
  "language_info": {
   "codemirror_mode": {
    "name": "ipython",
    "version": 3
   },
   "file_extension": ".py",
   "mimetype": "text/x-python",
   "name": "python",
   "nbconvert_exporter": "python",
   "pygments_lexer": "ipython3",
   "version": "3.7.6"
  }
 },
 "nbformat": 4,
 "nbformat_minor": 4
}
