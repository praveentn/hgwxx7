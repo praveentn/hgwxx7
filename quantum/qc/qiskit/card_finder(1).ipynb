{
 "cells": [
  {
   "cell_type": "code",
   "execution_count": 1,
   "id": "buried-general",
   "metadata": {},
   "outputs": [],
   "source": [
    "%matplotlib inline\n",
    "# Importing standard Qiskit libraries\n",
    "from qiskit import QuantumCircuit, execute, Aer, IBMQ\n",
    "from qiskit import ClassicalRegister, QuantumRegister\n",
    "from qiskit.compiler import transpile, assemble\n",
    "from qiskit.tools.jupyter import *\n",
    "from qiskit.visualization import *\n",
    "from ibm_quantum_widgets import *\n",
    "import numpy as np\n",
    "\n",
    "# Loading your IBM Q account(s)\n",
    "provider = IBMQ.load_account()"
   ]
  },
  {
   "cell_type": "code",
   "execution_count": 2,
   "id": "pleasant-stake",
   "metadata": {},
   "outputs": [],
   "source": [
    "#initialization\n",
    "import matplotlib.pyplot as plt\n",
    "import numpy as np\n",
    "\n",
    "# importing Qiskit\n",
    "from qiskit import IBMQ, Aer, assemble, transpile\n",
    "from qiskit import QuantumCircuit, ClassicalRegister, QuantumRegister\n",
    "from qiskit.providers.ibmq import least_busy\n",
    "\n",
    "# import basic plot tools\n",
    "from qiskit.visualization import plot_histogram"
   ]
  },
  {
   "cell_type": "code",
   "execution_count": 3,
   "id": "genetic-palmer",
   "metadata": {},
   "outputs": [
    {
     "data": {
      "image/png": "[encoded data removed]",
      "text/plain": [
       "<Figure size 116.552x144.48 with 1 Axes>"
      ]
     },
     "execution_count": 3,
     "metadata": {},
     "output_type": "execute_result"
    }
   ],
   "source": [
    "n = 2\n",
    "grover_circuit = QuantumCircuit(n)\n",
    "grover_circuit.draw('mpl')"
   ]
  },
  {
   "cell_type": "code",
   "execution_count": 4,
   "id": "pleasant-spectacular",
   "metadata": {},
   "outputs": [],
   "source": [
    "def initialize_s(qc, qubits):\n",
    "    \"\"\"Apply a H-gate to 'qubits' in qc\"\"\"\n",
    "    for q in qubits:\n",
    "        qc.h(q)\n",
    "    return qc"
   ]
  },
  {
   "cell_type": "code",
   "execution_count": 5,
   "id": "normal-visit",
   "metadata": {},
   "outputs": [
    {
     "data": {
      "image/png": "[encoded data removed]",
      "text/plain": [
       "<Figure size 146.652x144.48 with 1 Axes>"
      ]
     },
     "execution_count": 5,
     "metadata": {},
     "output_type": "execute_result"
    }
   ],
   "source": [
    "grover_circuit = initialize_s(grover_circuit, [0,1])\n",
    "grover_circuit.draw('mpl')"
   ]
  },
  {
   "cell_type": "code",
   "execution_count": 6,
   "id": "developmental-modification",
   "metadata": {},
   "outputs": [
    {
     "data": {
      "image/png": "[encoded data removed]",
      "text/plain": [
       "<Figure size 206.852x144.48 with 1 Axes>"
      ]
     },
     "execution_count": 6,
     "metadata": {},
     "output_type": "execute_result"
    }
   ],
   "source": [
    "grover_circuit.cz(0,1) # Oracle\n",
    "grover_circuit.draw('mpl')"
   ]
  },
  {
   "cell_type": "code",
   "execution_count": 7,
   "id": "attached-unknown",
   "metadata": {},
   "outputs": [
    {
     "data": {
      "image/png": "[encoded data removed]",
      "text/plain": [
       "<Figure size 447.652x144.48 with 1 Axes>"
      ]
     },
     "execution_count": 7,
     "metadata": {},
     "output_type": "execute_result"
    }
   ],
   "source": [
    "# Diffusion operator (U_s)\n",
    "grover_circuit.h([0,1])\n",
    "grover_circuit.z([0,1])\n",
    "grover_circuit.cz(0,1)\n",
    "grover_circuit.h([0,1])\n",
    "grover_circuit.draw('mpl')"
   ]
  },
  {
   "cell_type": "code",
   "execution_count": 8,
   "id": "ahead-distance",
   "metadata": {},
   "outputs": [
    {
     "data": {
      "text/latex": [
       "$\\displaystyle \n",
       "$$ |\\psi\\rangle =\\begin{bmatrix}\n",
       "0 \\\\\n",
       "0 \\\\\n",
       "0 \\\\\n",
       "1\\end{bmatrix} $"
      ],
      "text/plain": [
       "<IPython.core.display.Math object>"
      ]
     },
     "metadata": {},
     "output_type": "display_data"
    }
   ],
   "source": [
    "sv_sim = Aer.get_backend('statevector_simulator')\n",
    "qobj = assemble(grover_circuit)\n",
    "result = sv_sim.run(qobj).result()\n",
    "statevec = result.get_statevector()\n",
    "from qiskit_textbook.tools import vector2latex\n",
    "vector2latex(statevec, pretext=\"|\\\\psi\\\\rangle =\")"
   ]
  },
  {
   "cell_type": "code",
   "execution_count": 9,
   "id": "hollow-consortium",
   "metadata": {},
   "outputs": [
    {
     "data": {
      "image/png": "[encoded data removed]",
      "text/plain": [
       "<Figure size 504x360 with 1 Axes>"
      ]
     },
     "execution_count": 9,
     "metadata": {},
     "output_type": "execute_result"
    }
   ],
   "source": [
    "grover_circuit.measure_all()\n",
    "\n",
    "qasm_sim = Aer.get_backend('qasm_simulator')\n",
    "qobj = assemble(grover_circuit)\n",
    "result = qasm_sim.run(qobj).result()\n",
    "counts = result.get_counts()\n",
    "plot_histogram(counts)"
   ]
  },
  {
   "cell_type": "code",
   "execution_count": 10,
   "id": "unable-crack",
   "metadata": {},
   "outputs": [
    {
     "name": "stdout",
     "output_type": "stream",
     "text": [
      "Running on current least busy device:  ibmq_belem\n"
     ]
    }
   ],
   "source": [
    "device = least_busy(provider.backends(filters=lambda x: x.configuration().n_qubits >= 3 and \n",
    "                                   not x.configuration().simulator and x.status().operational==True))\n",
    "print(\"Running on current least busy device: \", device)"
   ]
  },
  {
   "cell_type": "code",
   "execution_count": 11,
   "id": "covered-closing",
   "metadata": {},
   "outputs": [
    {
     "name": "stderr",
     "output_type": "stream",
     "text": [
      "<ipython-input-11-7f056d7fd138>:5: DeprecationWarning: Passing a Qobj to Backend.run is deprecated and will be removed in a future release. Please pass in circuits or pulse schedules instead.\n",
      "  job = device.run(qobj)\n"
     ]
    },
    {
     "name": "stdout",
     "output_type": "stream",
     "text": [
      "Job Status: job has successfully run\n"
     ]
    }
   ],
   "source": [
    "# Run our circuit on the least busy backend. Monitor the execution of the job in the queue\n",
    "from qiskit.tools.monitor import job_monitor\n",
    "transpiled_grover_circuit = transpile(grover_circuit, device, optimization_level=3)\n",
    "qobj = assemble(transpiled_grover_circuit)\n",
    "job = device.run(qobj)\n",
    "job_monitor(job, interval=2)"
   ]
  },
  {
   "cell_type": "code",
   "execution_count": 12,
   "id": "exposed-visitor",
   "metadata": {},
   "outputs": [
    {
     "data": {
      "image/png": "[encoded data removed]",
      "text/plain": [
       "<Figure size 504x360 with 1 Axes>"
      ]
     },
     "execution_count": 12,
     "metadata": {},
     "output_type": "execute_result"
    }
   ],
   "source": [
    "# Get the results from the computation\n",
    "results = job.result()\n",
    "answer = results.get_counts(grover_circuit)\n",
    "plot_histogram(answer)"
   ]
  },
  {
   "cell_type": "markdown",
   "id": "4d4577dc",
   "metadata": {},
   "source": [
    "\n",
    "# classical bits\n",
    "# quantum bits\n",
    "# particle-wave duality\n",
    "# principles?\n",
    "    - superposition\n",
    "    - entanglement\n",
    "    - interference - graphics\n",
    "# card search\n",
    "\n"
   ]
  },
  {
   "cell_type": "code",
   "execution_count": null,
   "id": "separate-shade",
   "metadata": {},
   "outputs": [],
   "source": []
  },
  {
   "cell_type": "code",
   "execution_count": 13,
   "id": "ordered-milton",
   "metadata": {},
   "outputs": [
    {
     "data": {
      "text/plain": [
       "[0, 0, 0, 1]"
      ]
     },
     "execution_count": 13,
     "metadata": {},
     "output_type": "execute_result"
    }
   ],
   "source": [
    "cards = [0,0,0,1]\n",
    "cards"
   ]
  },
  {
   "cell_type": "code",
   "execution_count": null,
   "id": "acknowledged-mother",
   "metadata": {},
   "outputs": [],
   "source": [
    "# 1-0: '00'\n",
    "# 2-0: '01'\n",
    "# 3-0: '10'\n",
    "# 4-1: '11'"
   ]
  },
  {
   "cell_type": "code",
   "execution_count": 15,
   "id": "enabling-venue",
   "metadata": {},
   "outputs": [],
   "source": [
    "def card_finder(card):\n",
    "    found = False\n",
    "    queen = 1\n",
    "\n",
    "    if card == queen:\n",
    "        found = True\n",
    "        print(\"found the card\")\n",
    "    else:\n",
    "        print(\"not found\")\n",
    "    return found"
   ]
  },
  {
   "cell_type": "code",
   "execution_count": 16,
   "id": "sapphire-negotiation",
   "metadata": {},
   "outputs": [
    {
     "name": "stdout",
     "output_type": "stream",
     "text": [
      "not found\n",
      "not found\n",
      "not found\n",
      "found the card\n",
      "Card found at position  3\n"
     ]
    }
   ],
   "source": [
    "for i, card in enumerate(cards):\n",
    "    if card_finder(card):\n",
    "        print(\"Card found at position \", i)\n",
    "        break"
   ]
  },
  {
   "cell_type": "code",
   "execution_count": 17,
   "id": "southern-proceeding",
   "metadata": {},
   "outputs": [
    {
     "data": {
      "image/png": "[encoded data removed]",
      "text/plain": [
       "<Figure size 146.652x144.48 with 1 Axes>"
      ]
     },
     "execution_count": 17,
     "metadata": {},
     "output_type": "execute_result"
    }
   ],
   "source": [
    "bbox = QuantumCircuit(2, name=\"blackbox\")\n",
    "#bbox.cz(0,1)\n",
    "bbox.cz(1,0)\n",
    "bbox.to_gate()\n",
    "bbox.draw('mpl')"
   ]
  },
  {
   "cell_type": "code",
   "execution_count": 18,
   "id": "based-equivalent",
   "metadata": {},
   "outputs": [],
   "source": [
    "backend = Aer.get_backend('statevector_simulator')"
   ]
  },
  {
   "cell_type": "code",
   "execution_count": 19,
   "id": "permanent-dialogue",
   "metadata": {},
   "outputs": [
    {
     "data": {
      "image/png": "[encoded data removed]",
      "text/plain": [
       "<Figure size 267.052x204.68 with 1 Axes>"
      ]
     },
     "execution_count": 19,
     "metadata": {},
     "output_type": "execute_result"
    }
   ],
   "source": [
    "grover_circuit = QuantumCircuit(2,2)\n",
    "grover_circuit.h([0,1])\n",
    "grover_circuit.append(bbox, [0,1])\n",
    "grover_circuit.draw('mpl')"
   ]
  },
  {
   "cell_type": "code",
   "execution_count": 20,
   "id": "outdoor-thinking",
   "metadata": {},
   "outputs": [],
   "source": [
    "job = execute(grover_circuit, backend)\n",
    "result = job.result()"
   ]
  },
  {
   "cell_type": "code",
   "execution_count": 21,
   "id": "timely-declaration",
   "metadata": {},
   "outputs": [
    {
     "data": {
      "text/plain": [
       "array([ 0.5+0.j,  0.5+0.j,  0.5+0.j, -0.5+0.j])"
      ]
     },
     "execution_count": 21,
     "metadata": {},
     "output_type": "execute_result"
    }
   ],
   "source": [
    "result.get_statevector()"
   ]
  },
  {
   "cell_type": "code",
   "execution_count": 22,
   "id": "bearing-activation",
   "metadata": {},
   "outputs": [
    {
     "data": {
      "text/plain": [
       "array([ 0.5+0.j,  0.5+0.j,  0.5+0.j, -0.5+0.j])"
      ]
     },
     "execution_count": 22,
     "metadata": {},
     "output_type": "execute_result"
    }
   ],
   "source": [
    "sv = result.get_statevector()\n",
    "np.around(sv, 2)"
   ]
  },
  {
   "cell_type": "code",
   "execution_count": null,
   "id": "wrong-sunglasses",
   "metadata": {},
   "outputs": [],
   "source": []
  },
  {
   "cell_type": "code",
   "execution_count": 23,
   "id": "sixth-collectible",
   "metadata": {},
   "outputs": [
    {
     "data": {
      "image/png": "[encoded data removed]",
      "text/plain": [
       "<Figure size 327.252x144.48 with 1 Axes>"
      ]
     },
     "execution_count": 23,
     "metadata": {},
     "output_type": "execute_result"
    }
   ],
   "source": [
    "reflection = QuantumCircuit(2, name=\"Reflection\")\n",
    "reflection.h([0,1])\n",
    "reflection.z([0,1])\n",
    "reflection.cz(0,1)\n",
    "reflection.h([0,1])\n",
    "reflection.to_gate()\n",
    "reflection.draw('mpl')"
   ]
  },
  {
   "cell_type": "code",
   "execution_count": 24,
   "id": "charming-active",
   "metadata": {},
   "outputs": [
    {
     "data": {
      "text/plain": [
       "<qiskit.circuit.instructionset.InstructionSet at 0x7f758905b580>"
      ]
     },
     "execution_count": 24,
     "metadata": {},
     "output_type": "execute_result"
    }
   ],
   "source": [
    "backend = Aer.get_backend('qasm_simulator')\n",
    "\n",
    "grover_circuit = QuantumCircuit(2,2)\n",
    "grover_circuit.h([0,1])\n",
    "grover_circuit.append(bbox, [0,1])\n",
    "grover_circuit.append(reflection, [0,1])\n",
    "grover_circuit.measure([0,1], [0,1])"
   ]
  },
  {
   "cell_type": "code",
   "execution_count": 25,
   "id": "multiple-acting",
   "metadata": {},
   "outputs": [
    {
     "data": {
      "image/png": "[encoded data removed]",
      "text/plain": [
       "<Figure size 507.852x204.68 with 1 Axes>"
      ]
     },
     "execution_count": 25,
     "metadata": {},
     "output_type": "execute_result"
    }
   ],
   "source": [
    "grover_circuit.draw('mpl')"
   ]
  },
  {
   "cell_type": "code",
   "execution_count": 26,
   "id": "superb-species",
   "metadata": {},
   "outputs": [
    {
     "data": {
      "text/plain": [
       "{'11': 10}"
      ]
     },
     "execution_count": 26,
     "metadata": {},
     "output_type": "execute_result"
    }
   ],
   "source": [
    "job = execute(grover_circuit, backend, shots=10)\n",
    "result = job.result()\n",
    "result.get_counts()"
   ]
  },
  {
   "cell_type": "code",
   "execution_count": null,
   "id": "decreased-apartment",
   "metadata": {},
   "outputs": [],
   "source": []
  },
  {
   "cell_type": "code",
   "execution_count": null,
   "id": "democratic-initial",
   "metadata": {},
   "outputs": [],
   "source": []
  },
  {
   "cell_type": "code",
   "execution_count": null,
   "id": "known-update",
   "metadata": {},
   "outputs": [],
   "source": []
  },
  {
   "cell_type": "code",
   "execution_count": 27,
   "id": "abroad-blame",
   "metadata": {},
   "outputs": [
    {
     "name": "stdout",
     "output_type": "stream",
     "text": [
      "\n",
      "Initialising Circuit...\n",
      "\n",
      "\n",
      "Preparing Oracle circuit....\n",
      "\n",
      "\n",
      "Preparing Amplification circuit....\n",
      "\n",
      "\n",
      "Executing job....\n",
      "\n"
     ]
    },
    {
     "name": "stderr",
     "output_type": "stream",
     "text": [
      "<ipython-input-27-0da00c4609c1>:55: DeprecationWarning: The QuantumCircuit.cu1 method is deprecated as of 0.16.0. It will be removed no earlier than 3 months after the release date. You should use the QuantumCircuit.cp method instead, which acts identically.\n",
      "  qc.cu1(pi/4, q[0], q[3])\n"
     ]
    },
    {
     "name": "stdout",
     "output_type": "stream",
     "text": [
      "Job Status: job has successfully run\n",
      "RESULT:  {'0000': 3, '0001': 38, '0010': 5, '0011': 4, '0100': 5, '0101': 4, '0110': 5, '0111': 2, '1000': 4, '1001': 5, '1010': 4, '1011': 2, '1100': 8, '1101': 4, '1110': 4, '1111': 3} \n",
      "\n",
      "Press any key to close\n",
      "\n"
     ]
    },
    {
     "data": {
      "text/plain": [
       "''"
      ]
     },
     "execution_count": 27,
     "metadata": {},
     "output_type": "execute_result"
    }
   ],
   "source": [
    "import math\n",
    "from qiskit.tools.monitor import job_monitor\n",
    "\n",
    "pi = math.pi\n",
    "q = QuantumRegister(4,'q')\n",
    "c = ClassicalRegister(4,'c')\n",
    "qc = QuantumCircuit(q,c)\n",
    "\n",
    "print('\\nInitialising Circuit...\\n')\n",
    "\n",
    "### Initialisation ###\n",
    "\n",
    "qc.h(q[0])\n",
    "qc.h(q[1])\n",
    "qc.h(q[2])\n",
    "qc.h(q[3])\n",
    "\n",
    "print('\\nPreparing Oracle circuit....\\n')\n",
    "\n",
    "'''\n",
    "### 0000 Oracle ###\n",
    "\n",
    "qc.x(q[0])\n",
    "qc.x(q[1])\n",
    "qc.x(q[2])\n",
    "qc.x(q[3])\n",
    "\n",
    "qc.cu1(pi/4, q[0], q[3])\n",
    "qc.cx(q[0], q[1])\n",
    "qc.cu1(-pi/4, q[1], q[3])\n",
    "qc.cx(q[0], q[1])\n",
    "qc.cu1(pi/4, q[1], q[3])\n",
    "qc.cx(q[1], q[2])\n",
    "qc.cu1(-pi/4, q[2], q[3])\n",
    "qc.cx(q[0], q[2])\n",
    "qc.cu1(pi/4, q[2], q[3])\n",
    "qc.cx(q[1], q[2])\n",
    "qc.cu1(-pi/4, q[2], q[3])\n",
    "qc.cx(q[0], q[2])\n",
    "qc.cu1(pi/4, q[2], q[3])\n",
    "\n",
    "qc.x(q[0])\n",
    "qc.x(q[1])\n",
    "qc.x(q[2])\n",
    "qc.x(q[3])\n",
    "\n",
    "'''\n",
    "\n",
    "### 0001 Oracle ###\n",
    "\n",
    "qc.x(q[1])\n",
    "qc.x(q[2])\n",
    "qc.x(q[3])\n",
    "\n",
    "qc.cu1(pi/4, q[0], q[3])\n",
    "qc.cx(q[0], q[1])\n",
    "qc.cu1(-pi/4, q[1], q[3])\n",
    "qc.cx(q[0], q[1])\n",
    "qc.cu1(pi/4, q[1], q[3])\n",
    "qc.cx(q[1], q[2])\n",
    "qc.cu1(-pi/4, q[2], q[3])\n",
    "qc.cx(q[0], q[2])\n",
    "qc.cu1(pi/4, q[2], q[3])\n",
    "qc.cx(q[1], q[2])\n",
    "qc.cu1(-pi/4, q[2], q[3])\n",
    "qc.cx(q[0], q[2])\n",
    "qc.cu1(pi/4, q[2], q[3])\n",
    "\n",
    "qc.x(q[1])\n",
    "qc.x(q[2])\n",
    "qc.x(q[3])\n",
    "\n",
    "\n",
    "'''\n",
    "### 0010 Oracle ###\n",
    "\n",
    "qc.x(q[0])\n",
    "qc.x(q[2])\n",
    "qc.x(q[3])\n",
    "\n",
    "qc.cu1(pi/4, q[0], q[3])\n",
    "qc.cx(q[0], q[1])\n",
    "qc.cu1(-pi/4, q[1], q[3])\n",
    "qc.cx(q[0], q[1])\n",
    "qc.cu1(pi/4, q[1], q[3])\n",
    "qc.cx(q[1], q[2])\n",
    "qc.cu1(-pi/4, q[2], q[3])\n",
    "qc.cx(q[0], q[2])\n",
    "qc.cu1(pi/4, q[2], q[3])\n",
    "qc.cx(q[1], q[2])\n",
    "qc.cu1(-pi/4, q[2], q[3])\n",
    "qc.cx(q[0], q[2])\n",
    "qc.cu1(pi/4, q[2], q[3])\n",
    "\n",
    "qc.x(q[0])\n",
    "qc.x(q[2])\n",
    "qc.x(q[3])\n",
    "'''\n",
    "\n",
    "'''\n",
    "### 0011 Oracle ###\n",
    "\n",
    "qc.x(q[2])\n",
    "qc.x(q[3])\n",
    "\n",
    "qc.cu1(pi/4, q[0], q[3])\n",
    "qc.cx(q[0], q[1])\n",
    "qc.cu1(-pi/4, q[1], q[3])\n",
    "qc.cx(q[0], q[1])\n",
    "qc.cu1(pi/4, q[1], q[3])\n",
    "qc.cx(q[1], q[2])\n",
    "qc.cu1(-pi/4, q[2], q[3])\n",
    "qc.cx(q[0], q[2])\n",
    "qc.cu1(pi/4, q[2], q[3])\n",
    "qc.cx(q[1], q[2])\n",
    "qc.cu1(-pi/4, q[2], q[3])\n",
    "qc.cx(q[0], q[2])\n",
    "qc.cu1(pi/4, q[2], q[3])\n",
    "\n",
    "qc.x(q[2])\n",
    "qc.x(q[3])\n",
    "'''\n",
    "\n",
    "'''\n",
    "### 0100 Oracle ###\n",
    "\n",
    "qc.x(q[0])\n",
    "qc.x(q[1])\n",
    "qc.x(q[3])\n",
    "\n",
    "qc.cu1(pi/4, q[0], q[3])\n",
    "qc.cx(q[0], q[1])\n",
    "qc.cu1(-pi/4, q[1], q[3])\n",
    "qc.cx(q[0], q[1])\n",
    "qc.cu1(pi/4, q[1], q[3])\n",
    "qc.cx(q[1], q[2])\n",
    "qc.cu1(-pi/4, q[2], q[3])\n",
    "qc.cx(q[0], q[2])\n",
    "qc.cu1(pi/4, q[2], q[3])\n",
    "qc.cx(q[1], q[2])\n",
    "qc.cu1(-pi/4, q[2], q[3])\n",
    "qc.cx(q[0], q[2])\n",
    "qc.cu1(pi/4, q[2], q[3])\n",
    "\n",
    "qc.x(q[0])\n",
    "qc.x(q[1])\n",
    "qc.x(q[3])\n",
    "'''\n",
    "\n",
    "'''\n",
    "### 0101 Oracle ###\n",
    "\n",
    "qc.x(q[1])\n",
    "qc.x(q[3])\n",
    "\n",
    "qc.cu1(pi/4, q[0], q[3])\n",
    "qc.cx(q[0], q[1])\n",
    "qc.cu1(-pi/4, q[1], q[3])\n",
    "qc.cx(q[0], q[1])\n",
    "qc.cu1(pi/4, q[1], q[3])\n",
    "qc.cx(q[1], q[2])\n",
    "qc.cu1(-pi/4, q[2], q[3])\n",
    "qc.cx(q[0], q[2])\n",
    "qc.cu1(pi/4, q[2], q[3])\n",
    "qc.cx(q[1], q[2])\n",
    "qc.cu1(-pi/4, q[2], q[3])\n",
    "qc.cx(q[0], q[2])\n",
    "qc.cu1(pi/4, q[2], q[3])\n",
    "\n",
    "qc.x(q[1])\n",
    "qc.x(q[3])\n",
    "'''\n",
    "\n",
    "'''\n",
    "### 0110 Oracle ###\n",
    "\n",
    "qc.x(q[0])\n",
    "qc.x(q[3])\n",
    "\n",
    "qc.cu1(pi/4, q[0], q[3])\n",
    "qc.cx(q[0], q[1])\n",
    "qc.cu1(-pi/4, q[1], q[3])\n",
    "qc.cx(q[0], q[1])\n",
    "qc.cu1(pi/4, q[1], q[3])\n",
    "qc.cx(q[1], q[2])\n",
    "qc.cu1(-pi/4, q[2], q[3])\n",
    "qc.cx(q[0], q[2])\n",
    "qc.cu1(pi/4, q[2], q[3])\n",
    "qc.cx(q[1], q[2])\n",
    "qc.cu1(-pi/4, q[2], q[3])\n",
    "qc.cx(q[0], q[2])\n",
    "qc.cu1(pi/4, q[2], q[3])\n",
    "\n",
    "qc.x(q[0])\n",
    "qc.x(q[3])\n",
    "'''\n",
    "\n",
    "'''\n",
    "### 0111 Oracle ###\n",
    "\n",
    "qc.x(q[3])\n",
    "\n",
    "qc.cu1(pi/4, q[0], q[3])\n",
    "qc.cx(q[0], q[1])\n",
    "qc.cu1(-pi/4, q[1], q[3])\n",
    "qc.cx(q[0], q[1])\n",
    "qc.cu1(pi/4, q[1], q[3])\n",
    "qc.cx(q[1], q[2])\n",
    "qc.cu1(-pi/4, q[2], q[3])\n",
    "qc.cx(q[0], q[2])\n",
    "qc.cu1(pi/4, q[2], q[3])\n",
    "qc.cx(q[1], q[2])\n",
    "qc.cu1(-pi/4, q[2], q[3])\n",
    "qc.cx(q[0], q[2])\n",
    "qc.cu1(pi/4, q[2], q[3])\n",
    "\n",
    "qc.x(q[3])\n",
    "'''\n",
    "\n",
    "'''\n",
    "### 1000 Oracle ###\n",
    "\n",
    "qc.x(q[0])\n",
    "qc.x(q[1])\n",
    "qc.x(q[2])\n",
    "\n",
    "qc.cu1(pi/4, q[0], q[3])\n",
    "qc.cx(q[0], q[1])\n",
    "qc.cu1(-pi/4, q[1], q[3])\n",
    "qc.cx(q[0], q[1])\n",
    "qc.cu1(pi/4, q[1], q[3])\n",
    "qc.cx(q[1], q[2])\n",
    "qc.cu1(-pi/4, q[2], q[3])\n",
    "qc.cx(q[0], q[2])\n",
    "qc.cu1(pi/4, q[2], q[3])\n",
    "qc.cx(q[1], q[2])\n",
    "qc.cu1(-pi/4, q[2], q[3])\n",
    "qc.cx(q[0], q[2])\n",
    "qc.cu1(pi/4, q[2], q[3])\n",
    "\n",
    "qc.x(q[0])\n",
    "qc.x(q[1])\n",
    "qc.x(q[2])\n",
    "'''\n",
    "\n",
    "'''\n",
    "### 1001 Oracle ###\n",
    "\n",
    "qc.x(q[1])\n",
    "qc.x(q[2])\n",
    "\n",
    "qc.cu1(pi/4, q[0], q[3])\n",
    "qc.cx(q[0], q[1])\n",
    "qc.cu1(-pi/4, q[1], q[3])\n",
    "qc.cx(q[0], q[1])\n",
    "qc.cu1(pi/4, q[1], q[3])\n",
    "qc.cx(q[1], q[2])\n",
    "qc.cu1(-pi/4, q[2], q[3])\n",
    "qc.cx(q[0], q[2])\n",
    "qc.cu1(pi/4, q[2], q[3])\n",
    "qc.cx(q[1], q[2])\n",
    "qc.cu1(-pi/4, q[2], q[3])\n",
    "qc.cx(q[0], q[2])\n",
    "qc.cu1(pi/4, q[2], q[3])\n",
    "\n",
    "qc.x(q[1])\n",
    "qc.x(q[2])\n",
    "'''\n",
    "\n",
    "'''\n",
    "### 1010 Oracle ###\n",
    "\n",
    "qc.x(q[0])\n",
    "qc.x(q[2])\n",
    "\n",
    "qc.cu1(pi/4, q[0], q[3])\n",
    "qc.cx(q[0], q[1])\n",
    "qc.cu1(-pi/4, q[1], q[3])\n",
    "qc.cx(q[0], q[1])\n",
    "qc.cu1(pi/4, q[1], q[3])\n",
    "qc.cx(q[1], q[2])\n",
    "qc.cu1(-pi/4, q[2], q[3])\n",
    "qc.cx(q[0], q[2])\n",
    "qc.cu1(pi/4, q[2], q[3])\n",
    "qc.cx(q[1], q[2])\n",
    "qc.cu1(-pi/4, q[2], q[3])\n",
    "qc.cx(q[0], q[2])\n",
    "qc.cu1(pi/4, q[2], q[3])\n",
    "\n",
    "qc.x(q[0])\n",
    "qc.x(q[2])\n",
    "'''\n",
    "\n",
    "'''\n",
    "### 1011 Oracle ###\n",
    "\n",
    "qc.x(q[3])\n",
    "\n",
    "qc.cu1(pi/4, q[0], q[3])\n",
    "qc.cx(q[0], q[1])\n",
    "qc.cu1(-pi/4, q[1], q[3])\n",
    "qc.cx(q[0], q[1])\n",
    "qc.cu1(pi/4, q[1], q[3])\n",
    "qc.cx(q[1], q[2])\n",
    "qc.cu1(-pi/4, q[2], q[3])\n",
    "qc.cx(q[0], q[2])\n",
    "qc.cu1(pi/4, q[2], q[3])\n",
    "qc.cx(q[1], q[2])\n",
    "qc.cu1(-pi/4, q[2], q[3])\n",
    "qc.cx(q[0], q[2])\n",
    "qc.cu1(pi/4, q[2], q[3])\n",
    "\n",
    "qc.x(q[3])\n",
    "'''\n",
    "\n",
    "'''\n",
    "### 1100 Oracle ###\n",
    "\n",
    "qc.x(q[0])\n",
    "qc.x(q[1])\n",
    "\n",
    "qc.cu1(pi/4, q[0], q[3])\n",
    "qc.cx(q[0], q[1])\n",
    "qc.cu1(-pi/4, q[1], q[3])\n",
    "qc.cx(q[0], q[1])\n",
    "qc.cu1(pi/4, q[1], q[3])\n",
    "qc.cx(q[1], q[2])\n",
    "qc.cu1(-pi/4, q[2], q[3])\n",
    "qc.cx(q[0], q[2])\n",
    "qc.cu1(pi/4, q[2], q[3])\n",
    "qc.cx(q[1], q[2])\n",
    "qc.cu1(-pi/4, q[2], q[3])\n",
    "qc.cx(q[0], q[2])\n",
    "qc.cu1(pi/4, q[2], q[3])\n",
    "\n",
    "qc.x(q[0])\n",
    "qc.x(q[1])\n",
    "'''\n",
    "\n",
    "'''\n",
    "### 1101 Oracle ###\n",
    "\n",
    "qc.x(q[1])\n",
    "\n",
    "qc.cu1(pi/4, q[0], q[3])\n",
    "qc.cx(q[0], q[1])\n",
    "qc.cu1(-pi/4, q[1], q[3])\n",
    "qc.cx(q[0], q[1])\n",
    "qc.cu1(pi/4, q[1], q[3])\n",
    "qc.cx(q[1], q[2])\n",
    "qc.cu1(-pi/4, q[2], q[3])\n",
    "qc.cx(q[0], q[2])\n",
    "qc.cu1(pi/4, q[2], q[3])\n",
    "qc.cx(q[1], q[2])\n",
    "qc.cu1(-pi/4, q[2], q[3])\n",
    "qc.cx(q[0], q[2])\n",
    "qc.cu1(pi/4, q[2], q[3])\n",
    "\n",
    "qc.x(q[1])\n",
    "'''\n",
    "\n",
    "'''\n",
    "### 1110 Oracle ###\n",
    "\n",
    "qc.x(q[0])\n",
    "\n",
    "qc.cu1(pi/4, q[0], q[3])\n",
    "qc.cx(q[0], q[1])\n",
    "qc.cu1(-pi/4, q[1], q[3])\n",
    "qc.cx(q[0], q[1])\n",
    "qc.cu1(pi/4, q[1], q[3])\n",
    "qc.cx(q[1], q[2])\n",
    "qc.cu1(-pi/4, q[2], q[3])\n",
    "qc.cx(q[0], q[2])\n",
    "qc.cu1(pi/4, q[2], q[3])\n",
    "qc.cx(q[1], q[2])\n",
    "qc.cu1(-pi/4, q[2], q[3])\n",
    "qc.cx(q[0], q[2])\n",
    "qc.cu1(pi/4, q[2], q[3])\n",
    "\n",
    "qc.x(q[0])\n",
    "'''\n",
    "\n",
    "'''\n",
    "###1111 Oracle###\n",
    "\n",
    "qc.cu1(pi/4, q[0], q[3])\n",
    "qc.cx(q[0], q[1])\n",
    "qc.cu1(-pi/4, q[1], q[3])\n",
    "qc.cx(q[0], q[1])\n",
    "qc.cu1(pi/4, q[1], q[3])\n",
    "qc.cx(q[1], q[2])\n",
    "qc.cu1(-pi/4, q[2], q[3])\n",
    "qc.cx(q[0], q[2])\n",
    "qc.cu1(pi/4, q[2], q[3])\n",
    "qc.cx(q[1], q[2])\n",
    "qc.cu1(-pi/4, q[2], q[3])\n",
    "qc.cx(q[0], q[2])\n",
    "qc.cu1(pi/4, q[2], q[3])\n",
    "'''\n",
    "\n",
    "print('\\nPreparing Amplification circuit....\\n')\n",
    "#### Amplification ####\n",
    "\n",
    "qc.h(q[0])\n",
    "qc.h(q[1])\n",
    "qc.h(q[2])\n",
    "qc.h(q[3])\n",
    "qc.x(q[0])\n",
    "qc.x(q[1])\n",
    "qc.x(q[2])\n",
    "qc.x(q[3])\n",
    "\n",
    "qc.cu1(pi/4, q[0], q[3])\n",
    "qc.cx(q[0], q[1])\n",
    "qc.cu1(-pi/4, q[1], q[3])\n",
    "qc.cx(q[0], q[1])\n",
    "qc.cu1(pi/4, q[1], q[3])\n",
    "qc.cx(q[1], q[2])\n",
    "qc.cu1(-pi/4, q[2], q[3])\n",
    "qc.cx(q[0], q[2])\n",
    "qc.cu1(pi/4, q[2], q[3])\n",
    "qc.cx(q[1], q[2])\n",
    "\n",
    "qc.cu1(-pi/4, q[2], q[3])\n",
    "qc.cx(q[0], q[2])\n",
    "qc.cu1(pi/4, q[2], q[3])\n",
    "\n",
    "qc.x(q[0])\n",
    "qc.x(q[1])\n",
    "qc.x(q[2])\n",
    "qc.x(q[3])\n",
    "qc.h(q[0])\n",
    "qc.h(q[1])\n",
    "qc.h(q[2])\n",
    "qc.h(q[3])\n",
    "\n",
    "### Measurment ###\n",
    "qc.barrier(q)\n",
    "qc.measure(q[0], c[0])\n",
    "qc.measure(q[1], c[1])\n",
    "qc.measure(q[2], c[2])\n",
    "qc.measure(q[3], c[3])\n",
    "\n",
    "backend = provider.get_backend('ibmq_qasm_simulator')\n",
    "print('\\nExecuting job....\\n')\n",
    "job = execute(qc, backend, shots=100)\n",
    "\n",
    "job_monitor(job)\n",
    "counts = job.result().get_counts()\n",
    "\n",
    "print('RESULT: ',counts,'\\n')\n",
    "print('Press any key to close')\n",
    "input()"
   ]
  },
  {
   "cell_type": "code",
   "execution_count": null,
   "id": "turned-annex",
   "metadata": {},
   "outputs": [],
   "source": []
  },
  {
   "cell_type": "code",
   "execution_count": null,
   "id": "junior-sustainability",
   "metadata": {},
   "outputs": [],
   "source": []
  },
  {
   "cell_type": "code",
   "execution_count": null,
   "id": "turned-professor",
   "metadata": {},
   "outputs": [],
   "source": []
  },
  {
   "cell_type": "code",
   "execution_count": 28,
   "id": "crucial-jersey",
   "metadata": {},
   "outputs": [],
   "source": [
    "def oracle(qc, card):\n",
    "    ### 0000 Oracle ###\n",
    "    if card == \"0000\":\n",
    "        qc.x(q[0])\n",
    "        qc.x(q[1])\n",
    "        qc.x(q[2])\n",
    "        qc.x(q[3])\n",
    "\n",
    "        qc.cu1(pi/4, q[0], q[3])\n",
    "        qc.cx(q[0], q[1])\n",
    "        qc.cu1(-pi/4, q[1], q[3])\n",
    "        qc.cx(q[0], q[1])\n",
    "        qc.cu1(pi/4, q[1], q[3])\n",
    "        qc.cx(q[1], q[2])\n",
    "        qc.cu1(-pi/4, q[2], q[3])\n",
    "        qc.cx(q[0], q[2])\n",
    "        qc.cu1(pi/4, q[2], q[3])\n",
    "        qc.cx(q[1], q[2])\n",
    "        qc.cu1(-pi/4, q[2], q[3])\n",
    "        qc.cx(q[0], q[2])\n",
    "        qc.cu1(pi/4, q[2], q[3])\n",
    "\n",
    "        qc.x(q[0])\n",
    "        qc.x(q[1])\n",
    "        qc.x(q[2])\n",
    "        qc.x(q[3])\n",
    "\n",
    "    elif card == \"0001\":\n",
    "        ### 0001 Oracle ###\n",
    "\n",
    "        qc.x(q[1])\n",
    "        qc.x(q[2])\n",
    "        qc.x(q[3])\n",
    "\n",
    "        qc.cu1(pi/4, q[0], q[3])\n",
    "        qc.cx(q[0], q[1])\n",
    "        qc.cu1(-pi/4, q[1], q[3])\n",
    "        qc.cx(q[0], q[1])\n",
    "        qc.cu1(pi/4, q[1], q[3])\n",
    "        qc.cx(q[1], q[2])\n",
    "        qc.cu1(-pi/4, q[2], q[3])\n",
    "        qc.cx(q[0], q[2])\n",
    "        qc.cu1(pi/4, q[2], q[3])\n",
    "        qc.cx(q[1], q[2])\n",
    "        qc.cu1(-pi/4, q[2], q[3])\n",
    "        qc.cx(q[0], q[2])\n",
    "        qc.cu1(pi/4, q[2], q[3])\n",
    "\n",
    "        qc.x(q[1])\n",
    "        qc.x(q[2])\n",
    "        qc.x(q[3])\n",
    "\n",
    "    elif card == \"0010\":\n",
    "        ### 0010 Oracle ###\n",
    "\n",
    "        qc.x(q[0])\n",
    "        qc.x(q[2])\n",
    "        qc.x(q[3])\n",
    "\n",
    "        qc.cu1(pi/4, q[0], q[3])\n",
    "        qc.cx(q[0], q[1])\n",
    "        qc.cu1(-pi/4, q[1], q[3])\n",
    "        qc.cx(q[0], q[1])\n",
    "        qc.cu1(pi/4, q[1], q[3])\n",
    "        qc.cx(q[1], q[2])\n",
    "        qc.cu1(-pi/4, q[2], q[3])\n",
    "        qc.cx(q[0], q[2])\n",
    "        qc.cu1(pi/4, q[2], q[3])\n",
    "        qc.cx(q[1], q[2])\n",
    "        qc.cu1(-pi/4, q[2], q[3])\n",
    "        qc.cx(q[0], q[2])\n",
    "        qc.cu1(pi/4, q[2], q[3])\n",
    "\n",
    "        qc.x(q[0])\n",
    "        qc.x(q[2])\n",
    "        qc.x(q[3])\n",
    "\n",
    "    elif card == \"0011\":\n",
    "        ### 0011 Oracle ###\n",
    "\n",
    "        qc.x(q[2])\n",
    "        qc.x(q[3])\n",
    "\n",
    "        qc.cu1(pi/4, q[0], q[3])\n",
    "        qc.cx(q[0], q[1])\n",
    "        qc.cu1(-pi/4, q[1], q[3])\n",
    "        qc.cx(q[0], q[1])\n",
    "        qc.cu1(pi/4, q[1], q[3])\n",
    "        qc.cx(q[1], q[2])\n",
    "        qc.cu1(-pi/4, q[2], q[3])\n",
    "        qc.cx(q[0], q[2])\n",
    "        qc.cu1(pi/4, q[2], q[3])\n",
    "        qc.cx(q[1], q[2])\n",
    "        qc.cu1(-pi/4, q[2], q[3])\n",
    "        qc.cx(q[0], q[2])\n",
    "        qc.cu1(pi/4, q[2], q[3])\n",
    "\n",
    "        qc.x(q[2])\n",
    "        qc.x(q[3])\n",
    "\n",
    "    elif card == \"0100\":\n",
    "        ### 0100 Oracle ###\n",
    "\n",
    "        qc.x(q[0])\n",
    "        qc.x(q[1])\n",
    "        qc.x(q[3])\n",
    "\n",
    "        qc.cu1(pi/4, q[0], q[3])\n",
    "        qc.cx(q[0], q[1])\n",
    "        qc.cu1(-pi/4, q[1], q[3])\n",
    "        qc.cx(q[0], q[1])\n",
    "        qc.cu1(pi/4, q[1], q[3])\n",
    "        qc.cx(q[1], q[2])\n",
    "        qc.cu1(-pi/4, q[2], q[3])\n",
    "        qc.cx(q[0], q[2])\n",
    "        qc.cu1(pi/4, q[2], q[3])\n",
    "        qc.cx(q[1], q[2])\n",
    "        qc.cu1(-pi/4, q[2], q[3])\n",
    "        qc.cx(q[0], q[2])\n",
    "        qc.cu1(pi/4, q[2], q[3])\n",
    "\n",
    "        qc.x(q[0])\n",
    "        qc.x(q[1])\n",
    "        qc.x(q[3])\n",
    "\n",
    "    elif card == \"0101\":\n",
    "        ### 0101 Oracle ###\n",
    "\n",
    "        qc.x(q[1])\n",
    "        qc.x(q[3])\n",
    "\n",
    "        qc.cu1(pi/4, q[0], q[3])\n",
    "        qc.cx(q[0], q[1])\n",
    "        qc.cu1(-pi/4, q[1], q[3])\n",
    "        qc.cx(q[0], q[1])\n",
    "        qc.cu1(pi/4, q[1], q[3])\n",
    "        qc.cx(q[1], q[2])\n",
    "        qc.cu1(-pi/4, q[2], q[3])\n",
    "        qc.cx(q[0], q[2])\n",
    "        qc.cu1(pi/4, q[2], q[3])\n",
    "        qc.cx(q[1], q[2])\n",
    "        qc.cu1(-pi/4, q[2], q[3])\n",
    "        qc.cx(q[0], q[2])\n",
    "        qc.cu1(pi/4, q[2], q[3])\n",
    "\n",
    "        qc.x(q[1])\n",
    "        qc.x(q[3])\n",
    "\n",
    "    elif card == \"0110\":\n",
    "        ### 0110 Oracle ###\n",
    "\n",
    "        qc.x(q[0])\n",
    "        qc.x(q[3])\n",
    "\n",
    "        qc.cu1(pi/4, q[0], q[3])\n",
    "        qc.cx(q[0], q[1])\n",
    "        qc.cu1(-pi/4, q[1], q[3])\n",
    "        qc.cx(q[0], q[1])\n",
    "        qc.cu1(pi/4, q[1], q[3])\n",
    "        qc.cx(q[1], q[2])\n",
    "        qc.cu1(-pi/4, q[2], q[3])\n",
    "        qc.cx(q[0], q[2])\n",
    "        qc.cu1(pi/4, q[2], q[3])\n",
    "        qc.cx(q[1], q[2])\n",
    "        qc.cu1(-pi/4, q[2], q[3])\n",
    "        qc.cx(q[0], q[2])\n",
    "        qc.cu1(pi/4, q[2], q[3])\n",
    "\n",
    "        qc.x(q[0])\n",
    "        qc.x(q[3])\n",
    "\n",
    "    elif card == \"0111\":\n",
    "        ### 0111 Oracle ###\n",
    "\n",
    "        qc.x(q[3])\n",
    "\n",
    "        qc.cu1(pi/4, q[0], q[3])\n",
    "        qc.cx(q[0], q[1])\n",
    "        qc.cu1(-pi/4, q[1], q[3])\n",
    "        qc.cx(q[0], q[1])\n",
    "        qc.cu1(pi/4, q[1], q[3])\n",
    "        qc.cx(q[1], q[2])\n",
    "        qc.cu1(-pi/4, q[2], q[3])\n",
    "        qc.cx(q[0], q[2])\n",
    "        qc.cu1(pi/4, q[2], q[3])\n",
    "        qc.cx(q[1], q[2])\n",
    "        qc.cu1(-pi/4, q[2], q[3])\n",
    "        qc.cx(q[0], q[2])\n",
    "        qc.cu1(pi/4, q[2], q[3])\n",
    "\n",
    "        qc.x(q[3])\n",
    "\n",
    "    elif card == \"1000\":\n",
    "        ### 1000 Oracle ###\n",
    "\n",
    "        qc.x(q[0])\n",
    "        qc.x(q[1])\n",
    "        qc.x(q[2])\n",
    "\n",
    "        qc.cu1(pi/4, q[0], q[3])\n",
    "        qc.cx(q[0], q[1])\n",
    "        qc.cu1(-pi/4, q[1], q[3])\n",
    "        qc.cx(q[0], q[1])\n",
    "        qc.cu1(pi/4, q[1], q[3])\n",
    "        qc.cx(q[1], q[2])\n",
    "        qc.cu1(-pi/4, q[2], q[3])\n",
    "        qc.cx(q[0], q[2])\n",
    "        qc.cu1(pi/4, q[2], q[3])\n",
    "        qc.cx(q[1], q[2])\n",
    "        qc.cu1(-pi/4, q[2], q[3])\n",
    "        qc.cx(q[0], q[2])\n",
    "        qc.cu1(pi/4, q[2], q[3])\n",
    "\n",
    "        qc.x(q[0])\n",
    "        qc.x(q[1])\n",
    "        qc.x(q[2])\n",
    "\n",
    "    elif card == \"1001\":\n",
    "        ### 1001 Oracle ###\n",
    "\n",
    "        qc.x(q[1])\n",
    "        qc.x(q[2])\n",
    "\n",
    "        qc.cu1(pi/4, q[0], q[3])\n",
    "        qc.cx(q[0], q[1])\n",
    "        qc.cu1(-pi/4, q[1], q[3])\n",
    "        qc.cx(q[0], q[1])\n",
    "        qc.cu1(pi/4, q[1], q[3])\n",
    "        qc.cx(q[1], q[2])\n",
    "        qc.cu1(-pi/4, q[2], q[3])\n",
    "        qc.cx(q[0], q[2])\n",
    "        qc.cu1(pi/4, q[2], q[3])\n",
    "        qc.cx(q[1], q[2])\n",
    "        qc.cu1(-pi/4, q[2], q[3])\n",
    "        qc.cx(q[0], q[2])\n",
    "        qc.cu1(pi/4, q[2], q[3])\n",
    "\n",
    "        qc.x(q[1])\n",
    "        qc.x(q[2])\n",
    "\n",
    "    elif card == \"1010\":\n",
    "        ### 1010 Oracle ###\n",
    "\n",
    "        qc.x(q[0])\n",
    "        qc.x(q[2])\n",
    "\n",
    "        qc.cu1(pi/4, q[0], q[3])\n",
    "        qc.cx(q[0], q[1])\n",
    "        qc.cu1(-pi/4, q[1], q[3])\n",
    "        qc.cx(q[0], q[1])\n",
    "        qc.cu1(pi/4, q[1], q[3])\n",
    "        qc.cx(q[1], q[2])\n",
    "        qc.cu1(-pi/4, q[2], q[3])\n",
    "        qc.cx(q[0], q[2])\n",
    "        qc.cu1(pi/4, q[2], q[3])\n",
    "        qc.cx(q[1], q[2])\n",
    "        qc.cu1(-pi/4, q[2], q[3])\n",
    "        qc.cx(q[0], q[2])\n",
    "        qc.cu1(pi/4, q[2], q[3])\n",
    "\n",
    "        qc.x(q[0])\n",
    "        qc.x(q[2])\n",
    "\n",
    "    elif card == \"1011\":\n",
    "        ### 1011 Oracle ###\n",
    "\n",
    "        qc.x(q[3])\n",
    "\n",
    "        qc.cu1(pi/4, q[0], q[3])\n",
    "        qc.cx(q[0], q[1])\n",
    "        qc.cu1(-pi/4, q[1], q[3])\n",
    "        qc.cx(q[0], q[1])\n",
    "        qc.cu1(pi/4, q[1], q[3])\n",
    "        qc.cx(q[1], q[2])\n",
    "        qc.cu1(-pi/4, q[2], q[3])\n",
    "        qc.cx(q[0], q[2])\n",
    "        qc.cu1(pi/4, q[2], q[3])\n",
    "        qc.cx(q[1], q[2])\n",
    "        qc.cu1(-pi/4, q[2], q[3])\n",
    "        qc.cx(q[0], q[2])\n",
    "        qc.cu1(pi/4, q[2], q[3])\n",
    "\n",
    "        qc.x(q[3])\n",
    "\n",
    "    elif card == \"1100\":\n",
    "        ### 1100 Oracle ###\n",
    "\n",
    "        qc.x(q[0])\n",
    "        qc.x(q[1])\n",
    "\n",
    "        qc.cu1(pi/4, q[0], q[3])\n",
    "        qc.cx(q[0], q[1])\n",
    "        qc.cu1(-pi/4, q[1], q[3])\n",
    "        qc.cx(q[0], q[1])\n",
    "        qc.cu1(pi/4, q[1], q[3])\n",
    "        qc.cx(q[1], q[2])\n",
    "        qc.cu1(-pi/4, q[2], q[3])\n",
    "        qc.cx(q[0], q[2])\n",
    "        qc.cu1(pi/4, q[2], q[3])\n",
    "        qc.cx(q[1], q[2])\n",
    "        qc.cu1(-pi/4, q[2], q[3])\n",
    "        qc.cx(q[0], q[2])\n",
    "        qc.cu1(pi/4, q[2], q[3])\n",
    "\n",
    "        qc.x(q[0])\n",
    "        qc.x(q[1])\n",
    "\n",
    "    elif card == \"1101\":\n",
    "        ### 1101 Oracle ###\n",
    "\n",
    "        qc.x(q[1])\n",
    "\n",
    "        qc.cu1(pi/4, q[0], q[3])\n",
    "        qc.cx(q[0], q[1])\n",
    "        qc.cu1(-pi/4, q[1], q[3])\n",
    "        qc.cx(q[0], q[1])\n",
    "        qc.cu1(pi/4, q[1], q[3])\n",
    "        qc.cx(q[1], q[2])\n",
    "        qc.cu1(-pi/4, q[2], q[3])\n",
    "        qc.cx(q[0], q[2])\n",
    "        qc.cu1(pi/4, q[2], q[3])\n",
    "        qc.cx(q[1], q[2])\n",
    "        qc.cu1(-pi/4, q[2], q[3])\n",
    "        qc.cx(q[0], q[2])\n",
    "        qc.cu1(pi/4, q[2], q[3])\n",
    "\n",
    "        qc.x(q[1])\n",
    "\n",
    "    elif card == \"1110\":\n",
    "        ### 1110 Oracle ###\n",
    "\n",
    "        qc.x(q[0])\n",
    "\n",
    "        qc.cu1(pi/4, q[0], q[3])\n",
    "        qc.cx(q[0], q[1])\n",
    "        qc.cu1(-pi/4, q[1], q[3])\n",
    "        qc.cx(q[0], q[1])\n",
    "        qc.cu1(pi/4, q[1], q[3])\n",
    "        qc.cx(q[1], q[2])\n",
    "        qc.cu1(-pi/4, q[2], q[3])\n",
    "        qc.cx(q[0], q[2])\n",
    "        qc.cu1(pi/4, q[2], q[3])\n",
    "        qc.cx(q[1], q[2])\n",
    "        qc.cu1(-pi/4, q[2], q[3])\n",
    "        qc.cx(q[0], q[2])\n",
    "        qc.cu1(pi/4, q[2], q[3])\n",
    "\n",
    "        qc.x(q[0])\n",
    "\n",
    "    elif card == \"1111\":\n",
    "        ###1111 Oracle###\n",
    "\n",
    "        qc.cu1(pi/4, q[0], q[3])\n",
    "        qc.cx(q[0], q[1])\n",
    "        qc.cu1(-pi/4, q[1], q[3])\n",
    "        qc.cx(q[0], q[1])\n",
    "        qc.cu1(pi/4, q[1], q[3])\n",
    "        qc.cx(q[1], q[2])\n",
    "        qc.cu1(-pi/4, q[2], q[3])\n",
    "        qc.cx(q[0], q[2])\n",
    "        qc.cu1(pi/4, q[2], q[3])\n",
    "        qc.cx(q[1], q[2])\n",
    "        qc.cu1(-pi/4, q[2], q[3])\n",
    "        qc.cx(q[0], q[2])\n",
    "        qc.cu1(pi/4, q[2], q[3])\n",
    "    \n",
    "    return qc"
   ]
  },
  {
   "cell_type": "code",
   "execution_count": null,
   "id": "matched-campus",
   "metadata": {},
   "outputs": [],
   "source": []
  },
  {
   "cell_type": "code",
   "execution_count": 32,
   "id": "formed-valve",
   "metadata": {},
   "outputs": [
    {
     "name": "stdout",
     "output_type": "stream",
     "text": [
      "\n",
      "Initialising Circuit...\n",
      "\n",
      "\n",
      "Preparing Oracle circuit....\n",
      "\n"
     ]
    },
    {
     "data": {
      "image/png": "[encoded data removed]",
      "text/plain": [
       "<Figure size 1471.2x325.08 with 1 Axes>"
      ]
     },
     "execution_count": 32,
     "metadata": {},
     "output_type": "execute_result"
    }
   ],
   "source": [
    "import math\n",
    "from qiskit.tools.monitor import job_monitor\n",
    "\n",
    "card_dict = {\n",
    "    \"king_spade\": \"0000\",\n",
    "    \"queen_spade\": \"0001\",\n",
    "    \"jack_spade\": \"0010\",\n",
    "    \"ace_spade\": \"0011\",\n",
    "    \"king_heart\": \"0100\",\n",
    "    \"queen_heart\": \"0101\",\n",
    "    \"jack_heart\": \"0110\",\n",
    "    \"ace_heart\": \"0111\",\n",
    "    \"king_diamond\": \"1000\",\n",
    "    \"queen_diamond\": \"1001\",\n",
    "    \"jack_diamond\": \"1010\",\n",
    "    \"ace_diamond\": \"1011\",\n",
    "    \"one_heart\": \"1100\",\n",
    "    \"two_diamond\": \"1101\",\n",
    "    \"three_diamond\": \"1110\",\n",
    "    \"joker\": \"1111\",\n",
    "}\n",
    "\n",
    "\n",
    "pi = math.pi\n",
    "q = QuantumRegister(4,'q')\n",
    "c = ClassicalRegister(4,'c')\n",
    "qc = QuantumCircuit(q,c)\n",
    "\n",
    "print('\\nInitialising Circuit...\\n')\n",
    "\n",
    "### Initialisation ###\n",
    "\n",
    "qc.h(q[0])\n",
    "qc.h(q[1])\n",
    "qc.h(q[2])\n",
    "qc.h(q[3])\n",
    "\n",
    "print('\\nPreparing Oracle circuit....\\n')\n",
    "\n",
    "\n",
    "\n",
    "card = card_dict[\"king_spade\"]\n",
    "card = card_dict[\"joker\"]\n",
    "card = card_dict[\"three_diamond\"]\n",
    "card = card_dict[\"queen_spade\"]\n",
    "\n",
    "qc = oracle(qc, card)\n",
    "qc.draw('mpl')"
   ]
  },
  {
   "cell_type": "code",
   "execution_count": 33,
   "id": "amateur-disorder",
   "metadata": {},
   "outputs": [
    {
     "name": "stdout",
     "output_type": "stream",
     "text": [
      "\n",
      "Preparing Amplification circuit....\n",
      "\n",
      "\n",
      "Executing job....\n",
      "\n",
      "Job Status: job has successfully run\n"
     ]
    },
    {
     "data": {
      "image/png": "[encoded data removed]",
      "text/plain": [
       "<Figure size 504x360 with 1 Axes>"
      ]
     },
     "execution_count": 33,
     "metadata": {},
     "output_type": "execute_result"
    }
   ],
   "source": [
    "print('\\nPreparing Amplification circuit....\\n')\n",
    "#### Amplification ####\n",
    "\n",
    "qc.h(q[0])\n",
    "qc.h(q[1])\n",
    "qc.h(q[2])\n",
    "qc.h(q[3])\n",
    "qc.x(q[0])\n",
    "qc.x(q[1])\n",
    "qc.x(q[2])\n",
    "qc.x(q[3])\n",
    "\n",
    "qc.cu1(pi/4, q[0], q[3])\n",
    "qc.cx(q[0], q[1])\n",
    "qc.cu1(-pi/4, q[1], q[3])\n",
    "qc.cx(q[0], q[1])\n",
    "qc.cu1(pi/4, q[1], q[3])\n",
    "qc.cx(q[1], q[2])\n",
    "qc.cu1(-pi/4, q[2], q[3])\n",
    "qc.cx(q[0], q[2])\n",
    "qc.cu1(pi/4, q[2], q[3])\n",
    "qc.cx(q[1], q[2])\n",
    "\n",
    "qc.cu1(-pi/4, q[2], q[3])\n",
    "qc.cx(q[0], q[2])\n",
    "qc.cu1(pi/4, q[2], q[3])\n",
    "\n",
    "qc.x(q[0])\n",
    "qc.x(q[1])\n",
    "qc.x(q[2])\n",
    "qc.x(q[3])\n",
    "qc.h(q[0])\n",
    "qc.h(q[1])\n",
    "qc.h(q[2])\n",
    "qc.h(q[3])\n",
    "\n",
    "### Measurment ###\n",
    "qc.barrier(q)\n",
    "qc.measure(q[0], c[0])\n",
    "qc.measure(q[1], c[1])\n",
    "qc.measure(q[2], c[2])\n",
    "qc.measure(q[3], c[3])\n",
    "\n",
    "backend = provider.get_backend('ibmq_qasm_simulator')\n",
    "print('\\nExecuting job....\\n')\n",
    "job = execute(qc, backend, shots=1000)\n",
    "\n",
    "job_monitor(job)\n",
    "counts = job.result().get_counts()\n",
    "plot_histogram(counts)"
   ]
  },
  {
   "cell_type": "code",
   "execution_count": 34,
   "id": "26cd82f2",
   "metadata": {},
   "outputs": [
    {
     "name": "stdout",
     "output_type": "stream",
     "text": [
      "dict_keys(['king_spade', 'queen_spade', 'jack_spade', 'ace_spade', 'king_heart', 'queen_heart', 'jack_heart', 'ace_heart', 'king_diamond', 'queen_diamond', 'jack_diamond', 'ace_diamond', 'one_heart', 'two_diamond', 'three_diamond', 'joker'])\n"
     ]
    }
   ],
   "source": [
    "print(card_dict.keys())"
   ]
  },
  {
   "cell_type": "code",
   "execution_count": null,
   "id": "synthetic-concern",
   "metadata": {},
   "outputs": [],
   "source": []
  }
 ],
 "metadata": {
  "kernelspec": {
   "display_name": "Python 3",
   "language": "python",
   "name": "python3"
  },
  "language_info": {
   "codemirror_mode": {
    "name": "ipython",
    "version": 3
   },
   "file_extension": ".py",
   "mimetype": "text/x-python",
   "name": "python",
   "nbconvert_exporter": "python",
   "pygments_lexer": "ipython3",
   "version": "3.8.8"
  }
 },
 "nbformat": 4,
 "nbformat_minor": 5
}
