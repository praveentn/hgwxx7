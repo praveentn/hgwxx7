{
  "nbformat": 4,
  "nbformat_minor": 0,
  "metadata": {
    "colab": {
      "name": "textbook_algorithms.ipynb",
      "provenance": [],
      "collapsed_sections": [
        "GbFgwEIW83qL",
        "vum44toJd_bb",
        "QbpYdr9Ngoyq",
        "96A0m3YUZ8D9",
        "5cf9gaXCpmq4",
        "pnddp79QmZAl"
      ],
      "toc_visible": true,
      "include_colab_link": true
    },
    "kernelspec": {
      "display_name": "Python 3",
      "name": "python3"
    }
  },
  "cells": [
    {
      "cell_type": "markdown",
      "metadata": {
        "id": "view-in-github",
        "colab_type": "text"
      },
      "source": [
        "<a href=\"https://colab.research.google.com/github/praveentn/ml-repos/blob/master/qc/cirq/textbook_algorithms.ipynb\" target=\"_parent\"><img src=\"https://colab.research.google.com/assets/colab-badge.svg\" alt=\"Open In Colab\"/></a>"
      ]
    },
    {
      "cell_type": "markdown",
      "metadata": {
        "id": "cedf868076a2"
      },
      "source": [
        "##### Copyright 2020 The Cirq Developers"
      ]
    },
    {
      "cell_type": "code",
      "metadata": {
        "cellView": "form",
        "id": "906e07f6e562"
      },
      "source": [
        "#@title Licensed under the Apache License, Version 2.0 (the \"License\");\n",
        "# you may not use this file except in compliance with the License.\n",
        "# You may obtain a copy of the License at\n",
        "#\n",
        "# https://www.apache.org/licenses/LICENSE-2.0\n",
        "#\n",
        "# Unless required by applicable law or agreed to in writing, software\n",
        "# distributed under the License is distributed on an \"AS IS\" BASIS,\n",
        "# WITHOUT WARRANTIES OR CONDITIONS OF ANY KIND, either express or implied.\n",
        "# See the License for the specific language governing permissions and\n",
        "# limitations under the License."
      ],
      "execution_count": 1,
      "outputs": []
    },
    {
      "cell_type": "markdown",
      "metadata": {
        "id": "7c5ad5c66a5b"
      },
      "source": [
        "# Textbook algorithms in Cirq"
      ]
    },
    {
      "cell_type": "markdown",
      "metadata": {
        "id": "15bb25b1082e"
      },
      "source": [
        "<table class=\"tfo-notebook-buttons\" align=\"left\">\n",
        "  <td>\n",
        "    <a target=\"_blank\" href=\"https://quantumai.google/cirq/tutorials/educators/textbook_algorithms\"><img src=\"https://quantumai.google/site-assets/images/buttons/quantumai_logo_1x.png\" />View on QuantumAI</a>\n",
        "  </td>\n",
        "  <td>\n",
        "    <a target=\"_blank\" href=\"https://colab.research.google.com/github/quantumlib/Cirq/blob/master/docs/tutorials/educators/textbook_algorithms.ipynb\"><img src=\"https://quantumai.google/site-assets/images/buttons/colab_logo_1x.png\" />Run in Google Colab</a>\n",
        "  </td>\n",
        "  <td>\n",
        "    <a target=\"_blank\" href=\"https://github.com/quantumlib/Cirq/blob/master/docs/tutorials/educators/textbook_algorithms.ipynb\"><img src=\"https://quantumai.google/site-assets/images/buttons/github_logo_1x.png\" />View source on GitHub</a>\n",
        "  </td>\n",
        "  <td>\n",
        "    <a href=\"https://storage.googleapis.com/tensorflow_docs/Cirq/docs/tutorials/educators/textbook_algorithms.ipynb\"><img src=\"https://quantumai.google/site-assets/images/buttons/download_icon_1x.png\" />Download notebook</a>\n",
        "  </td>\n",
        "</table>"
      ]
    },
    {
      "cell_type": "markdown",
      "metadata": {
        "id": "lORoela1QICx"
      },
      "source": [
        "In this notebook we'll run through some Cirq implementations of some of the standard algorithms that one encounters in an introductory quantum computing course. In particular, we will discuss the quantum teleportation algorithm, quantum Fourier transform, phase estimation algorithm, and Grover's algorithm. The discussion here is expanded from examples found in the [Cirq examples](https://github.com/quantumlib/Cirq/tree/master/examples) directory."
      ]
    },
    {
      "cell_type": "code",
      "metadata": {
        "id": "pPMSHs4HQfSR",
        "colab": {
          "base_uri": "https://localhost:8080/"
        },
        "outputId": "89d3616c-4eef-49db-f4b0-8f44a65ed5bb"
      },
      "source": [
        "try:\n",
        "    import cirq\n",
        "except ImportError:\n",
        "    print(\"installing cirq...\")\n",
        "    !pip install cirq --quiet\n",
        "    print(\"installed cirq.\")"
      ],
      "execution_count": 2,
      "outputs": [
        {
          "output_type": "stream",
          "text": [
            "installing cirq...\n",
            "\u001b[K     |████████████████████████████████| 1.8MB 19.3MB/s \n",
            "\u001b[K     |████████████████████████████████| 1.3MB 42.1MB/s \n",
            "\u001b[?25hinstalled cirq.\n"
          ],
          "name": "stdout"
        }
      ]
    },
    {
      "cell_type": "code",
      "metadata": {
        "id": "57aaba33f657"
      },
      "source": [
        "import cirq\n",
        "import random\n",
        "import matplotlib.pyplot as plt\n",
        "import numpy as np"
      ],
      "execution_count": 3,
      "outputs": []
    },
    {
      "cell_type": "markdown",
      "metadata": {
        "id": "laCvAwThaADq"
      },
      "source": [
        "## Quantum teleportation"
      ]
    },
    {
      "cell_type": "markdown",
      "metadata": {
        "id": "xytEjvt9cD5L"
      },
      "source": [
        "Quantum teleportation is a process by which a quantum state can be transmitted by sending only two classical bits of information. This is accomplished by pre-sharing an entangled state between the sender (Alice) and the receiver (Bob). This entangled state allows the receiver (Bob) of the two classical bits of information to possess a qubit with the same state as the one held by the sender (Alice).\n",
        "\n",
        "In the cell below, we define a function which implements the circuit for quantum teleportation. This function inputs a gate which prepares the *message qubit* in some state to transmit from Alice to Bob.\n",
        "\n",
        "> For more background on quantum teleportation or to see the mathematics of why it works, check out [the original paper](https://journals.aps.org/prl/abstract/10.1103/PhysRevLett.70.1895) or the [Wikipedia page](https://en.wikipedia.org/wiki/Quantum_teleportation). "
      ]
    },
    {
      "cell_type": "code",
      "metadata": {
        "id": "Ex8ka640a5xN"
      },
      "source": [
        "def make_quantum_teleportation_circuit(gate):\n",
        "    \"\"\"Returns a circuit for quantum teleportation.\n",
        "    \n",
        "    This circuit 'teleports' a random qubit state prepared by\n",
        "    the input gate from Alice to Bob.\n",
        "    \"\"\"\n",
        "    circuit = cirq.Circuit()\n",
        "    \n",
        "    # Get the three qubits involved in the teleportation protocol.\n",
        "    msg = cirq.NamedQubit(\"Message\")\n",
        "    alice = cirq.NamedQubit(\"Alice\")\n",
        "    bob = cirq.NamedQubit(\"Bob\")\n",
        "    \n",
        "    # The input gate prepares the message to send.\n",
        "    circuit.append(gate(msg))\n",
        "\n",
        "    # Create a Bell state shared between Alice and Bob.\n",
        "    circuit.append([cirq.H(alice), cirq.CNOT(alice, bob)])\n",
        "    \n",
        "    # Bell measurement of the Message and Alice's entangled qubit.\n",
        "    circuit.append([cirq.CNOT(msg, alice), cirq.H(msg), cirq.measure(msg, alice)])\n",
        "\n",
        "    # Uses the two classical bits from the Bell measurement to recover the\n",
        "    # original quantum message on Bob's entangled qubit.\n",
        "    circuit.append([cirq.CNOT(alice, bob), cirq.CZ(msg, bob)])\n",
        "\n",
        "    return circuit"
      ],
      "execution_count": 4,
      "outputs": []
    },
    {
      "cell_type": "markdown",
      "metadata": {
        "id": "715674658f8c"
      },
      "source": [
        "Now, we define a gate to prepare the message qubit in some state, then visualize the teleportation circuit."
      ]
    },
    {
      "cell_type": "code",
      "metadata": {
        "id": "023602d016d8",
        "colab": {
          "base_uri": "https://localhost:8080/"
        },
        "outputId": "909aa117-49e2-48cd-bda7-ab17271de15b"
      },
      "source": [
        "\"\"\"Visualize the teleportation circuit.\"\"\"\n",
        "# Gate to put the message qubit in some state to send.\n",
        "gate = cirq.X ** 0.25\n",
        "\n",
        "# Create the teleportation circuit.\n",
        "circuit = make_quantum_teleportation_circuit(gate)\n",
        "print(\"Teleportation circuit:\\n\")\n",
        "print(circuit)"
      ],
      "execution_count": 5,
      "outputs": [
        {
          "output_type": "stream",
          "text": [
            "Teleportation circuit:\n",
            "\n",
            "Alice: ─────H────────@───X───────M───@───────\n",
            "                     │   │       │   │\n",
            "Bob: ────────────────X───┼───────┼───X───@───\n",
            "                         │       │       │\n",
            "Message: ───X^0.25───────@───H───M───────@───\n"
          ],
          "name": "stdout"
        }
      ]
    },
    {
      "cell_type": "markdown",
      "metadata": {
        "id": "18c3ed975229"
      },
      "source": [
        "As discussed, at the end of the circuit, Bob's qubit will be the state of the message qubit. We can verify this by simulating the circuit. First, we check what the state of the message qubit is given the above `gate`. "
      ]
    },
    {
      "cell_type": "code",
      "metadata": {
        "id": "d18db1bc5fb2",
        "colab": {
          "base_uri": "https://localhost:8080/"
        },
        "outputId": "b50f471e-6e14-46da-81ef-26787a03f8fd"
      },
      "source": [
        "\"\"\"Display the Bloch vector of the message qubit.\"\"\"\n",
        "message = cirq.Circuit(gate.on(cirq.NamedQubit(\"Message\"))).final_state_vector()\n",
        "message_bloch_vector = cirq.bloch_vector_from_state_vector(message, index=0)\n",
        "print(\"Bloch vector of message qubit:\")\n",
        "print(np.round(message_bloch_vector, 3))"
      ],
      "execution_count": 6,
      "outputs": [
        {
          "output_type": "stream",
          "text": [
            "Bloch vector of message qubit:\n",
            "[ 0.    -0.707  0.707]\n"
          ],
          "name": "stdout"
        }
      ]
    },
    {
      "cell_type": "markdown",
      "metadata": {
        "id": "7b59d87ff1ae"
      },
      "source": [
        "Now we simulate the entire teleportation circuit and check what the final state of Bob's qubit is."
      ]
    },
    {
      "cell_type": "code",
      "metadata": {
        "id": "4303441fdb1f",
        "colab": {
          "base_uri": "https://localhost:8080/"
        },
        "outputId": "5e21fe10-c5d5-4c7e-91a1-a36566252f88"
      },
      "source": [
        "\"\"\"Simulate the teleportation circuit and get the final state of Bob's qubit.\"\"\"\n",
        "# Get a simulator.\n",
        "sim = cirq.Simulator()\n",
        "\n",
        "# Simulate the teleportation circuit.\n",
        "result = sim.simulate(circuit)\n",
        "\n",
        "# Get the Bloch vector of Bob's qubit.\n",
        "bobs_bloch_vector = cirq.bloch_vector_from_state_vector(result.final_state_vector, index=1)\n",
        "print(\"Bloch vector of Bob's qubit:\")\n",
        "print(np.round(bobs_bloch_vector, 3))\n",
        "\n",
        "# Verify they are the same state!\n",
        "np.testing.assert_allclose(bobs_bloch_vector, message_bloch_vector, atol=1e-7)"
      ],
      "execution_count": 7,
      "outputs": [
        {
          "output_type": "stream",
          "text": [
            "Bloch vector of Bob's qubit:\n",
            "[ 0.    -0.707  0.707]\n"
          ],
          "name": "stdout"
        }
      ]
    },
    {
      "cell_type": "markdown",
      "metadata": {
        "id": "b906e52e2080"
      },
      "source": [
        "As we can see, the final state of Bob's qubit is the same as the initial state of the message qubit! One can change the `gate` above and re-run the protocol. The final state of Bob's qubit will always be the initial state of the message qubit."
      ]
    },
    {
      "cell_type": "markdown",
      "metadata": {
        "id": "5c6236bee54c"
      },
      "source": [
        "## Quantum Fourier transform"
      ]
    },
    {
      "cell_type": "markdown",
      "metadata": {
        "id": "LHcyAAtbQBdM"
      },
      "source": [
        "This section provides an overview of the quantum Fourier transform which we use in the next section for the phase estimation algorithm."
      ]
    },
    {
      "cell_type": "markdown",
      "metadata": {
        "id": "7bf118a787f0"
      },
      "source": [
        "### Overview of the quantum Fourier transform"
      ]
    },
    {
      "cell_type": "markdown",
      "metadata": {
        "id": "EKi8ZKeOI8MX"
      },
      "source": [
        "We'll start out by reminding ourselves what the [quantum Fourier transform](https://en.wikipedia.org/wiki/Quantum_Fourier_transform) does, and how it should be constructed.\n",
        "\n",
        "Suppose we have an $n$-qubit state $|x\\rangle$ where $x$ is an integer in the range $0$ to $2^{n}-1$. (That is, $|x\\rangle$ is a computational basis state.) The quantum Fourier transform (QFT) performs the following operation:\n",
        "\n",
        "$$\n",
        "\\text{QFT}|x\\rangle = \\frac{1}{2^{n/2}} \\sum_{y=0}^{2^n-1} e^{2\\pi i y x/2^n} |y\\rangle.\n",
        "$$\n",
        "\n",
        "> *Note*: The QFT maps from the computational basis to the frequency basis.\n",
        "\n",
        "Though it may not be obvious at first glance, the QFT is actually a unitary transformation. As a matrix, the QFT is given by\n",
        "\n",
        "$$\n",
        "\\text{QFT} = \\begin{bmatrix}\n",
        "1 & 1 & 1& \\cdots &1 \\\\\n",
        "1 & \\omega & \\omega^2& \\cdots &\\omega^{2^n-1} \\\\\n",
        "1 & \\omega^2 & \\omega^4& \\cdots &\\omega^{2(2^n-1)}\\\\\n",
        "\\vdots &\\vdots &\\vdots &\\ddots &\\vdots \\\\\n",
        "1 &\\omega^{2^n-1} &\\omega^{2(2^n-1)} &\\cdots &\\omega^{(2^n-1)(2^n-1)},\n",
        "\\end{bmatrix}\n",
        "$$\n",
        "\n",
        "where $\\omega = e^{2\\pi i /2^n}$. \n",
        "\n",
        "\n",
        "If you believe that the QFT is unitary, then you'll also notice from the matrix form that its inverse is given by a similar expression but with complex-conjugated coefficients:\n",
        "\n",
        "$$\n",
        "\\text{QFT}^{-1}|x\\rangle = \\frac{1}{2^{n/2}} \\sum_{y=0}^{2^n-1} e^{-2\\pi i y x/2^n} |y\\rangle.\n",
        "$$"
      ]
    },
    {
      "cell_type": "markdown",
      "metadata": {
        "id": "xyhgCosQK3j4"
      },
      "source": [
        "The construction of the QFT as a circuit follows a simple recursive form, though fully justifying it will take us too far from the main goal of this notebook. We really only need to know what the circuit looks like, and for that we can look at the following diagram:"
      ]
    },
    {
      "cell_type": "markdown",
      "metadata": {
        "id": "abfae01ae754"
      },
      "source": [
        "![QFT Circuit](https://upload.wikimedia.org/wikipedia/commons/6/61/Q_fourier_nqubits.png)"
      ]
    },
    {
      "cell_type": "markdown",
      "metadata": {
        "id": "q3fIRQhv6LVp"
      },
      "source": [
        "Here, $x_j$ represents the $j$th bit of the input $x$. The most significant bit is $x_1$ and the least significant bit is $x_n$ so that\n",
        "\n",
        "$$\n",
        "x = \\sum_{j=0}^{n-1} x_{j+1}2^j.\n",
        "$$\n",
        "\n",
        "As usual, $H$ is the Hadamard gate. The Controlled-$R_j$ gates are phase gates similar to the Controlled-$Z$ gate. In fact, for us it will be useful to just think of them as fractional powers of Controlled-$Z$ gates:\n",
        "\n",
        "$$\n",
        "CR_j = CZ^{\\large 1/2^{j-1}}\n",
        "$$\n",
        "\n",
        "Finally, on the far right of the above diagram we have the output representing the bits of $y$. The only difference between the left and right side is that the output bits are in *reversed order*: the most significant bit of $y$ is on the bottom and the least significant bit of $y$ is on the top. One can reverse this by including Swap gates at the end of the circuit."
      ]
    },
    {
      "cell_type": "markdown",
      "metadata": {
        "id": "2dyP_y5AGcWP"
      },
      "source": [
        "### Quantum Fourier transform as a circuit"
      ]
    },
    {
      "cell_type": "markdown",
      "metadata": {
        "id": "RJhjgemX8QXe"
      },
      "source": [
        "Let's define a generator which produces the QFT circuit. It should accept a list of qubits as input and `yield`s the gates to construct the QFT in the right order. A useful observation is that the the QFT circuit \"repeats\" smaller versions of itself as you move from left to right across the diagram."
      ]
    },
    {
      "cell_type": "code",
      "metadata": {
        "id": "Fu0wP9sLG94Z"
      },
      "source": [
        "def make_qft(qubits):\n",
        "    \"\"\"Generator for the QFT on a list of qubits.\n",
        "    \n",
        "    For four qubits, the answer is:\n",
        "    \n",
        "                          ┌───────┐   ┌────────────┐   ┌───────┐\n",
        "    0: ───H───@────────@───────────@───────────────────────────────────────\n",
        "              │        │           │\n",
        "    1: ───────@^0.5────┼─────H─────┼──────@─────────@──────────────────────\n",
        "                       │           │      │         │\n",
        "    2: ────────────────@^0.25──────┼──────@^0.5─────┼─────H────@───────────\n",
        "                                   │                │          │\n",
        "    3: ────────────────────────────@^(1/8)──────────@^0.25─────@^0.5───H───\n",
        "                      └───────┘   └────────────┘   └───────┘\n",
        "    \"\"\"\n",
        "    # Your code here!"
      ],
      "execution_count": 8,
      "outputs": []
    },
    {
      "cell_type": "markdown",
      "metadata": {
        "id": "GbFgwEIW83qL"
      },
      "source": [
        "#### Solution"
      ]
    },
    {
      "cell_type": "code",
      "metadata": {
        "id": "CtDX3krz87eC"
      },
      "source": [
        "def make_qft(qubits):\n",
        "    \"\"\"Generator for the QFT on a list of qubits.\"\"\"\n",
        "    qreg = list(qubits)\n",
        "    while len(qreg) > 0:\n",
        "        q_head = qreg.pop(0)\n",
        "        yield cirq.H(q_head)\n",
        "        for i, qubit in enumerate(qreg):\n",
        "            yield (cirq.CZ ** (1 / 2 ** (i + 1)))(qubit, q_head)"
      ],
      "execution_count": 9,
      "outputs": []
    },
    {
      "cell_type": "markdown",
      "metadata": {
        "id": "2f0e396fd3f1"
      },
      "source": [
        "We can check the solution agrees with the above diagram by printing it out for a small number of qubits."
      ]
    },
    {
      "cell_type": "code",
      "metadata": {
        "id": "nhbBPpf9GiHO",
        "colab": {
          "base_uri": "https://localhost:8080/"
        },
        "outputId": "6f07b0ca-b90e-4bda-fe27-d75e1a70a780"
      },
      "source": [
        "\"\"\"Visually check the QFT circuit.\"\"\"\n",
        "qubits = cirq.LineQubit.range(4)\n",
        "qft = cirq.Circuit(make_qft(qubits))\n",
        "print(qft)"
      ],
      "execution_count": 10,
      "outputs": [
        {
          "output_type": "stream",
          "text": [
            "                  ┌───────┐   ┌────────────┐   ┌───────┐\n",
            "0: ───H───@────────@───────────@───────────────────────────────────────\n",
            "          │        │           │\n",
            "1: ───────@^0.5────┼─────H─────┼──────@─────────@──────────────────────\n",
            "                   │           │      │         │\n",
            "2: ────────────────@^0.25──────┼──────@^0.5─────┼─────H────@───────────\n",
            "                               │                │          │\n",
            "3: ────────────────────────────@^(1/8)──────────@^0.25─────@^0.5───H───\n",
            "                  └───────┘   └────────────┘   └───────┘\n"
          ],
          "name": "stdout"
        }
      ]
    },
    {
      "cell_type": "markdown",
      "metadata": {
        "id": "f2dd439b93de"
      },
      "source": [
        "### Quantum Fourier transform as an operation"
      ]
    },
    {
      "cell_type": "markdown",
      "metadata": {
        "id": "316750b4674e"
      },
      "source": [
        "The QFT is such a common subroutine that it is actually a pre-defined gate/operation in Cirq. One can use `cirq.QuantumFourierTransformGate` to get the gate or the helper function `cirq.qft` with a sequence of qubits to get the operation."
      ]
    },
    {
      "cell_type": "code",
      "metadata": {
        "id": "725d3830c29c",
        "colab": {
          "base_uri": "https://localhost:8080/"
        },
        "outputId": "00402db6-e362-4a32-ea6a-c1530b2e13df"
      },
      "source": [
        "\"\"\"Use the built-in QFT in Cirq.\"\"\"\n",
        "qft_operation = cirq.qft(*qubits, without_reverse=True)\n",
        "qft_cirq = cirq.Circuit(qft_operation)\n",
        "print(qft_cirq)"
      ],
      "execution_count": 11,
      "outputs": [
        {
          "output_type": "stream",
          "text": [
            "0: ───qft[norev]───\n",
            "      │\n",
            "1: ───#2───────────\n",
            "      │\n",
            "2: ───#3───────────\n",
            "      │\n",
            "3: ───#4───────────\n"
          ],
          "name": "stdout"
        }
      ]
    },
    {
      "cell_type": "markdown",
      "metadata": {
        "id": "HgYjV70FfnDr"
      },
      "source": [
        "The function `cirq.qft` has the optional argument `without_reverse` which specifies whether or not to reverse the order of the bits at the end of the circuit. We can confirm the `make_qft` function we defined performs the same transformation as the built-in `cirq.qft` with the following test."
      ]
    },
    {
      "cell_type": "code",
      "metadata": {
        "id": "i3Ir6kjmDqtt"
      },
      "source": [
        "\"\"\"Check equality of the 'manual' and 'built-in' QFTs.\"\"\"\n",
        "np.testing.assert_allclose(cirq.unitary(qft), cirq.unitary(qft_cirq))"
      ],
      "execution_count": 12,
      "outputs": []
    },
    {
      "cell_type": "markdown",
      "metadata": {
        "id": "3f318cef3b36"
      },
      "source": [
        "### Inverse quantum Fourier transform as a circuit"
      ]
    },
    {
      "cell_type": "markdown",
      "metadata": {
        "id": "grSAE3QKf6JB"
      },
      "source": [
        "As mentioned, the only difference between the QFT and inverse QFT is the sign of the exponent of the controlled rotations. Using the `make_qft` function as a guide, complete the `make_qft_inverse` function below."
      ]
    },
    {
      "cell_type": "code",
      "metadata": {
        "id": "5bcdd1a76fa2"
      },
      "source": [
        "def make_qft_inverse(qubits):\n",
        "    \"\"\"Generator for the inverse QFT on a list of qubits.\n",
        "    \n",
        "    For four qubits, the answer is:\n",
        "    \n",
        "                       ┌────────┐   ┌──────────────┐   ┌────────┐\n",
        "    0: ───H───@─────────@────────────@───────────────────────────────────────────×───\n",
        "              │         │            │                                           │\n",
        "    1: ───────@^-0.5────┼──────H─────┼───────@──────────@────────────────────×───┼───\n",
        "                        │            │       │          │                    │   │\n",
        "    2: ─────────────────@^-0.25──────┼───────@^-0.5─────┼──────H────@────────×───┼───\n",
        "                                     │                  │           │            │\n",
        "    3: ──────────────────────────────@^(-1/8)───────────@^-0.25─────@^-0.5───H───×───\n",
        "                       └────────┘   └──────────────┘   └────────┘\n",
        "    \"\"\"\n",
        "    # Your code here!"
      ],
      "execution_count": 13,
      "outputs": []
    },
    {
      "cell_type": "markdown",
      "metadata": {
        "id": "8b1c36ce323f"
      },
      "source": [
        "#### Solution"
      ]
    },
    {
      "cell_type": "code",
      "metadata": {
        "id": "d1c6a6a99bf7"
      },
      "source": [
        "def make_qft_inverse(qubits):\n",
        "    \"\"\"Generator for the inverse QFT on a list of qubits.\"\"\"\n",
        "    qreg = list(qubits)[::-1]\n",
        "    while len(qreg) > 0:\n",
        "        q_head = qreg.pop(0)\n",
        "        yield cirq.H(q_head)\n",
        "        for i, qubit in enumerate(qreg):\n",
        "            yield (cirq.CZ ** (-1 / 2 ** (i + 1)))(qubit, q_head)"
      ],
      "execution_count": 14,
      "outputs": []
    },
    {
      "cell_type": "markdown",
      "metadata": {
        "id": "cf940ffa89a0"
      },
      "source": [
        "We can check the solution agrees with the above diagram by printing it out for a small number of qubits."
      ]
    },
    {
      "cell_type": "code",
      "metadata": {
        "id": "778b0a8dc5ad",
        "colab": {
          "base_uri": "https://localhost:8080/"
        },
        "outputId": "48b051c7-8d80-44ac-f4ad-a68459442b66"
      },
      "source": [
        "\"\"\"Visually check the inverse QFT circuit.\"\"\"\n",
        "qubits = cirq.LineQubit.range(4)\n",
        "iqft = cirq.Circuit(make_qft_inverse(qubits))\n",
        "print(iqft)"
      ],
      "execution_count": 15,
      "outputs": [
        {
          "output_type": "stream",
          "text": [
            "                   ┌────────┐   ┌──────────────┐   ┌────────┐\n",
            "0: ──────────────────────────────@──────────────────@───────────@────────H───\n",
            "                                 │                  │           │\n",
            "1: ─────────────────@────────────┼───────@──────────┼──────H────@^-0.5───────\n",
            "                    │            │       │          │\n",
            "2: ───────@─────────┼──────H─────┼───────@^-0.5─────@^-0.25──────────────────\n",
            "          │         │            │\n",
            "3: ───H───@^-0.5────@^-0.25──────@^(-1/8)────────────────────────────────────\n",
            "                   └────────┘   └──────────────┘   └────────┘\n"
          ],
          "name": "stdout"
        }
      ]
    },
    {
      "cell_type": "markdown",
      "metadata": {
        "id": "03c3c43b30bc"
      },
      "source": [
        "### Inverse quantum Fourier transform as an operation"
      ]
    },
    {
      "cell_type": "markdown",
      "metadata": {
        "id": "80dddaca5284"
      },
      "source": [
        "The function `cirq.qft` can be used with the optional argument `inverse=True` to return an inverse QFT operation as shown below."
      ]
    },
    {
      "cell_type": "code",
      "metadata": {
        "id": "c26fb1937ea5",
        "colab": {
          "base_uri": "https://localhost:8080/"
        },
        "outputId": "f67ba9f4-d7a5-4cb1-c193-d6f92eaee1c7"
      },
      "source": [
        "\"\"\"Use the built-in inverse QFT in Cirq.\"\"\"\n",
        "iqft_operation = cirq.qft(*qubits, inverse=True, without_reverse=True)\n",
        "iqft_cirq = cirq.Circuit(iqft_operation)\n",
        "print(iqft_cirq)"
      ],
      "execution_count": 16,
      "outputs": [
        {
          "output_type": "stream",
          "text": [
            "0: ───qft[norev]^-1───\n",
            "      │\n",
            "1: ───#2──────────────\n",
            "      │\n",
            "2: ───#3──────────────\n",
            "      │\n",
            "3: ───#4──────────────\n"
          ],
          "name": "stdout"
        }
      ]
    },
    {
      "cell_type": "markdown",
      "metadata": {
        "id": "b1bd9edb50dd"
      },
      "source": [
        "As above, we can check the `make_qft_inverse` function we defined performs the same transformation as the built-in Cirq function."
      ]
    },
    {
      "cell_type": "code",
      "metadata": {
        "id": "7ad3bf5b7d38"
      },
      "source": [
        "\"\"\"Check equality of the 'manual' and 'built-in' inverse QFTs.\"\"\"\n",
        "np.testing.assert_allclose(cirq.unitary(iqft), cirq.unitary(iqft_cirq))"
      ],
      "execution_count": 17,
      "outputs": []
    },
    {
      "cell_type": "markdown",
      "metadata": {
        "id": "3457bc296ce8"
      },
      "source": [
        "## Phase estimation"
      ]
    },
    {
      "cell_type": "markdown",
      "metadata": {
        "id": "r-CjbPwkRI_I"
      },
      "source": [
        "As an application of our quantum Fourier transform circuit, we'll implement the [phase estimation](https://en.wikipedia.org/wiki/Quantum_phase_estimation_algorithm) algorithm. The phase estimation algorithm estimates the eigenvalues of a unitary operator and uses the inverse QFT as a subroutine. The total circuit that we are going to implement is shown below."
      ]
    },
    {
      "cell_type": "markdown",
      "metadata": {
        "id": "gJ01TOhr4CQN"
      },
      "source": [
        ">![Phase Estimation](https://upload.wikimedia.org/wikipedia/commons/a/a5/PhaseCircuit-crop.svg)"
      ]
    },
    {
      "cell_type": "markdown",
      "metadata": {
        "id": "_15iEUy5Rk1o"
      },
      "source": [
        "Suppose we have a unitary operator $U$ with eigenvactor $|\\psi\\rangle$ and eigenvalue $\\exp(2\\pi i \\theta)$. (Every eigenvalue of a unitary can be written this way.) Our objective is to get an $n$-bit approximation to $\\theta$. The first step is to construct the state\n",
        "\n",
        "$$\n",
        "|\\Phi\\rangle = \\frac{1}{2^{n/2}}\\sum_{y=0}^{2^{n-1}} e^{2\\pi i y \\theta}|y\\rangle.\n",
        "$$\n",
        "\n",
        "This looks very similar to the output of the QFT applied to the state $|2^n\\theta\\rangle$, except for the fact that $2^n\\theta$ may not be an integer. If $2^n\\theta$ *were* an integer, then we would apply the inverse QFT and measure the qubits to read off the binary representation of $2^n\\theta$. Even if $2^n\\theta$ is not an integer, we can still perform the same procedure and the result will be a sequence of bits that, with high probility, gives an $n$-bit approximation to $\\theta$. We just have to repeat the procedure a few times to be sure of the answer."
      ]
    },
    {
      "cell_type": "markdown",
      "metadata": {
        "id": "sypcpUzLTxRK"
      },
      "source": [
        "Since we've already constructed the inverse QFT, all we really have to do is figure out how to construct the state $|\\Phi\\rangle$. This is accomplished by the first part of the circuit picutred above. We begin by applying $H^{\\otimes n}$ to the state $|0\\rangle$, creating an equal superposition over all basis states:\n",
        "\n",
        "$$\n",
        "H^{\\otimes n} |0\\rangle = \\frac{1}{2^{n/2}}\\sum_{y=0}^{2^n-1}|y\\rangle.\n",
        "$$\n",
        "\n",
        "Now we need to insert the correct phase coefficients. This is done by a sequence of Controlled-$U^k$ operations, where the qubits of $y$ are the controls and the $U^k$ operations act on $|\\psi \\rangle$.\n",
        "\n",
        "Let's try to implement this part of the procedure in Cirq, and then put it together with the inverse QFT from above. For the gate $U$ we'll pick the single-qubit operation\n",
        "\n",
        "$$\n",
        "U = Z^{2\\theta} = \\begin{bmatrix}\n",
        "1 & 0 \\\\\n",
        "0 & e^{2\\pi i \\theta }\n",
        "\\end{bmatrix}\n",
        "$$\n",
        "\n",
        "for $\\theta \\in [0,1)$. This is just for simplicity and ease of testing. You are invited to write an implementation that accepts an arbitrary $U$."
      ]
    },
    {
      "cell_type": "code",
      "metadata": {
        "id": "856ededbc425"
      },
      "source": [
        "\"\"\"Set up the unitary and number of bits to use in phase estimation.\"\"\"\n",
        "# Value of θ which appears in the definition of the unitary U above.\n",
        "# Try different values.\n",
        "theta = 0.234\n",
        "\n",
        "# Define the unitary U.\n",
        "U = cirq.Z ** (2 * theta)\n",
        "\n",
        "# Accuracy of the estimate for theta. Try different values.\n",
        "n_bits = 3"
      ],
      "execution_count": 18,
      "outputs": []
    },
    {
      "cell_type": "markdown",
      "metadata": {
        "id": "fbf130991336"
      },
      "source": [
        "Now we can build the first part of the circuit (up until the inverse QFT) for phase estimation."
      ]
    },
    {
      "cell_type": "code",
      "metadata": {
        "id": "OIN8QfUeJyI9",
        "colab": {
          "base_uri": "https://localhost:8080/"
        },
        "outputId": "8d8c7263-8893-427c-f08d-d8869255743e"
      },
      "source": [
        "\"\"\"Build the first part of the circuit for phase estimation.\"\"\"\n",
        "# Get qubits for the phase estimation circuit.\n",
        "qubits = cirq.LineQubit.range(n_bits)\n",
        "u_bit = cirq.NamedQubit('u')\n",
        "\n",
        "# Build the first part of the phase estimation circuit.\n",
        "phase_estimator = cirq.Circuit(cirq.H.on_each(*qubits))\n",
        "\n",
        "for i, bit in enumerate(qubits):\n",
        "    phase_estimator.append(cirq.ControlledGate(U).on(bit, u_bit) ** (2 ** (n_bits - i - 1)))\n",
        "\n",
        "print(phase_estimator)"
      ],
      "execution_count": 19,
      "outputs": [
        {
          "output_type": "stream",
          "text": [
            "0: ───H───@──────────────────────────────\n",
            "          │\n",
            "1: ───H───┼──────────@───────────────────\n",
            "          │          │\n",
            "2: ───H───┼──────────┼─────────@─────────\n",
            "          │          │         │\n",
            "u: ───────Z^-0.128───Z^0.936───Z^0.468───\n"
          ],
          "name": "stdout"
        }
      ]
    },
    {
      "cell_type": "markdown",
      "metadata": {
        "id": "QTVJnv8Yx5bm"
      },
      "source": [
        "The next step is to perform the inverse QFT on the estimation qubits and measure them."
      ]
    },
    {
      "cell_type": "code",
      "metadata": {
        "id": "8KCn-gjxM2H9",
        "colab": {
          "base_uri": "https://localhost:8080/"
        },
        "outputId": "95434f0e-b1e9-49ee-a3df-bde302347cca"
      },
      "source": [
        "\"\"\"Build the last part of the circuit (inverse QFT) for phase estimation.\"\"\"\n",
        "# Do the inverse QFT.\n",
        "phase_estimator.append(make_qft_inverse(qubits[::-1]))\n",
        "\n",
        "# Add measurements to the end of the circuit\n",
        "phase_estimator.append(cirq.measure(*qubits, key='m'))\n",
        "print(phase_estimator)"
      ],
      "execution_count": 20,
      "outputs": [
        {
          "output_type": "stream",
          "text": [
            "                                         ┌────────┐\n",
            "0: ───H───@──────────H─────────@──────────@────────────────────────M('m')───\n",
            "          │                    │          │                        │\n",
            "1: ───H───┼──────────@─────────@^-0.5─────┼──────H────@────────────M────────\n",
            "          │          │                    │           │            │\n",
            "2: ───H───┼──────────┼─────────@──────────@^-0.25─────@^-0.5───H───M────────\n",
            "          │          │         │\n",
            "u: ───────Z^-0.128───Z^0.936───Z^0.468──────────────────────────────────────\n",
            "                                         └────────┘\n"
          ],
          "name": "stdout"
        }
      ]
    },
    {
      "cell_type": "markdown",
      "metadata": {
        "id": "smlXIG1QyPyR"
      },
      "source": [
        "The initial state for `u_bit` is the $|0\\rangle$ state, but the phase for this state is trivial with the operator we chose. Inserting a Pauli $X$ operator at the begining of the circuit changes this to the $|1\\rangle$ state, which has the nontrivial $\\theta$ phase. "
      ]
    },
    {
      "cell_type": "code",
      "metadata": {
        "id": "g_rNMrkXPJ0R",
        "colab": {
          "base_uri": "https://localhost:8080/"
        },
        "outputId": "7dab8669-d6ae-4dd0-a8fe-db74ae1ea50d"
      },
      "source": [
        "\"\"\"Set the input state of the eigenvalue register.\"\"\"\n",
        "# Add gate to change initial state to |1>.\n",
        "phase_estimator.insert(0, cirq.X(u_bit))\n",
        "\n",
        "print(phase_estimator)"
      ],
      "execution_count": 21,
      "outputs": [
        {
          "output_type": "stream",
          "text": [
            "                                         ┌────────┐\n",
            "0: ───H───@──────────H─────────@──────────@────────────────────────M('m')───\n",
            "          │                    │          │                        │\n",
            "1: ───H───┼──────────@─────────@^-0.5─────┼──────H────@────────────M────────\n",
            "          │          │                    │           │            │\n",
            "2: ───H───┼──────────┼─────────@──────────@^-0.25─────@^-0.5───H───M────────\n",
            "          │          │         │\n",
            "u: ───X───Z^-0.128───Z^0.936───Z^0.468──────────────────────────────────────\n",
            "                                         └────────┘\n"
          ],
          "name": "stdout"
        }
      ]
    },
    {
      "cell_type": "markdown",
      "metadata": {
        "id": "j2HIBKbEy7gV"
      },
      "source": [
        "Now we can intstantiate a simulator and make measurements of the estimation qubits. Let the values of these measured qubits be $a_j \\in \\{0, 1\\}$. Then our $n$-bit approximation for $\\theta$ is given by\n",
        "\n",
        "$$\n",
        "\\theta \\approx \\sum_{j=0}^n a_j2^{-j}.\n",
        "$$\n",
        "\n",
        "We'll perform this conversion from bit values to $\\theta$-values and then print the results."
      ]
    },
    {
      "cell_type": "code",
      "metadata": {
        "id": "-pE7CC_uPfq2",
        "colab": {
          "base_uri": "https://localhost:8080/"
        },
        "outputId": "2a26d703-f21b-4c34-9ce6-b64bcd286ff1"
      },
      "source": [
        "\"\"\"Simulate the circuit and convert from measured bit values to estimated θ values.\"\"\"\n",
        "# Simulate the circuit.\n",
        "sim = cirq.Simulator()\n",
        "result = sim.run(phase_estimator, repetitions=10)\n",
        "\n",
        "# Convert from output bitstrings to estimate θ values.\n",
        "theta_estimates = np.sum(2 ** np.arange(n_bits) * result.measurements['m'], axis=1) / 2**n_bits\n",
        "print(theta_estimates)"
      ],
      "execution_count": 22,
      "outputs": [
        {
          "output_type": "stream",
          "text": [
            "[0.25  0.25  0.25  0.25  0.25  0.25  0.125 0.25  0.25  0.25 ]\n"
          ],
          "name": "stdout"
        }
      ]
    },
    {
      "cell_type": "markdown",
      "metadata": {
        "id": "PMke93CrzezN"
      },
      "source": [
        "When `n_bits` is small, we don't get a very accurate estimate. To test the accuracy of the estimate vs. `n_bits`, let's pack all this up into a single function that lets us specify $\\theta$, the number of bits of of accuracy we want in our approximation, and the number of repetitions of the algorithm to perform. For future purposes, let's also include an argument for the gate which acts on `u_bit` at the start of the circuit to prepare the eigenstate."
      ]
    },
    {
      "cell_type": "markdown",
      "metadata": {
        "id": "42fa4bb40a20"
      },
      "source": [
        "### Exercise: Define a function for phase estimation"
      ]
    },
    {
      "cell_type": "markdown",
      "metadata": {
        "id": "945deff89431"
      },
      "source": [
        "You could just copy/paste from the previous cells, but it might be a useful exercise to write the whole thing from scratch without peeking."
      ]
    },
    {
      "cell_type": "code",
      "metadata": {
        "id": "t3EYxglfpgbh"
      },
      "source": [
        "def phase_estimation(theta, n_bits, n_reps=10, prepare_eigenstate_gate=cirq.X):\n",
        "    \"\"\"Runs the phase estimate algorithm for unitary U=Z^{2θ} with n_bits qubits.\"\"\"\n",
        "    # Define qubit registers.\n",
        "    qubits = cirq.LineQubit.range(n_bits)\n",
        "    u_bit = cirq.NamedQubit('u')\n",
        "\n",
        "    # Define the unitary U.\n",
        "    U = cirq.Z ** (2 * theta)\n",
        "\n",
        "    # Your code here!\n",
        "    # ...\n",
        "    \n",
        "    # Gate to choose initial state for the u_bit. Placing X here chooses the |1> state.\n",
        "    phase_estimator.insert(0, prepare_eigenstate_gate.on(u_bit))\n",
        "    \n",
        "    # You code here!\n",
        "    # theta_estimates = ...\n",
        "    \n",
        "    return theta_estimates"
      ],
      "execution_count": 23,
      "outputs": []
    },
    {
      "cell_type": "markdown",
      "metadata": {
        "id": "5cf9gaXCpmq4"
      },
      "source": [
        "#### Solution"
      ]
    },
    {
      "cell_type": "markdown",
      "metadata": {
        "id": "fC5oUxNtppVo"
      },
      "source": [
        "Here is a solution that just consists of what we did in previous cells all put together."
      ]
    },
    {
      "cell_type": "code",
      "metadata": {
        "id": "TXxJ_ZjeWFqy"
      },
      "source": [
        "def phase_estimation(theta, n_bits, n_reps=10, prepare_eigenstate_gate=cirq.X):\n",
        "    # Define qubit registers.\n",
        "    qubits = cirq.LineQubit.range(n_bits)\n",
        "    u_bit = cirq.NamedQubit('u')\n",
        "\n",
        "    # Define the unitary U.\n",
        "    U = cirq.Z ** (2 * theta)\n",
        "\n",
        "    # Start with Hadamards on every qubit.\n",
        "    phase_estimator = cirq.Circuit(cirq.H.on_each(*qubits))\n",
        "\n",
        "    # Do the controlled powers of the unitary U.\n",
        "    for i, bit in enumerate(qubits):\n",
        "        phase_estimator.append(cirq.ControlledGate(U).on(bit, u_bit) ** (2 ** (n_bits - 1 - i)))\n",
        "        \n",
        "    # Do the inverse QFT.\n",
        "    phase_estimator.append(make_qft_inverse(qubits[::-1]))\n",
        "\n",
        "    # Add measurements.\n",
        "    phase_estimator.append(cirq.measure(*qubits, key='m'))\n",
        "\n",
        "    # Gate to choose initial state for the u_bit. Placing X here chooses the |1> state.\n",
        "    phase_estimator.insert(0, prepare_eigenstate_gate.on(u_bit))\n",
        "\n",
        "    # Code to simulate measurements\n",
        "    sim = cirq.Simulator()\n",
        "    result = sim.run(phase_estimator, repetitions=n_reps)\n",
        "\n",
        "    # Convert measurements into estimates of theta\n",
        "    theta_estimates = np.sum(2**np.arange(n_bits)*result.measurements['m'], axis=1)/2**n_bits\n",
        "\n",
        "    return theta_estimates"
      ],
      "execution_count": 24,
      "outputs": []
    },
    {
      "cell_type": "markdown",
      "metadata": {
        "id": "dbb852dc515a"
      },
      "source": [
        "Now we can easily examine the accuracy of the estimate vs `n_bits`. We do so for a variety of values for `n_bits` in the following cell."
      ]
    },
    {
      "cell_type": "code",
      "metadata": {
        "id": "5749cf9469da"
      },
      "source": [
        "\"\"\"Analyze convergence vs n_bits.\"\"\"\n",
        "# Set the value of theta. Try different values.\n",
        "theta = 0.123456\n",
        "\n",
        "nvals = np.arange(1, 16, step=1)\n",
        "\n",
        "# Get the estimates at each value of n.\n",
        "estimates = []\n",
        "for n in nvals:\n",
        "    estimate = phase_estimation(theta=theta, n_bits=n, n_reps=1)[0]\n",
        "    estimates.append(estimate)"
      ],
      "execution_count": 25,
      "outputs": []
    },
    {
      "cell_type": "markdown",
      "metadata": {
        "id": "e3fc074b1e6c"
      },
      "source": [
        "And now we make a plot of the $\\theta$ estimates vs. the number of bits."
      ]
    },
    {
      "cell_type": "code",
      "metadata": {
        "id": "a8abf4de37bf",
        "colab": {
          "base_uri": "https://localhost:8080/",
          "height": 276
        },
        "outputId": "df622424-2be8-48ad-cc0b-a23f590cfce2"
      },
      "source": [
        "\"\"\"Plot the results.\"\"\"\n",
        "plt.style.use(\"seaborn-whitegrid\")\n",
        "\n",
        "plt.plot(nvals, estimates, \"--o\", label=\"Phase estimation\")\n",
        "plt.axhline(theta, label=\"True value\", color=\"black\")\n",
        "\n",
        "plt.legend()\n",
        "plt.xlabel(\"Number of bits\")\n",
        "plt.ylabel(r\"$\\theta$\");"
      ],
      "execution_count": 26,
      "outputs": [
        {
          "output_type": "display_data",
          "data": {
            "image/png": "[encoded data removed]",
            "text/plain": [
              "<Figure size 432x288 with 1 Axes>"
            ]
          },
          "metadata": {
            "tags": []
          }
        }
      ]
    },
    {
      "cell_type": "markdown",
      "metadata": {
        "id": "4e1e728d41d8"
      },
      "source": [
        "#### Phase Estimation Without an Eigenstate"
      ]
    },
    {
      "cell_type": "markdown",
      "metadata": {
        "id": "cr-NVLG2loo7"
      },
      "source": [
        "What if the input to the circuit was not an eigenstate of $U$ at all? We can always decompose such a state in the eigenbasis of $U$ as\n",
        "\n",
        "$$\n",
        "\\sum_j \\alpha_j|u_j\\rangle\n",
        "$$\n",
        "\n",
        "where $U |u_j\\rangle = e^{2 \\pi i \\theta_j} |u_j\\rangle$. Then each time we run the circuit we will get an $n$-bit estimate of one of the $\\theta_j$ chosen at random, and the probability of choosing a particular $\\theta_j$ is given by $|\\alpha_j|^2$. "
      ]
    },
    {
      "cell_type": "markdown",
      "metadata": {
        "id": "8f227e1689eb"
      },
      "source": [
        "One simple test of this is to modify our above code to pass the state\n",
        "\n",
        "$$\n",
        "|+\\rangle = \\frac{|0\\rangle + |1\\rangle}{\\sqrt{2}}\n",
        "$$\n",
        "\n",
        "into the phase estimator for $Z^{2\\theta}$. The state $|0\\rangle$ has eigenvalue $1$ while the state $|1\\rangle$ has eigenvalue $e^{2\\pi i \\theta_j}$. We can do this with the `prepare_eigenstate_gate` argument to the `phase_estimation_function`, as shown below."
      ]
    },
    {
      "cell_type": "code",
      "metadata": {
        "id": "3790a1ba19ac",
        "colab": {
          "base_uri": "https://localhost:8080/"
        },
        "outputId": "bec93f81-608a-4674-ba97-c36958f7eaac"
      },
      "source": [
        "\"\"\"Run phase estimation without starting in an eigenstate.\"\"\"\n",
        "# Value of theta.\n",
        "theta = 0.123456\n",
        "\n",
        "# Number of qubits.\n",
        "n = 4\n",
        "\n",
        "# Run phase estimation starting in the state H|0⟩ = |+⟩.\n",
        "res = phase_estimation(theta=theta, n_bits=n, n_reps=10, prepare_eigenstate_gate=cirq.H)\n",
        "print(res)"
      ],
      "execution_count": 27,
      "outputs": [
        {
          "output_type": "stream",
          "text": [
            "[0.    0.    0.125 0.125 0.    0.125 0.125 0.    0.125 0.   ]\n"
          ],
          "name": "stdout"
        }
      ]
    },
    {
      "cell_type": "markdown",
      "metadata": {
        "id": "wzTnTpC2oL79"
      },
      "source": [
        "Notice that roughly half of the measurements yielded the estimate $0$ (which corresponds to the eigenvaule $1$) and roughly half yield the estimate of `theta`. This is expected because the initial state $|+\\rangle$ is an equal superposition of the two eigenstates of $U = Z^{2 \\theta}$."
      ]
    },
    {
      "cell_type": "markdown",
      "metadata": {
        "id": "9dd855b44451"
      },
      "source": [
        "Often we won't be able to prepare an exact eigenstate of the operator $U$ we are interested in, so it's very useful to know about this feature of phase estimation. This is crucial for understanding [Shor's algorithm](https://en.wikipedia.org/wiki/Shor%27s_algorithm), for instance."
      ]
    },
    {
      "cell_type": "markdown",
      "metadata": {
        "id": "zQzAYK-VNVDu"
      },
      "source": [
        "### Exercise: Quantum Fourier transform with unreversed output\n",
        "\n",
        "As mentioned, the `cirq.qft` function has an argument `without_reverse` for whether or not to reverse the output bits. Add a similar argument to our `make_qft` function which does the same thing. You may want to consider using SWAP gates."
      ]
    },
    {
      "cell_type": "markdown",
      "metadata": {
        "id": "EG6cDFWJk-ZS"
      },
      "source": [
        "### Exercise: Phase estimation with arbitrary $U$\n",
        "\n",
        "Try to implement the phase estimation algorithm in a way that an arbitrary gate $U$ can be supplied and tested. After you've done that, you can test the algorithm on some of your favorite two- or three-qubit gates."
      ]
    },
    {
      "cell_type": "markdown",
      "metadata": {
        "id": "9WKZoaav0dtt"
      },
      "source": [
        "### Exercise: QFT and phase estimation with adjacency constraints\n",
        "\n",
        "Often on a real machine we can't execute two-qubit gates between qubits that are not right next to each other. You'll have noticed that the circuits we defined above involves connections between many different pairs of qubits, which will likely not all be near each other when we try to run the circuit on an actual chip. See if you can modify the examples we went through above in such a way that Cirq validates them for use on the Foxtail or Bristlecone chips."
      ]
    },
    {
      "cell_type": "markdown",
      "metadata": {
        "id": "fc3c5c22fb96"
      },
      "source": [
        "## Grover's algorithm"
      ]
    },
    {
      "cell_type": "markdown",
      "metadata": {
        "id": "ksA-fvrZaT5g"
      },
      "source": [
        "Consider bitstrings of length $n$ and let $x' \\in \\{0, 1\\}^{n}$ be a \"marked\" bitstring we wish to find. Grover's algorithm takes a black-box oracle implementing a function $f : \\{0, 1\\}^n \\rightarrow \\{0, 1\\}$ defined by \n",
        "\n",
        "$$\n",
        "f(x) = 1\\text{ if } x = x',~~~~ f(x) = 0 \\text{ if } x \\neq x'\n",
        "$$ \n",
        "\n",
        "to find such a bitsting $x'$. Grover's algorithm uses $O(\\sqrt{N}$) operations and $O(N\\, \\log N$) gates and succeeds with probability $p \\geq 2/3$."
      ]
    },
    {
      "cell_type": "markdown",
      "metadata": {
        "id": "86599076105d"
      },
      "source": [
        "Below, we walk through a simple implementation of Grover's algorithm described in [this reference](https://arxiv.org/abs/1804.03719). This implementation only supports $n = 2$ (for which one application of the Grover iteration is enough).\n",
        "\n",
        "First we define our qubit registers. We use $n = 2$ bits in one register and an additional ancilla qubit for phase kickback."
      ]
    },
    {
      "cell_type": "code",
      "metadata": {
        "id": "dae0e3e0d1bf"
      },
      "source": [
        "\"\"\"Get qubits to use in the circuit for Grover's algorithm.\"\"\"\n",
        "# Number of qubits n.\n",
        "nqubits = 2\n",
        "\n",
        "# Get qubit registers.\n",
        "qubits = cirq.LineQubit.range(nqubits)\n",
        "ancilla = cirq.NamedQubit(\"Ancilla\")"
      ],
      "execution_count": 28,
      "outputs": []
    },
    {
      "cell_type": "markdown",
      "metadata": {
        "id": "4a55fe70ea9a"
      },
      "source": [
        "We now define a generator to yield the operations for the oracle. As discussed in the above reference, the oracle can be implemented by a Toffoli gate if all the bits in $x'$ are $1$. If some bits are $0$, we do an \"open control\" (control on the $|0\\rangle$ state) for these bits. This can be accomplished by flipping every $0$ bit with $X$ gates, performing a Tofolli, then undoing the $X$ gates."
      ]
    },
    {
      "cell_type": "code",
      "metadata": {
        "id": "0425db9fa9b0"
      },
      "source": [
        "def make_oracle(qubits, ancilla, xprime):\n",
        "    \"\"\"Implements the function {f(x) = 1 if x == x', f(x) = 0 if x != x'}.\"\"\"\n",
        "    # For x' = (1, 1), the oracle is just a Toffoli gate.\n",
        "    # For a general x', we negate the zero bits and implement a Toffoli.\n",
        "    \n",
        "    # Negate zero bits, if necessary.\n",
        "    yield (cirq.X(q) for (q, bit) in zip(qubits, xprime) if not bit)\n",
        "    \n",
        "    # Do the Toffoli.\n",
        "    yield (cirq.TOFFOLI(qubits[0], qubits[1], ancilla))\n",
        "    \n",
        "    # Negate zero bits, if necessary.\n",
        "    yield (cirq.X(q) for (q, bit) in zip(qubits, xprime) if not bit)"
      ],
      "execution_count": 29,
      "outputs": []
    },
    {
      "cell_type": "markdown",
      "metadata": {
        "id": "e345344581e3"
      },
      "source": [
        "Now that we have a function to implement the oracle, we can construct a function to implement one round of Grover's iteration."
      ]
    },
    {
      "cell_type": "code",
      "metadata": {
        "id": "6a8deed363e0"
      },
      "source": [
        "def grover_iteration(qubits, ancilla, oracle):\n",
        "    \"\"\"Performs one round of the Grover iteration.\"\"\"\n",
        "    circuit = cirq.Circuit()\n",
        "\n",
        "    # Create an equal superposition over input qubits.\n",
        "    circuit.append(cirq.H.on_each(*qubits))\n",
        "    \n",
        "    # Put the output qubit in the |-⟩ state.\n",
        "    circuit.append([cirq.X(ancilla), cirq.H(ancilla)])\n",
        "\n",
        "    # Query the oracle.\n",
        "    circuit.append(oracle)\n",
        "\n",
        "    # Construct Grover operator.\n",
        "    circuit.append(cirq.H.on_each(*qubits))\n",
        "    circuit.append(cirq.X.on_each(*qubits))\n",
        "    circuit.append(cirq.H.on(qubits[1]))\n",
        "    circuit.append(cirq.CNOT(qubits[0], qubits[1]))\n",
        "    circuit.append(cirq.H.on(qubits[1]))\n",
        "    circuit.append(cirq.X.on_each(*qubits))\n",
        "    circuit.append(cirq.H.on_each(*qubits))\n",
        "\n",
        "    # Measure the input register.\n",
        "    circuit.append(cirq.measure(*qubits, key=\"result\"))\n",
        "\n",
        "    return circuit"
      ],
      "execution_count": 30,
      "outputs": []
    },
    {
      "cell_type": "markdown",
      "metadata": {
        "id": "992a9b48b6af"
      },
      "source": [
        "We now select the bitstring $x'$ at random."
      ]
    },
    {
      "cell_type": "code",
      "metadata": {
        "id": "033b376b387d",
        "colab": {
          "base_uri": "https://localhost:8080/"
        },
        "outputId": "1f1fed38-ea05-42eb-a0a8-0f3aa78cc097"
      },
      "source": [
        "\"\"\"Select a 'marked' bitstring x' at random.\"\"\"\n",
        "xprime = [random.randint(0, 1) for _ in range(nqubits)]\n",
        "print(f\"Marked bitstring: {xprime}\")"
      ],
      "execution_count": 31,
      "outputs": [
        {
          "output_type": "stream",
          "text": [
            "Marked bitstring: [1, 0]\n"
          ],
          "name": "stdout"
        }
      ]
    },
    {
      "cell_type": "markdown",
      "metadata": {
        "id": "6967a1252d03"
      },
      "source": [
        "And now create the circuit for Grover's algorithm."
      ]
    },
    {
      "cell_type": "code",
      "metadata": {
        "id": "gaUMhMV0aaVB",
        "colab": {
          "base_uri": "https://localhost:8080/"
        },
        "outputId": "dac6ca16-0763-4400-b10a-62801a46dcbb"
      },
      "source": [
        "\"\"\"Create the circuit for Grover's algorithm.\"\"\"\n",
        "# Make oracle (black box)\n",
        "oracle = make_oracle(qubits, ancilla, xprime)\n",
        "\n",
        "# Embed the oracle into a quantum circuit implementing Grover's algorithm.\n",
        "circuit = grover_iteration(qubits, ancilla, oracle)\n",
        "print(\"Circuit for Grover's algorithm:\")\n",
        "print(circuit)"
      ],
      "execution_count": 32,
      "outputs": [
        {
          "output_type": "stream",
          "text": [
            "Circuit for Grover's algorithm:\n",
            "0: ─────────H───────@───H───X───────────@───X───H───────M('result')───\n",
            "                    │                   │               │\n",
            "1: ─────────H───X───@───X───H───X───H───X───H───X───H───M─────────────\n",
            "                    │\n",
            "Ancilla: ───X───H───X─────────────────────────────────────────────────\n"
          ],
          "name": "stdout"
        }
      ]
    },
    {
      "cell_type": "markdown",
      "metadata": {
        "id": "bb73c2e93119"
      },
      "source": [
        "All that is left is to simulate the circuit and check if the sampled bitstring(s) match with the marked bitstring $x'$."
      ]
    },
    {
      "cell_type": "code",
      "metadata": {
        "id": "18c803b9ca8b",
        "colab": {
          "base_uri": "https://localhost:8080/"
        },
        "outputId": "600f56cf-0b31-432a-d9de-59fcf8acf395"
      },
      "source": [
        "\"\"\"Simulate the circuit for Grover's algorithm and check the output.\"\"\"\n",
        "# Helper function.\n",
        "def bitstring(bits):\n",
        "    return \"\".join(str(int(b)) for b in bits)\n",
        "\n",
        "# Sample from the circuit a couple times.\n",
        "simulator = cirq.Simulator()\n",
        "result = simulator.run(circuit, repetitions=10)\n",
        "\n",
        "# Look at the sampled bitstrings.\n",
        "frequencies = result.histogram(key=\"result\", fold_func=bitstring)\n",
        "print('Sampled results:\\n{}'.format(frequencies))\n",
        "\n",
        "# Check if we actually found the secret value.\n",
        "most_common_bitstring = frequencies.most_common(1)[0][0]\n",
        "print(\"\\nMost common bitstring: {}\".format(most_common_bitstring))\n",
        "print(\"Found a match? {}\".format(most_common_bitstring == bitstring(xprime)))"
      ],
      "execution_count": 33,
      "outputs": [
        {
          "output_type": "stream",
          "text": [
            "Sampled results:\n",
            "Counter({'10': 10})\n",
            "\n",
            "Most common bitstring: 10\n",
            "Found a match? True\n"
          ],
          "name": "stdout"
        }
      ]
    },
    {
      "cell_type": "markdown",
      "metadata": {
        "id": "8e29ca81ae30"
      },
      "source": [
        "We see that we indeed found the marked bitstring $x'$. One can rerun these cells to select a new bitstring $x'$ and check that Grover's algorithm can again find it."
      ]
    },
    {
      "cell_type": "code",
      "metadata": {
        "id": "zwTffq_3fKq9"
      },
      "source": [
        ""
      ],
      "execution_count": null,
      "outputs": []
    }
  ]
}